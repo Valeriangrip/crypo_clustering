{
 "cells": [
  {
   "cell_type": "markdown",
   "metadata": {},
   "source": [
    "# Clustering Crypto"
   ]
  },
  {
   "cell_type": "code",
   "execution_count": 650,
   "metadata": {},
   "outputs": [],
   "source": [
    "# Initial imports\n",
    "import requests\n",
    "import pandas as pd\n",
    "import matplotlib.pyplot as plt\n",
    "import hvplot.pandas\n",
    "import plotly.express as px\n",
    "from sklearn.preprocessing import StandardScaler, MinMaxScaler, LabelEncoder\n",
    "from sklearn.decomposition import PCA\n",
    "from sklearn.cluster import KMeans\n",
    "\n",
    "\n",
    "\n",
    "from pathlib import Path"
   ]
  },
  {
   "cell_type": "markdown",
   "metadata": {},
   "source": [
    "### Fetching Cryptocurrency Data"
   ]
  },
  {
   "cell_type": "code",
   "execution_count": 651,
   "metadata": {},
   "outputs": [],
   "source": [
    "# Alternatively, use the provided csv file:\n",
    "file_path = Path(\"crypto_data.csv\")\n",
    "# Create a DataFrame\n",
    "# Keep only necessary columns:\n",
    "# 'CoinName','Algorithm','IsTrading','ProofType','TotalCoinsMined','TotalCoinSupply'\n",
    "crypto_df = pd.read_csv(file_path,index_col=\"Unnamed: 0\")"
   ]
  },
  {
   "cell_type": "markdown",
   "metadata": {},
   "source": [
    "### Data Preprocessing"
   ]
  },
  {
   "cell_type": "code",
   "execution_count": 652,
   "metadata": {},
   "outputs": [
    {
     "data": {
      "text/html": [
       "<div>\n",
       "<style scoped>\n",
       "    .dataframe tbody tr th:only-of-type {\n",
       "        vertical-align: middle;\n",
       "    }\n",
       "\n",
       "    .dataframe tbody tr th {\n",
       "        vertical-align: top;\n",
       "    }\n",
       "\n",
       "    .dataframe thead th {\n",
       "        text-align: right;\n",
       "    }\n",
       "</style>\n",
       "<table border=\"1\" class=\"dataframe\">\n",
       "  <thead>\n",
       "    <tr style=\"text-align: right;\">\n",
       "      <th></th>\n",
       "      <th>CoinName</th>\n",
       "      <th>Algorithm</th>\n",
       "      <th>IsTrading</th>\n",
       "      <th>ProofType</th>\n",
       "      <th>TotalCoinsMined</th>\n",
       "      <th>TotalCoinSupply</th>\n",
       "    </tr>\n",
       "  </thead>\n",
       "  <tbody>\n",
       "    <tr>\n",
       "      <th>42</th>\n",
       "      <td>42 Coin</td>\n",
       "      <td>Scrypt</td>\n",
       "      <td>True</td>\n",
       "      <td>PoW/PoS</td>\n",
       "      <td>4.199995e+01</td>\n",
       "      <td>42</td>\n",
       "    </tr>\n",
       "    <tr>\n",
       "      <th>365</th>\n",
       "      <td>365Coin</td>\n",
       "      <td>X11</td>\n",
       "      <td>True</td>\n",
       "      <td>PoW/PoS</td>\n",
       "      <td>NaN</td>\n",
       "      <td>2300000000</td>\n",
       "    </tr>\n",
       "    <tr>\n",
       "      <th>404</th>\n",
       "      <td>404Coin</td>\n",
       "      <td>Scrypt</td>\n",
       "      <td>True</td>\n",
       "      <td>PoW/PoS</td>\n",
       "      <td>1.055185e+09</td>\n",
       "      <td>532000000</td>\n",
       "    </tr>\n",
       "    <tr>\n",
       "      <th>611</th>\n",
       "      <td>SixEleven</td>\n",
       "      <td>SHA-256</td>\n",
       "      <td>True</td>\n",
       "      <td>PoW</td>\n",
       "      <td>NaN</td>\n",
       "      <td>611000</td>\n",
       "    </tr>\n",
       "    <tr>\n",
       "      <th>808</th>\n",
       "      <td>808</td>\n",
       "      <td>SHA-256</td>\n",
       "      <td>True</td>\n",
       "      <td>PoW/PoS</td>\n",
       "      <td>0.000000e+00</td>\n",
       "      <td>0</td>\n",
       "    </tr>\n",
       "  </tbody>\n",
       "</table>\n",
       "</div>"
      ],
      "text/plain": [
       "      CoinName Algorithm  IsTrading ProofType  TotalCoinsMined TotalCoinSupply\n",
       "42     42 Coin    Scrypt       True   PoW/PoS     4.199995e+01              42\n",
       "365    365Coin       X11       True   PoW/PoS              NaN      2300000000\n",
       "404    404Coin    Scrypt       True   PoW/PoS     1.055185e+09       532000000\n",
       "611  SixEleven   SHA-256       True       PoW              NaN          611000\n",
       "808        808   SHA-256       True   PoW/PoS     0.000000e+00               0"
      ]
     },
     "execution_count": 652,
     "metadata": {},
     "output_type": "execute_result"
    }
   ],
   "source": [
    "# Keep only cryptocurrencies that are trading\n",
    "crypto_df=crypto_df[crypto_df[\"IsTrading\"]==True]\n",
    "crypto_df.head()\n"
   ]
  },
  {
   "cell_type": "code",
   "execution_count": 653,
   "metadata": {},
   "outputs": [
    {
     "data": {
      "text/html": [
       "<div>\n",
       "<style scoped>\n",
       "    .dataframe tbody tr th:only-of-type {\n",
       "        vertical-align: middle;\n",
       "    }\n",
       "\n",
       "    .dataframe tbody tr th {\n",
       "        vertical-align: top;\n",
       "    }\n",
       "\n",
       "    .dataframe thead th {\n",
       "        text-align: right;\n",
       "    }\n",
       "</style>\n",
       "<table border=\"1\" class=\"dataframe\">\n",
       "  <thead>\n",
       "    <tr style=\"text-align: right;\">\n",
       "      <th></th>\n",
       "      <th>CoinName</th>\n",
       "      <th>Algorithm</th>\n",
       "      <th>IsTrading</th>\n",
       "      <th>ProofType</th>\n",
       "      <th>TotalCoinsMined</th>\n",
       "      <th>TotalCoinSupply</th>\n",
       "    </tr>\n",
       "  </thead>\n",
       "  <tbody>\n",
       "    <tr>\n",
       "      <th>42</th>\n",
       "      <td>42 Coin</td>\n",
       "      <td>Scrypt</td>\n",
       "      <td>True</td>\n",
       "      <td>PoW/PoS</td>\n",
       "      <td>4.199995e+01</td>\n",
       "      <td>42</td>\n",
       "    </tr>\n",
       "    <tr>\n",
       "      <th>404</th>\n",
       "      <td>404Coin</td>\n",
       "      <td>Scrypt</td>\n",
       "      <td>True</td>\n",
       "      <td>PoW/PoS</td>\n",
       "      <td>1.055185e+09</td>\n",
       "      <td>532000000</td>\n",
       "    </tr>\n",
       "    <tr>\n",
       "      <th>808</th>\n",
       "      <td>808</td>\n",
       "      <td>SHA-256</td>\n",
       "      <td>True</td>\n",
       "      <td>PoW/PoS</td>\n",
       "      <td>0.000000e+00</td>\n",
       "      <td>0</td>\n",
       "    </tr>\n",
       "    <tr>\n",
       "      <th>1337</th>\n",
       "      <td>EliteCoin</td>\n",
       "      <td>X13</td>\n",
       "      <td>True</td>\n",
       "      <td>PoW/PoS</td>\n",
       "      <td>2.927942e+10</td>\n",
       "      <td>314159265359</td>\n",
       "    </tr>\n",
       "    <tr>\n",
       "      <th>BTC</th>\n",
       "      <td>Bitcoin</td>\n",
       "      <td>SHA-256</td>\n",
       "      <td>True</td>\n",
       "      <td>PoW</td>\n",
       "      <td>1.792718e+07</td>\n",
       "      <td>21000000</td>\n",
       "    </tr>\n",
       "    <tr>\n",
       "      <th>...</th>\n",
       "      <td>...</td>\n",
       "      <td>...</td>\n",
       "      <td>...</td>\n",
       "      <td>...</td>\n",
       "      <td>...</td>\n",
       "      <td>...</td>\n",
       "    </tr>\n",
       "    <tr>\n",
       "      <th>ZEPH</th>\n",
       "      <td>ZEPHYR</td>\n",
       "      <td>SHA-256</td>\n",
       "      <td>True</td>\n",
       "      <td>DPoS</td>\n",
       "      <td>2.000000e+09</td>\n",
       "      <td>2000000000</td>\n",
       "    </tr>\n",
       "    <tr>\n",
       "      <th>GAP</th>\n",
       "      <td>Gapcoin</td>\n",
       "      <td>Scrypt</td>\n",
       "      <td>True</td>\n",
       "      <td>PoW/PoS</td>\n",
       "      <td>1.493105e+07</td>\n",
       "      <td>250000000</td>\n",
       "    </tr>\n",
       "    <tr>\n",
       "      <th>BDX</th>\n",
       "      <td>Beldex</td>\n",
       "      <td>CryptoNight</td>\n",
       "      <td>True</td>\n",
       "      <td>PoW</td>\n",
       "      <td>9.802226e+08</td>\n",
       "      <td>1400222610</td>\n",
       "    </tr>\n",
       "    <tr>\n",
       "      <th>ZEN</th>\n",
       "      <td>Horizen</td>\n",
       "      <td>Equihash</td>\n",
       "      <td>True</td>\n",
       "      <td>PoW</td>\n",
       "      <td>7.296538e+06</td>\n",
       "      <td>21000000</td>\n",
       "    </tr>\n",
       "    <tr>\n",
       "      <th>XBC</th>\n",
       "      <td>BitcoinPlus</td>\n",
       "      <td>Scrypt</td>\n",
       "      <td>True</td>\n",
       "      <td>PoS</td>\n",
       "      <td>1.283270e+05</td>\n",
       "      <td>1000000</td>\n",
       "    </tr>\n",
       "  </tbody>\n",
       "</table>\n",
       "<p>685 rows × 6 columns</p>\n",
       "</div>"
      ],
      "text/plain": [
       "         CoinName    Algorithm  IsTrading ProofType  TotalCoinsMined  \\\n",
       "42        42 Coin       Scrypt       True   PoW/PoS     4.199995e+01   \n",
       "404       404Coin       Scrypt       True   PoW/PoS     1.055185e+09   \n",
       "808           808      SHA-256       True   PoW/PoS     0.000000e+00   \n",
       "1337    EliteCoin          X13       True   PoW/PoS     2.927942e+10   \n",
       "BTC       Bitcoin      SHA-256       True       PoW     1.792718e+07   \n",
       "...           ...          ...        ...       ...              ...   \n",
       "ZEPH       ZEPHYR      SHA-256       True      DPoS     2.000000e+09   \n",
       "GAP       Gapcoin       Scrypt       True   PoW/PoS     1.493105e+07   \n",
       "BDX        Beldex  CryptoNight       True       PoW     9.802226e+08   \n",
       "ZEN       Horizen     Equihash       True       PoW     7.296538e+06   \n",
       "XBC   BitcoinPlus       Scrypt       True       PoS     1.283270e+05   \n",
       "\n",
       "     TotalCoinSupply  \n",
       "42                42  \n",
       "404        532000000  \n",
       "808                0  \n",
       "1337    314159265359  \n",
       "BTC         21000000  \n",
       "...              ...  \n",
       "ZEPH      2000000000  \n",
       "GAP        250000000  \n",
       "BDX       1400222610  \n",
       "ZEN         21000000  \n",
       "XBC          1000000  \n",
       "\n",
       "[685 rows x 6 columns]"
      ]
     },
     "execution_count": 653,
     "metadata": {},
     "output_type": "execute_result"
    }
   ],
   "source": [
    "# Keep only cryptocurrencies with a working algorithm\n",
    "# Remove rows with at least 1 null value\n",
    "# Drop rows where there are 'N/A' text values\n",
    "crypto_df=crypto_df.dropna()\n",
    "crypto_df"
   ]
  },
  {
   "cell_type": "code",
   "execution_count": 654,
   "metadata": {},
   "outputs": [
    {
     "data": {
      "text/html": [
       "<div>\n",
       "<style scoped>\n",
       "    .dataframe tbody tr th:only-of-type {\n",
       "        vertical-align: middle;\n",
       "    }\n",
       "\n",
       "    .dataframe tbody tr th {\n",
       "        vertical-align: top;\n",
       "    }\n",
       "\n",
       "    .dataframe thead th {\n",
       "        text-align: right;\n",
       "    }\n",
       "</style>\n",
       "<table border=\"1\" class=\"dataframe\">\n",
       "  <thead>\n",
       "    <tr style=\"text-align: right;\">\n",
       "      <th></th>\n",
       "      <th>CoinName</th>\n",
       "      <th>Algorithm</th>\n",
       "      <th>ProofType</th>\n",
       "      <th>TotalCoinsMined</th>\n",
       "      <th>TotalCoinSupply</th>\n",
       "    </tr>\n",
       "  </thead>\n",
       "  <tbody>\n",
       "    <tr>\n",
       "      <th>42</th>\n",
       "      <td>42 Coin</td>\n",
       "      <td>Scrypt</td>\n",
       "      <td>PoW/PoS</td>\n",
       "      <td>4.199995e+01</td>\n",
       "      <td>42</td>\n",
       "    </tr>\n",
       "    <tr>\n",
       "      <th>404</th>\n",
       "      <td>404Coin</td>\n",
       "      <td>Scrypt</td>\n",
       "      <td>PoW/PoS</td>\n",
       "      <td>1.055185e+09</td>\n",
       "      <td>532000000</td>\n",
       "    </tr>\n",
       "    <tr>\n",
       "      <th>808</th>\n",
       "      <td>808</td>\n",
       "      <td>SHA-256</td>\n",
       "      <td>PoW/PoS</td>\n",
       "      <td>0.000000e+00</td>\n",
       "      <td>0</td>\n",
       "    </tr>\n",
       "    <tr>\n",
       "      <th>1337</th>\n",
       "      <td>EliteCoin</td>\n",
       "      <td>X13</td>\n",
       "      <td>PoW/PoS</td>\n",
       "      <td>2.927942e+10</td>\n",
       "      <td>314159265359</td>\n",
       "    </tr>\n",
       "    <tr>\n",
       "      <th>BTC</th>\n",
       "      <td>Bitcoin</td>\n",
       "      <td>SHA-256</td>\n",
       "      <td>PoW</td>\n",
       "      <td>1.792718e+07</td>\n",
       "      <td>21000000</td>\n",
       "    </tr>\n",
       "  </tbody>\n",
       "</table>\n",
       "</div>"
      ],
      "text/plain": [
       "       CoinName Algorithm ProofType  TotalCoinsMined TotalCoinSupply\n",
       "42      42 Coin    Scrypt   PoW/PoS     4.199995e+01              42\n",
       "404     404Coin    Scrypt   PoW/PoS     1.055185e+09       532000000\n",
       "808         808   SHA-256   PoW/PoS     0.000000e+00               0\n",
       "1337  EliteCoin       X13   PoW/PoS     2.927942e+10    314159265359\n",
       "BTC     Bitcoin   SHA-256       PoW     1.792718e+07        21000000"
      ]
     },
     "execution_count": 654,
     "metadata": {},
     "output_type": "execute_result"
    }
   ],
   "source": [
    "# Remove the 'IsTrading' column\n",
    "crypto_df=crypto_df.drop(columns=\"IsTrading\")\n",
    "crypto_df.head()\n"
   ]
  },
  {
   "cell_type": "code",
   "execution_count": 655,
   "metadata": {},
   "outputs": [
    {
     "data": {
      "text/html": [
       "<div>\n",
       "<style scoped>\n",
       "    .dataframe tbody tr th:only-of-type {\n",
       "        vertical-align: middle;\n",
       "    }\n",
       "\n",
       "    .dataframe tbody tr th {\n",
       "        vertical-align: top;\n",
       "    }\n",
       "\n",
       "    .dataframe thead th {\n",
       "        text-align: right;\n",
       "    }\n",
       "</style>\n",
       "<table border=\"1\" class=\"dataframe\">\n",
       "  <thead>\n",
       "    <tr style=\"text-align: right;\">\n",
       "      <th></th>\n",
       "      <th>CoinName</th>\n",
       "      <th>Algorithm</th>\n",
       "      <th>ProofType</th>\n",
       "      <th>TotalCoinsMined</th>\n",
       "      <th>TotalCoinSupply</th>\n",
       "    </tr>\n",
       "  </thead>\n",
       "  <tbody>\n",
       "    <tr>\n",
       "      <th>42</th>\n",
       "      <td>42 Coin</td>\n",
       "      <td>Scrypt</td>\n",
       "      <td>PoW/PoS</td>\n",
       "      <td>4.199995e+01</td>\n",
       "      <td>42</td>\n",
       "    </tr>\n",
       "    <tr>\n",
       "      <th>404</th>\n",
       "      <td>404Coin</td>\n",
       "      <td>Scrypt</td>\n",
       "      <td>PoW/PoS</td>\n",
       "      <td>1.055185e+09</td>\n",
       "      <td>532000000</td>\n",
       "    </tr>\n",
       "    <tr>\n",
       "      <th>1337</th>\n",
       "      <td>EliteCoin</td>\n",
       "      <td>X13</td>\n",
       "      <td>PoW/PoS</td>\n",
       "      <td>2.927942e+10</td>\n",
       "      <td>314159265359</td>\n",
       "    </tr>\n",
       "    <tr>\n",
       "      <th>BTC</th>\n",
       "      <td>Bitcoin</td>\n",
       "      <td>SHA-256</td>\n",
       "      <td>PoW</td>\n",
       "      <td>1.792718e+07</td>\n",
       "      <td>21000000</td>\n",
       "    </tr>\n",
       "    <tr>\n",
       "      <th>ETH</th>\n",
       "      <td>Ethereum</td>\n",
       "      <td>Ethash</td>\n",
       "      <td>PoW</td>\n",
       "      <td>1.076842e+08</td>\n",
       "      <td>0</td>\n",
       "    </tr>\n",
       "  </tbody>\n",
       "</table>\n",
       "</div>"
      ],
      "text/plain": [
       "       CoinName Algorithm ProofType  TotalCoinsMined TotalCoinSupply\n",
       "42      42 Coin    Scrypt   PoW/PoS     4.199995e+01              42\n",
       "404     404Coin    Scrypt   PoW/PoS     1.055185e+09       532000000\n",
       "1337  EliteCoin       X13   PoW/PoS     2.927942e+10    314159265359\n",
       "BTC     Bitcoin   SHA-256       PoW     1.792718e+07        21000000\n",
       "ETH    Ethereum    Ethash       PoW     1.076842e+08               0"
      ]
     },
     "execution_count": 655,
     "metadata": {},
     "output_type": "execute_result"
    }
   ],
   "source": [
    "# Remove rows with cryptocurrencies having no coins mined\n",
    "crypto_df=crypto_df[crypto_df[\"TotalCoinsMined\"] != 0]\n",
    "crypto_df.head()"
   ]
  },
  {
   "cell_type": "code",
   "execution_count": 656,
   "metadata": {},
   "outputs": [],
   "source": [
    "# Store the 'CoinName'column in its own DataFrame prior to dropping it from crypto_df \n",
    "coins_name=crypto_df.index"
   ]
  },
  {
   "cell_type": "code",
   "execution_count": 657,
   "metadata": {},
   "outputs": [],
   "source": [
    "# Drop the 'CoinName' column since it's not going to be used on the clustering algorithm\n",
    "crypto_df=crypto_df.drop(columns=\"CoinName\")"
   ]
  },
  {
   "cell_type": "code",
   "execution_count": 658,
   "metadata": {},
   "outputs": [],
   "source": [
    "\n",
    "#le = LabelEncoder()\n",
    "#le.fit(crypto_df[\"Algorithm\"])\n",
    "#crypto_df[\"Algorithm\"] = le.transform(crypto_df[\"Algorithm\"])\n",
    "\n",
    "#le.fit(crypto_df[\"ProofType\"])\n",
    "#crypto_df[\"ProofType\"] = le.transform(crypto_df[\"ProofType\"])\n",
    "\n",
    "#crypto_df"
   ]
  },
  {
   "cell_type": "code",
   "execution_count": 659,
   "metadata": {},
   "outputs": [
    {
     "data": {
      "text/html": [
       "<div>\n",
       "<style scoped>\n",
       "    .dataframe tbody tr th:only-of-type {\n",
       "        vertical-align: middle;\n",
       "    }\n",
       "\n",
       "    .dataframe tbody tr th {\n",
       "        vertical-align: top;\n",
       "    }\n",
       "\n",
       "    .dataframe thead th {\n",
       "        text-align: right;\n",
       "    }\n",
       "</style>\n",
       "<table border=\"1\" class=\"dataframe\">\n",
       "  <thead>\n",
       "    <tr style=\"text-align: right;\">\n",
       "      <th></th>\n",
       "      <th>TotalCoinsMined</th>\n",
       "      <th>TotalCoinSupply</th>\n",
       "      <th>Algorithm_1GB AES Pattern Search</th>\n",
       "      <th>Algorithm_536</th>\n",
       "      <th>Algorithm_Argon2d</th>\n",
       "      <th>Algorithm_BLAKE256</th>\n",
       "      <th>Algorithm_Blake</th>\n",
       "      <th>Algorithm_Blake2S</th>\n",
       "      <th>Algorithm_Blake2b</th>\n",
       "      <th>Algorithm_C11</th>\n",
       "      <th>...</th>\n",
       "      <th>ProofType_PoW/PoS</th>\n",
       "      <th>ProofType_PoW/PoS</th>\n",
       "      <th>ProofType_PoW/PoW</th>\n",
       "      <th>ProofType_PoW/nPoS</th>\n",
       "      <th>ProofType_Pos</th>\n",
       "      <th>ProofType_Proof of Authority</th>\n",
       "      <th>ProofType_Proof of Trust</th>\n",
       "      <th>ProofType_TPoS</th>\n",
       "      <th>ProofType_Zero-Knowledge Proof</th>\n",
       "      <th>ProofType_dPoW/PoW</th>\n",
       "    </tr>\n",
       "  </thead>\n",
       "  <tbody>\n",
       "    <tr>\n",
       "      <th>42</th>\n",
       "      <td>4.199995e+01</td>\n",
       "      <td>42</td>\n",
       "      <td>0</td>\n",
       "      <td>0</td>\n",
       "      <td>0</td>\n",
       "      <td>0</td>\n",
       "      <td>0</td>\n",
       "      <td>0</td>\n",
       "      <td>0</td>\n",
       "      <td>0</td>\n",
       "      <td>...</td>\n",
       "      <td>1</td>\n",
       "      <td>0</td>\n",
       "      <td>0</td>\n",
       "      <td>0</td>\n",
       "      <td>0</td>\n",
       "      <td>0</td>\n",
       "      <td>0</td>\n",
       "      <td>0</td>\n",
       "      <td>0</td>\n",
       "      <td>0</td>\n",
       "    </tr>\n",
       "    <tr>\n",
       "      <th>404</th>\n",
       "      <td>1.055185e+09</td>\n",
       "      <td>532000000</td>\n",
       "      <td>0</td>\n",
       "      <td>0</td>\n",
       "      <td>0</td>\n",
       "      <td>0</td>\n",
       "      <td>0</td>\n",
       "      <td>0</td>\n",
       "      <td>0</td>\n",
       "      <td>0</td>\n",
       "      <td>...</td>\n",
       "      <td>1</td>\n",
       "      <td>0</td>\n",
       "      <td>0</td>\n",
       "      <td>0</td>\n",
       "      <td>0</td>\n",
       "      <td>0</td>\n",
       "      <td>0</td>\n",
       "      <td>0</td>\n",
       "      <td>0</td>\n",
       "      <td>0</td>\n",
       "    </tr>\n",
       "    <tr>\n",
       "      <th>1337</th>\n",
       "      <td>2.927942e+10</td>\n",
       "      <td>314159265359</td>\n",
       "      <td>0</td>\n",
       "      <td>0</td>\n",
       "      <td>0</td>\n",
       "      <td>0</td>\n",
       "      <td>0</td>\n",
       "      <td>0</td>\n",
       "      <td>0</td>\n",
       "      <td>0</td>\n",
       "      <td>...</td>\n",
       "      <td>1</td>\n",
       "      <td>0</td>\n",
       "      <td>0</td>\n",
       "      <td>0</td>\n",
       "      <td>0</td>\n",
       "      <td>0</td>\n",
       "      <td>0</td>\n",
       "      <td>0</td>\n",
       "      <td>0</td>\n",
       "      <td>0</td>\n",
       "    </tr>\n",
       "    <tr>\n",
       "      <th>BTC</th>\n",
       "      <td>1.792718e+07</td>\n",
       "      <td>21000000</td>\n",
       "      <td>0</td>\n",
       "      <td>0</td>\n",
       "      <td>0</td>\n",
       "      <td>0</td>\n",
       "      <td>0</td>\n",
       "      <td>0</td>\n",
       "      <td>0</td>\n",
       "      <td>0</td>\n",
       "      <td>...</td>\n",
       "      <td>0</td>\n",
       "      <td>0</td>\n",
       "      <td>0</td>\n",
       "      <td>0</td>\n",
       "      <td>0</td>\n",
       "      <td>0</td>\n",
       "      <td>0</td>\n",
       "      <td>0</td>\n",
       "      <td>0</td>\n",
       "      <td>0</td>\n",
       "    </tr>\n",
       "    <tr>\n",
       "      <th>ETH</th>\n",
       "      <td>1.076842e+08</td>\n",
       "      <td>0</td>\n",
       "      <td>0</td>\n",
       "      <td>0</td>\n",
       "      <td>0</td>\n",
       "      <td>0</td>\n",
       "      <td>0</td>\n",
       "      <td>0</td>\n",
       "      <td>0</td>\n",
       "      <td>0</td>\n",
       "      <td>...</td>\n",
       "      <td>0</td>\n",
       "      <td>0</td>\n",
       "      <td>0</td>\n",
       "      <td>0</td>\n",
       "      <td>0</td>\n",
       "      <td>0</td>\n",
       "      <td>0</td>\n",
       "      <td>0</td>\n",
       "      <td>0</td>\n",
       "      <td>0</td>\n",
       "    </tr>\n",
       "    <tr>\n",
       "      <th>...</th>\n",
       "      <td>...</td>\n",
       "      <td>...</td>\n",
       "      <td>...</td>\n",
       "      <td>...</td>\n",
       "      <td>...</td>\n",
       "      <td>...</td>\n",
       "      <td>...</td>\n",
       "      <td>...</td>\n",
       "      <td>...</td>\n",
       "      <td>...</td>\n",
       "      <td>...</td>\n",
       "      <td>...</td>\n",
       "      <td>...</td>\n",
       "      <td>...</td>\n",
       "      <td>...</td>\n",
       "      <td>...</td>\n",
       "      <td>...</td>\n",
       "      <td>...</td>\n",
       "      <td>...</td>\n",
       "      <td>...</td>\n",
       "      <td>...</td>\n",
       "    </tr>\n",
       "    <tr>\n",
       "      <th>ZEPH</th>\n",
       "      <td>2.000000e+09</td>\n",
       "      <td>2000000000</td>\n",
       "      <td>0</td>\n",
       "      <td>0</td>\n",
       "      <td>0</td>\n",
       "      <td>0</td>\n",
       "      <td>0</td>\n",
       "      <td>0</td>\n",
       "      <td>0</td>\n",
       "      <td>0</td>\n",
       "      <td>...</td>\n",
       "      <td>0</td>\n",
       "      <td>0</td>\n",
       "      <td>0</td>\n",
       "      <td>0</td>\n",
       "      <td>0</td>\n",
       "      <td>0</td>\n",
       "      <td>0</td>\n",
       "      <td>0</td>\n",
       "      <td>0</td>\n",
       "      <td>0</td>\n",
       "    </tr>\n",
       "    <tr>\n",
       "      <th>GAP</th>\n",
       "      <td>1.493105e+07</td>\n",
       "      <td>250000000</td>\n",
       "      <td>0</td>\n",
       "      <td>0</td>\n",
       "      <td>0</td>\n",
       "      <td>0</td>\n",
       "      <td>0</td>\n",
       "      <td>0</td>\n",
       "      <td>0</td>\n",
       "      <td>0</td>\n",
       "      <td>...</td>\n",
       "      <td>1</td>\n",
       "      <td>0</td>\n",
       "      <td>0</td>\n",
       "      <td>0</td>\n",
       "      <td>0</td>\n",
       "      <td>0</td>\n",
       "      <td>0</td>\n",
       "      <td>0</td>\n",
       "      <td>0</td>\n",
       "      <td>0</td>\n",
       "    </tr>\n",
       "    <tr>\n",
       "      <th>BDX</th>\n",
       "      <td>9.802226e+08</td>\n",
       "      <td>1400222610</td>\n",
       "      <td>0</td>\n",
       "      <td>0</td>\n",
       "      <td>0</td>\n",
       "      <td>0</td>\n",
       "      <td>0</td>\n",
       "      <td>0</td>\n",
       "      <td>0</td>\n",
       "      <td>0</td>\n",
       "      <td>...</td>\n",
       "      <td>0</td>\n",
       "      <td>0</td>\n",
       "      <td>0</td>\n",
       "      <td>0</td>\n",
       "      <td>0</td>\n",
       "      <td>0</td>\n",
       "      <td>0</td>\n",
       "      <td>0</td>\n",
       "      <td>0</td>\n",
       "      <td>0</td>\n",
       "    </tr>\n",
       "    <tr>\n",
       "      <th>ZEN</th>\n",
       "      <td>7.296538e+06</td>\n",
       "      <td>21000000</td>\n",
       "      <td>0</td>\n",
       "      <td>0</td>\n",
       "      <td>0</td>\n",
       "      <td>0</td>\n",
       "      <td>0</td>\n",
       "      <td>0</td>\n",
       "      <td>0</td>\n",
       "      <td>0</td>\n",
       "      <td>...</td>\n",
       "      <td>0</td>\n",
       "      <td>0</td>\n",
       "      <td>0</td>\n",
       "      <td>0</td>\n",
       "      <td>0</td>\n",
       "      <td>0</td>\n",
       "      <td>0</td>\n",
       "      <td>0</td>\n",
       "      <td>0</td>\n",
       "      <td>0</td>\n",
       "    </tr>\n",
       "    <tr>\n",
       "      <th>XBC</th>\n",
       "      <td>1.283270e+05</td>\n",
       "      <td>1000000</td>\n",
       "      <td>0</td>\n",
       "      <td>0</td>\n",
       "      <td>0</td>\n",
       "      <td>0</td>\n",
       "      <td>0</td>\n",
       "      <td>0</td>\n",
       "      <td>0</td>\n",
       "      <td>0</td>\n",
       "      <td>...</td>\n",
       "      <td>0</td>\n",
       "      <td>0</td>\n",
       "      <td>0</td>\n",
       "      <td>0</td>\n",
       "      <td>0</td>\n",
       "      <td>0</td>\n",
       "      <td>0</td>\n",
       "      <td>0</td>\n",
       "      <td>0</td>\n",
       "      <td>0</td>\n",
       "    </tr>\n",
       "  </tbody>\n",
       "</table>\n",
       "<p>533 rows × 100 columns</p>\n",
       "</div>"
      ],
      "text/plain": [
       "      TotalCoinsMined TotalCoinSupply  Algorithm_1GB AES Pattern Search  \\\n",
       "42       4.199995e+01              42                                 0   \n",
       "404      1.055185e+09       532000000                                 0   \n",
       "1337     2.927942e+10    314159265359                                 0   \n",
       "BTC      1.792718e+07        21000000                                 0   \n",
       "ETH      1.076842e+08               0                                 0   \n",
       "...               ...             ...                               ...   \n",
       "ZEPH     2.000000e+09      2000000000                                 0   \n",
       "GAP      1.493105e+07       250000000                                 0   \n",
       "BDX      9.802226e+08      1400222610                                 0   \n",
       "ZEN      7.296538e+06        21000000                                 0   \n",
       "XBC      1.283270e+05         1000000                                 0   \n",
       "\n",
       "      Algorithm_536  Algorithm_Argon2d  Algorithm_BLAKE256  Algorithm_Blake  \\\n",
       "42                0                  0                   0                0   \n",
       "404               0                  0                   0                0   \n",
       "1337              0                  0                   0                0   \n",
       "BTC               0                  0                   0                0   \n",
       "ETH               0                  0                   0                0   \n",
       "...             ...                ...                 ...              ...   \n",
       "ZEPH              0                  0                   0                0   \n",
       "GAP               0                  0                   0                0   \n",
       "BDX               0                  0                   0                0   \n",
       "ZEN               0                  0                   0                0   \n",
       "XBC               0                  0                   0                0   \n",
       "\n",
       "      Algorithm_Blake2S  Algorithm_Blake2b  Algorithm_C11  ...  \\\n",
       "42                    0                  0              0  ...   \n",
       "404                   0                  0              0  ...   \n",
       "1337                  0                  0              0  ...   \n",
       "BTC                   0                  0              0  ...   \n",
       "ETH                   0                  0              0  ...   \n",
       "...                 ...                ...            ...  ...   \n",
       "ZEPH                  0                  0              0  ...   \n",
       "GAP                   0                  0              0  ...   \n",
       "BDX                   0                  0              0  ...   \n",
       "ZEN                   0                  0              0  ...   \n",
       "XBC                   0                  0              0  ...   \n",
       "\n",
       "      ProofType_PoW/PoS  ProofType_PoW/PoS   ProofType_PoW/PoW  \\\n",
       "42                    1                   0                  0   \n",
       "404                   1                   0                  0   \n",
       "1337                  1                   0                  0   \n",
       "BTC                   0                   0                  0   \n",
       "ETH                   0                   0                  0   \n",
       "...                 ...                 ...                ...   \n",
       "ZEPH                  0                   0                  0   \n",
       "GAP                   1                   0                  0   \n",
       "BDX                   0                   0                  0   \n",
       "ZEN                   0                   0                  0   \n",
       "XBC                   0                   0                  0   \n",
       "\n",
       "      ProofType_PoW/nPoS  ProofType_Pos  ProofType_Proof of Authority  \\\n",
       "42                     0              0                             0   \n",
       "404                    0              0                             0   \n",
       "1337                   0              0                             0   \n",
       "BTC                    0              0                             0   \n",
       "ETH                    0              0                             0   \n",
       "...                  ...            ...                           ...   \n",
       "ZEPH                   0              0                             0   \n",
       "GAP                    0              0                             0   \n",
       "BDX                    0              0                             0   \n",
       "ZEN                    0              0                             0   \n",
       "XBC                    0              0                             0   \n",
       "\n",
       "      ProofType_Proof of Trust  ProofType_TPoS  \\\n",
       "42                           0               0   \n",
       "404                          0               0   \n",
       "1337                         0               0   \n",
       "BTC                          0               0   \n",
       "ETH                          0               0   \n",
       "...                        ...             ...   \n",
       "ZEPH                         0               0   \n",
       "GAP                          0               0   \n",
       "BDX                          0               0   \n",
       "ZEN                          0               0   \n",
       "XBC                          0               0   \n",
       "\n",
       "      ProofType_Zero-Knowledge Proof  ProofType_dPoW/PoW  \n",
       "42                                 0                   0  \n",
       "404                                0                   0  \n",
       "1337                               0                   0  \n",
       "BTC                                0                   0  \n",
       "ETH                                0                   0  \n",
       "...                              ...                 ...  \n",
       "ZEPH                               0                   0  \n",
       "GAP                                0                   0  \n",
       "BDX                                0                   0  \n",
       "ZEN                                0                   0  \n",
       "XBC                                0                   0  \n",
       "\n",
       "[533 rows x 100 columns]"
      ]
     },
     "execution_count": 659,
     "metadata": {},
     "output_type": "execute_result"
    }
   ],
   "source": [
    "# Create dummy variables for text features\n",
    "X=pd.get_dummies(crypto_df,columns=[\"Algorithm\",\"ProofType\"])\n",
    "X"
   ]
  },
  {
   "cell_type": "code",
   "execution_count": 660,
   "metadata": {},
   "outputs": [
    {
     "name": "stdout",
     "output_type": "stream",
     "text": [
      "      TotalCoinsMined TotalCoinSupply  Algorithm_1GB AES Pattern Search  \\\n",
      "42       4.199995e+01              42                                 0   \n",
      "404      1.055185e+09       532000000                                 0   \n",
      "1337     2.927942e+10    314159265359                                 0   \n",
      "BTC      1.792718e+07        21000000                                 0   \n",
      "ETH      1.076842e+08               0                                 0   \n",
      "\n",
      "      Algorithm_536  Algorithm_Argon2d  Algorithm_BLAKE256  Algorithm_Blake  \\\n",
      "42                0                  0                   0                0   \n",
      "404               0                  0                   0                0   \n",
      "1337              0                  0                   0                0   \n",
      "BTC               0                  0                   0                0   \n",
      "ETH               0                  0                   0                0   \n",
      "\n",
      "      Algorithm_Blake2S  Algorithm_Blake2b  Algorithm_C11  ...  \\\n",
      "42                    0                  0              0  ...   \n",
      "404                   0                  0              0  ...   \n",
      "1337                  0                  0              0  ...   \n",
      "BTC                   0                  0              0  ...   \n",
      "ETH                   0                  0              0  ...   \n",
      "\n",
      "      ProofType_PoW/PoS  ProofType_PoW/PoS   ProofType_PoW/PoW  \\\n",
      "42                    1                   0                  0   \n",
      "404                   1                   0                  0   \n",
      "1337                  1                   0                  0   \n",
      "BTC                   0                   0                  0   \n",
      "ETH                   0                   0                  0   \n",
      "\n",
      "      ProofType_PoW/nPoS  ProofType_Pos  ProofType_Proof of Authority  \\\n",
      "42                     0              0                             0   \n",
      "404                    0              0                             0   \n",
      "1337                   0              0                             0   \n",
      "BTC                    0              0                             0   \n",
      "ETH                    0              0                             0   \n",
      "\n",
      "      ProofType_Proof of Trust  ProofType_TPoS  \\\n",
      "42                           0               0   \n",
      "404                          0               0   \n",
      "1337                         0               0   \n",
      "BTC                          0               0   \n",
      "ETH                          0               0   \n",
      "\n",
      "      ProofType_Zero-Knowledge Proof  ProofType_dPoW/PoW  \n",
      "42                                 0                   0  \n",
      "404                                0                   0  \n",
      "1337                               0                   0  \n",
      "BTC                                0                   0  \n",
      "ETH                                0                   0  \n",
      "\n",
      "[5 rows x 100 columns]\n"
     ]
    }
   ],
   "source": [
    "x_scaled= StandardScaler().fit_transform(X)\n",
    "print(X[0:5])"
   ]
  },
  {
   "cell_type": "markdown",
   "metadata": {},
   "source": [
    "### Reducing Dimensions Using PCA"
   ]
  },
  {
   "cell_type": "code",
   "execution_count": 661,
   "metadata": {},
   "outputs": [],
   "source": [
    "# Use PCA to reduce dimensions to 3 principal components\n",
    "pca = PCA(n_components=3)"
   ]
  },
  {
   "cell_type": "code",
   "execution_count": 662,
   "metadata": {},
   "outputs": [
    {
     "data": {
      "text/html": [
       "<div>\n",
       "<style scoped>\n",
       "    .dataframe tbody tr th:only-of-type {\n",
       "        vertical-align: middle;\n",
       "    }\n",
       "\n",
       "    .dataframe tbody tr th {\n",
       "        vertical-align: top;\n",
       "    }\n",
       "\n",
       "    .dataframe thead th {\n",
       "        text-align: right;\n",
       "    }\n",
       "</style>\n",
       "<table border=\"1\" class=\"dataframe\">\n",
       "  <thead>\n",
       "    <tr style=\"text-align: right;\">\n",
       "      <th></th>\n",
       "      <th>PC1</th>\n",
       "      <th>PC2</th>\n",
       "      <th>PC3</th>\n",
       "    </tr>\n",
       "  </thead>\n",
       "  <tbody>\n",
       "    <tr>\n",
       "      <th>42</th>\n",
       "      <td>-0.333262</td>\n",
       "      <td>1.016306</td>\n",
       "      <td>-0.512337</td>\n",
       "    </tr>\n",
       "    <tr>\n",
       "      <th>404</th>\n",
       "      <td>-0.316596</td>\n",
       "      <td>1.016281</td>\n",
       "      <td>-0.512724</td>\n",
       "    </tr>\n",
       "    <tr>\n",
       "      <th>1337</th>\n",
       "      <td>2.309608</td>\n",
       "      <td>1.564403</td>\n",
       "      <td>-0.569810</td>\n",
       "    </tr>\n",
       "    <tr>\n",
       "      <th>BTC</th>\n",
       "      <td>-0.144397</td>\n",
       "      <td>-1.317876</td>\n",
       "      <td>0.217527</td>\n",
       "    </tr>\n",
       "    <tr>\n",
       "      <th>ETH</th>\n",
       "      <td>-0.140816</td>\n",
       "      <td>-1.960368</td>\n",
       "      <td>0.315132</td>\n",
       "    </tr>\n",
       "    <tr>\n",
       "      <th>...</th>\n",
       "      <td>...</td>\n",
       "      <td>...</td>\n",
       "      <td>...</td>\n",
       "    </tr>\n",
       "    <tr>\n",
       "      <th>ZEPH</th>\n",
       "      <td>2.480652</td>\n",
       "      <td>0.878306</td>\n",
       "      <td>0.103639</td>\n",
       "    </tr>\n",
       "    <tr>\n",
       "      <th>GAP</th>\n",
       "      <td>-0.331306</td>\n",
       "      <td>1.016170</td>\n",
       "      <td>-0.512352</td>\n",
       "    </tr>\n",
       "    <tr>\n",
       "      <th>BDX</th>\n",
       "      <td>0.330082</td>\n",
       "      <td>-2.286269</td>\n",
       "      <td>0.386753</td>\n",
       "    </tr>\n",
       "    <tr>\n",
       "      <th>ZEN</th>\n",
       "      <td>-0.148433</td>\n",
       "      <td>-2.110599</td>\n",
       "      <td>0.318861</td>\n",
       "    </tr>\n",
       "    <tr>\n",
       "      <th>XBC</th>\n",
       "      <td>-0.290338</td>\n",
       "      <td>0.824363</td>\n",
       "      <td>-0.303479</td>\n",
       "    </tr>\n",
       "  </tbody>\n",
       "</table>\n",
       "<p>533 rows × 3 columns</p>\n",
       "</div>"
      ],
      "text/plain": [
       "           PC1       PC2       PC3\n",
       "42   -0.333262  1.016306 -0.512337\n",
       "404  -0.316596  1.016281 -0.512724\n",
       "1337  2.309608  1.564403 -0.569810\n",
       "BTC  -0.144397 -1.317876  0.217527\n",
       "ETH  -0.140816 -1.960368  0.315132\n",
       "...        ...       ...       ...\n",
       "ZEPH  2.480652  0.878306  0.103639\n",
       "GAP  -0.331306  1.016170 -0.512352\n",
       "BDX   0.330082 -2.286269  0.386753\n",
       "ZEN  -0.148433 -2.110599  0.318861\n",
       "XBC  -0.290338  0.824363 -0.303479\n",
       "\n",
       "[533 rows x 3 columns]"
      ]
     },
     "execution_count": 662,
     "metadata": {},
     "output_type": "execute_result"
    }
   ],
   "source": [
    "# Create a DataFrame with the principal components data\n",
    "x_pca = pca.fit_transform(x_scaled)\n",
    "\n",
    "pcs_df= pd.DataFrame(\n",
    "    data=x_pca, columns=[\"PC1\", \"PC2\",\"PC3\"]\n",
    ")\n",
    "pcs_df=pcs_df.set_index(coins_name)\n",
    "pcs_df"
   ]
  },
  {
   "cell_type": "markdown",
   "metadata": {},
   "source": [
    "### Clustering Crytocurrencies Using K-Means\n",
    "\n",
    "#### Finding the Best Value for `k` Using the Elbow Curve"
   ]
  },
  {
   "cell_type": "code",
   "execution_count": 663,
   "metadata": {},
   "outputs": [
    {
     "name": "stderr",
     "output_type": "stream",
     "text": [
      "C:\\Users\\silver_empire\\anaconda3\\lib\\site-packages\\sklearn\\cluster\\_kmeans.py:1036: UserWarning:\n",
      "\n",
      "KMeans is known to have a memory leak on Windows with MKL, when there are less chunks than available threads. You can avoid it by setting the environment variable OMP_NUM_THREADS=3.\n",
      "\n"
     ]
    },
    {
     "data": {},
     "metadata": {},
     "output_type": "display_data"
    },
    {
     "data": {
      "application/vnd.holoviews_exec.v0+json": "",
      "text/html": [
       "<div id='3586'>\n",
       "\n",
       "\n",
       "\n",
       "\n",
       "\n",
       "  <div class=\"bk-root\" id=\"c34c9613-781b-4601-80a7-c63d89195cb3\" data-root-id=\"3586\"></div>\n",
       "</div>\n",
       "<script type=\"application/javascript\">(function(root) {\n",
       "  function embed_document(root) {\n",
       "    var docs_json = {\"3d1d046e-0a7d-4790-8de5-a99170e9d430\":{\"defs\":[{\"extends\":null,\"module\":null,\"name\":\"ReactiveHTML1\",\"overrides\":[],\"properties\":[]},{\"extends\":null,\"module\":null,\"name\":\"FlexBox1\",\"overrides\":[],\"properties\":[{\"default\":\"flex-start\",\"kind\":null,\"name\":\"align_content\"},{\"default\":\"flex-start\",\"kind\":null,\"name\":\"align_items\"},{\"default\":\"row\",\"kind\":null,\"name\":\"flex_direction\"},{\"default\":\"wrap\",\"kind\":null,\"name\":\"flex_wrap\"},{\"default\":\"flex-start\",\"kind\":null,\"name\":\"justify_content\"}]},{\"extends\":null,\"module\":null,\"name\":\"TemplateActions1\",\"overrides\":[],\"properties\":[{\"default\":0,\"kind\":null,\"name\":\"open_modal\"},{\"default\":0,\"kind\":null,\"name\":\"close_modal\"}]},{\"extends\":null,\"module\":null,\"name\":\"MaterialTemplateActions1\",\"overrides\":[],\"properties\":[{\"default\":0,\"kind\":null,\"name\":\"open_modal\"},{\"default\":0,\"kind\":null,\"name\":\"close_modal\"}]}],\"roots\":{\"references\":[{\"attributes\":{},\"id\":\"3633\",\"type\":\"AllLabels\"},{\"attributes\":{\"children\":[{\"id\":\"3587\"},{\"id\":\"3591\"},{\"id\":\"3657\"}],\"margin\":[0,0,0,0],\"name\":\"Row05611\",\"tags\":[\"embedded\"]},\"id\":\"3586\",\"type\":\"Row\"},{\"attributes\":{\"line_alpha\":0.1,\"line_color\":\"#30a2da\",\"line_width\":2,\"x\":{\"field\":\"k\"},\"y\":{\"field\":\"inertia\"}},\"id\":\"3625\",\"type\":\"Line\"},{\"attributes\":{\"callback\":null,\"renderers\":[{\"id\":\"3627\"}],\"tags\":[\"hv_created\"],\"tooltips\":[[\"k\",\"@{k}\"],[\"inertia\",\"@{inertia}\"]]},\"id\":\"3590\",\"type\":\"HoverTool\"},{\"attributes\":{\"line_color\":\"#30a2da\",\"line_width\":2,\"x\":{\"field\":\"k\"},\"y\":{\"field\":\"inertia\"}},\"id\":\"3624\",\"type\":\"Line\"},{\"attributes\":{\"end\":3999.150667389632,\"reset_end\":3999.150667389632,\"reset_start\":-236.8203831854714,\"start\":-236.8203831854714,\"tags\":[[[\"inertia\",\"inertia\",null]]]},\"id\":\"3589\",\"type\":\"Range1d\"},{\"attributes\":{\"coordinates\":null,\"data_source\":{\"id\":\"3621\"},\"glyph\":{\"id\":\"3624\"},\"group\":null,\"hover_glyph\":null,\"muted_glyph\":{\"id\":\"3626\"},\"nonselection_glyph\":{\"id\":\"3625\"},\"selection_glyph\":{\"id\":\"3629\"},\"view\":{\"id\":\"3628\"}},\"id\":\"3627\",\"type\":\"GlyphRenderer\"},{\"attributes\":{},\"id\":\"3622\",\"type\":\"Selection\"},{\"attributes\":{\"end\":10.0,\"reset_end\":10.0,\"reset_start\":1.0,\"start\":1.0,\"tags\":[[[\"k\",\"k\",null]]]},\"id\":\"3588\",\"type\":\"Range1d\"},{\"attributes\":{},\"id\":\"3645\",\"type\":\"UnionRenderers\"},{\"attributes\":{\"coordinates\":null,\"group\":null,\"text\":\"Elbow Curve\",\"text_color\":\"black\",\"text_font_size\":\"12pt\"},\"id\":\"3592\",\"type\":\"Title\"},{\"attributes\":{\"axis\":{\"id\":\"3600\"},\"coordinates\":null,\"grid_line_color\":null,\"group\":null,\"ticker\":null},\"id\":\"3603\",\"type\":\"Grid\"},{\"attributes\":{\"line_alpha\":0.2,\"line_color\":\"#30a2da\",\"line_width\":2,\"x\":{\"field\":\"k\"},\"y\":{\"field\":\"inertia\"}},\"id\":\"3626\",\"type\":\"Line\"},{\"attributes\":{\"below\":[{\"id\":\"3600\"}],\"center\":[{\"id\":\"3603\"},{\"id\":\"3607\"}],\"height\":300,\"left\":[{\"id\":\"3604\"}],\"margin\":[5,5,5,5],\"min_border_bottom\":10,\"min_border_left\":10,\"min_border_right\":10,\"min_border_top\":10,\"renderers\":[{\"id\":\"3627\"}],\"sizing_mode\":\"fixed\",\"title\":{\"id\":\"3592\"},\"toolbar\":{\"id\":\"3614\"},\"width\":700,\"x_range\":{\"id\":\"3588\"},\"x_scale\":{\"id\":\"3596\"},\"y_range\":{\"id\":\"3589\"},\"y_scale\":{\"id\":\"3598\"}},\"id\":\"3591\",\"subtype\":\"Figure\",\"type\":\"Plot\"},{\"attributes\":{\"source\":{\"id\":\"3621\"}},\"id\":\"3628\",\"type\":\"CDSView\"},{\"attributes\":{},\"id\":\"3632\",\"type\":\"BasicTickFormatter\"},{\"attributes\":{},\"id\":\"3598\",\"type\":\"LinearScale\"},{\"attributes\":{\"line_color\":\"#30a2da\",\"line_width\":2,\"x\":{\"field\":\"k\"},\"y\":{\"field\":\"inertia\"}},\"id\":\"3629\",\"type\":\"Line\"},{\"attributes\":{},\"id\":\"3637\",\"type\":\"BasicTickFormatter\"},{\"attributes\":{\"axis_label\":\"k\",\"coordinates\":null,\"formatter\":{\"id\":\"3632\"},\"group\":null,\"major_label_policy\":{\"id\":\"3633\"},\"ticker\":{\"id\":\"3630\"}},\"id\":\"3600\",\"type\":\"LinearAxis\"},{\"attributes\":{\"axis\":{\"id\":\"3604\"},\"coordinates\":null,\"dimension\":1,\"grid_line_color\":null,\"group\":null,\"ticker\":null},\"id\":\"3607\",\"type\":\"Grid\"},{\"attributes\":{},\"id\":\"3609\",\"type\":\"PanTool\"},{\"attributes\":{\"margin\":[5,5,5,5],\"name\":\"HSpacer05615\",\"sizing_mode\":\"stretch_width\"},\"id\":\"3587\",\"type\":\"Spacer\"},{\"attributes\":{\"margin\":[5,5,5,5],\"name\":\"HSpacer05616\",\"sizing_mode\":\"stretch_width\"},\"id\":\"3657\",\"type\":\"Spacer\"},{\"attributes\":{\"axis_label\":\"inertia\",\"coordinates\":null,\"formatter\":{\"id\":\"3637\"},\"group\":null,\"major_label_policy\":{\"id\":\"3638\"},\"ticker\":{\"id\":\"3605\"}},\"id\":\"3604\",\"type\":\"LinearAxis\"},{\"attributes\":{\"ticks\":[1,2,3,4,5,6,7,8,9,10]},\"id\":\"3630\",\"type\":\"FixedTicker\"},{\"attributes\":{},\"id\":\"3605\",\"type\":\"BasicTicker\"},{\"attributes\":{},\"id\":\"3610\",\"type\":\"WheelZoomTool\"},{\"attributes\":{},\"id\":\"3608\",\"type\":\"SaveTool\"},{\"attributes\":{\"overlay\":{\"id\":\"3613\"}},\"id\":\"3611\",\"type\":\"BoxZoomTool\"},{\"attributes\":{},\"id\":\"3612\",\"type\":\"ResetTool\"},{\"attributes\":{\"bottom_units\":\"screen\",\"coordinates\":null,\"fill_alpha\":0.5,\"fill_color\":\"lightgrey\",\"group\":null,\"left_units\":\"screen\",\"level\":\"overlay\",\"line_alpha\":1.0,\"line_color\":\"black\",\"line_dash\":[4,4],\"line_width\":2,\"right_units\":\"screen\",\"syncable\":false,\"top_units\":\"screen\"},\"id\":\"3613\",\"type\":\"BoxAnnotation\"},{\"attributes\":{\"tools\":[{\"id\":\"3590\"},{\"id\":\"3608\"},{\"id\":\"3609\"},{\"id\":\"3610\"},{\"id\":\"3611\"},{\"id\":\"3612\"}]},\"id\":\"3614\",\"type\":\"Toolbar\"},{\"attributes\":{},\"id\":\"3596\",\"type\":\"LinearScale\"},{\"attributes\":{},\"id\":\"3638\",\"type\":\"AllLabels\"},{\"attributes\":{\"data\":{\"inertia\":{\"__ndarray__\":\"nSN7YE58rEACKAakLNikQPugntUzgZdA7XrMSB12gUAtsm0luv52QCadqE9/HXNA1E3BpTlcb0CPqLXHGIJoQKgUWkWiJWJArlz3UFcLXUA=\",\"dtype\":\"float64\",\"order\":\"little\",\"shape\":[10]},\"k\":[1,2,3,4,5,6,7,8,9,10]},\"selected\":{\"id\":\"3622\"},\"selection_policy\":{\"id\":\"3645\"}},\"id\":\"3621\",\"type\":\"ColumnDataSource\"}],\"root_ids\":[\"3586\"]},\"title\":\"Bokeh Application\",\"version\":\"2.4.2\"}};\n",
       "    var render_items = [{\"docid\":\"3d1d046e-0a7d-4790-8de5-a99170e9d430\",\"root_ids\":[\"3586\"],\"roots\":{\"3586\":\"c34c9613-781b-4601-80a7-c63d89195cb3\"}}];\n",
       "    root.Bokeh.embed.embed_items_notebook(docs_json, render_items);\n",
       "  }\n",
       "  if (root.Bokeh !== undefined && root.Bokeh.Panel !== undefined) {\n",
       "    embed_document(root);\n",
       "  } else {\n",
       "    var attempts = 0;\n",
       "    var timer = setInterval(function(root) {\n",
       "      if (root.Bokeh !== undefined && root.Bokeh.Panel !== undefined) {\n",
       "        clearInterval(timer);\n",
       "        embed_document(root);\n",
       "      } else if (document.readyState == \"complete\") {\n",
       "        attempts++;\n",
       "        if (attempts > 200) {\n",
       "          clearInterval(timer);\n",
       "          console.log(\"Bokeh: ERROR: Unable to run BokehJS code because BokehJS library is missing\");\n",
       "        }\n",
       "      }\n",
       "    }, 25, root)\n",
       "  }\n",
       "})(window);</script>"
      ],
      "text/plain": [
       ":Curve   [k]   (inertia)"
      ]
     },
     "execution_count": 663,
     "metadata": {
      "application/vnd.holoviews_exec.v0+json": {
       "id": "3586"
      }
     },
     "output_type": "execute_result"
    }
   ],
   "source": [
    "inertia = []\n",
    "k = list(range(1, 11))\n",
    "\n",
    "# Calculate the inertia for the range of k values\n",
    "for i in k:\n",
    "    km = KMeans(n_clusters=i, random_state=0)\n",
    "    km.fit(pcs_df)\n",
    "    inertia.append(km.inertia_)\n",
    "\n",
    "# Create the Elbow Curve using hvPlot\n",
    "elbow_data = {\"k\": k, \"inertia\": inertia}\n",
    "df_elbow = pd.DataFrame(elbow_data)\n",
    "df_elbow.hvplot.line(x=\"k\", y=\"inertia\", xticks=k, title=\"Elbow Curve\")\n",
    "\n"
   ]
  },
  {
   "cell_type": "markdown",
   "metadata": {},
   "source": [
    "Running K-Means with `k=<your best value for k here>`"
   ]
  },
  {
   "cell_type": "code",
   "execution_count": 664,
   "metadata": {},
   "outputs": [],
   "source": [
    "# Initialize the K-Means model\n",
    "\n",
    "# Fit the model\n",
    "\n",
    "# Predict clusters\n",
    "\n",
    "# Create a new DataFrame including predicted clusters and cryptocurrencies features\n",
    "def get_clusters(k, data):\n",
    "    # Initialize the K-Means model\n",
    "    model = KMeans(n_clusters=k, random_state=0)\n",
    "\n",
    "    # Fit the model\n",
    "    model.fit(data)\n",
    "\n",
    "    # Predict clusters\n",
    "    predictions = model.predict(data)\n",
    "\n",
    "    # Create return DataFrame with predicted clusters\n",
    "    data[\"class\"] = model.labels_\n",
    "\n",
    "    return data\n"
   ]
  },
  {
   "cell_type": "code",
   "execution_count": 665,
   "metadata": {},
   "outputs": [
    {
     "data": {
      "text/html": [
       "<div>\n",
       "<style scoped>\n",
       "    .dataframe tbody tr th:only-of-type {\n",
       "        vertical-align: middle;\n",
       "    }\n",
       "\n",
       "    .dataframe tbody tr th {\n",
       "        vertical-align: top;\n",
       "    }\n",
       "\n",
       "    .dataframe thead th {\n",
       "        text-align: right;\n",
       "    }\n",
       "</style>\n",
       "<table border=\"1\" class=\"dataframe\">\n",
       "  <thead>\n",
       "    <tr style=\"text-align: right;\">\n",
       "      <th></th>\n",
       "      <th>Algorithm</th>\n",
       "      <th>ProofType</th>\n",
       "      <th>TotalCoinsMined</th>\n",
       "      <th>TotalCoinSupply</th>\n",
       "      <th>PC1</th>\n",
       "      <th>PC2</th>\n",
       "      <th>PC3</th>\n",
       "      <th>CoinName</th>\n",
       "      <th>class</th>\n",
       "    </tr>\n",
       "  </thead>\n",
       "  <tbody>\n",
       "    <tr>\n",
       "      <th>42</th>\n",
       "      <td>Scrypt</td>\n",
       "      <td>PoW/PoS</td>\n",
       "      <td>4.199995e+01</td>\n",
       "      <td>42</td>\n",
       "      <td>-0.333262</td>\n",
       "      <td>1.016306</td>\n",
       "      <td>-0.512337</td>\n",
       "      <td>42</td>\n",
       "      <td>1</td>\n",
       "    </tr>\n",
       "    <tr>\n",
       "      <th>404</th>\n",
       "      <td>Scrypt</td>\n",
       "      <td>PoW/PoS</td>\n",
       "      <td>1.055185e+09</td>\n",
       "      <td>532000000</td>\n",
       "      <td>-0.316596</td>\n",
       "      <td>1.016281</td>\n",
       "      <td>-0.512724</td>\n",
       "      <td>404</td>\n",
       "      <td>1</td>\n",
       "    </tr>\n",
       "    <tr>\n",
       "      <th>1337</th>\n",
       "      <td>X13</td>\n",
       "      <td>PoW/PoS</td>\n",
       "      <td>2.927942e+10</td>\n",
       "      <td>314159265359</td>\n",
       "      <td>2.309608</td>\n",
       "      <td>1.564403</td>\n",
       "      <td>-0.569810</td>\n",
       "      <td>1337</td>\n",
       "      <td>4</td>\n",
       "    </tr>\n",
       "    <tr>\n",
       "      <th>BTC</th>\n",
       "      <td>SHA-256</td>\n",
       "      <td>PoW</td>\n",
       "      <td>1.792718e+07</td>\n",
       "      <td>21000000</td>\n",
       "      <td>-0.144397</td>\n",
       "      <td>-1.317876</td>\n",
       "      <td>0.217527</td>\n",
       "      <td>BTC</td>\n",
       "      <td>0</td>\n",
       "    </tr>\n",
       "    <tr>\n",
       "      <th>ETH</th>\n",
       "      <td>Ethash</td>\n",
       "      <td>PoW</td>\n",
       "      <td>1.076842e+08</td>\n",
       "      <td>0</td>\n",
       "      <td>-0.140816</td>\n",
       "      <td>-1.960368</td>\n",
       "      <td>0.315132</td>\n",
       "      <td>ETH</td>\n",
       "      <td>0</td>\n",
       "    </tr>\n",
       "    <tr>\n",
       "      <th>LTC</th>\n",
       "      <td>Scrypt</td>\n",
       "      <td>PoW</td>\n",
       "      <td>6.303924e+07</td>\n",
       "      <td>84000000</td>\n",
       "      <td>-0.163376</td>\n",
       "      <td>-1.093100</td>\n",
       "      <td>-0.024486</td>\n",
       "      <td>LTC</td>\n",
       "      <td>0</td>\n",
       "    </tr>\n",
       "    <tr>\n",
       "      <th>DASH</th>\n",
       "      <td>X11</td>\n",
       "      <td>PoW/PoS</td>\n",
       "      <td>9.031294e+06</td>\n",
       "      <td>22000000</td>\n",
       "      <td>-0.397732</td>\n",
       "      <td>1.159734</td>\n",
       "      <td>-0.393624</td>\n",
       "      <td>DASH</td>\n",
       "      <td>1</td>\n",
       "    </tr>\n",
       "    <tr>\n",
       "      <th>XMR</th>\n",
       "      <td>CryptoNight-V7</td>\n",
       "      <td>PoW</td>\n",
       "      <td>1.720114e+07</td>\n",
       "      <td>0</td>\n",
       "      <td>-0.151895</td>\n",
       "      <td>-2.243973</td>\n",
       "      <td>0.383584</td>\n",
       "      <td>XMR</td>\n",
       "      <td>0</td>\n",
       "    </tr>\n",
       "    <tr>\n",
       "      <th>ETC</th>\n",
       "      <td>Ethash</td>\n",
       "      <td>PoW</td>\n",
       "      <td>1.133597e+08</td>\n",
       "      <td>210000000</td>\n",
       "      <td>-0.139257</td>\n",
       "      <td>-1.960484</td>\n",
       "      <td>0.315122</td>\n",
       "      <td>ETC</td>\n",
       "      <td>0</td>\n",
       "    </tr>\n",
       "    <tr>\n",
       "      <th>ZEC</th>\n",
       "      <td>Equihash</td>\n",
       "      <td>PoW</td>\n",
       "      <td>7.383056e+06</td>\n",
       "      <td>21000000</td>\n",
       "      <td>-0.148432</td>\n",
       "      <td>-2.110599</td>\n",
       "      <td>0.318861</td>\n",
       "      <td>ZEC</td>\n",
       "      <td>0</td>\n",
       "    </tr>\n",
       "  </tbody>\n",
       "</table>\n",
       "</div>"
      ],
      "text/plain": [
       "           Algorithm ProofType  TotalCoinsMined TotalCoinSupply       PC1  \\\n",
       "42            Scrypt   PoW/PoS     4.199995e+01              42 -0.333262   \n",
       "404           Scrypt   PoW/PoS     1.055185e+09       532000000 -0.316596   \n",
       "1337             X13   PoW/PoS     2.927942e+10    314159265359  2.309608   \n",
       "BTC          SHA-256       PoW     1.792718e+07        21000000 -0.144397   \n",
       "ETH           Ethash       PoW     1.076842e+08               0 -0.140816   \n",
       "LTC           Scrypt       PoW     6.303924e+07        84000000 -0.163376   \n",
       "DASH             X11   PoW/PoS     9.031294e+06        22000000 -0.397732   \n",
       "XMR   CryptoNight-V7       PoW     1.720114e+07               0 -0.151895   \n",
       "ETC           Ethash       PoW     1.133597e+08       210000000 -0.139257   \n",
       "ZEC         Equihash       PoW     7.383056e+06        21000000 -0.148432   \n",
       "\n",
       "           PC2       PC3 CoinName  class  \n",
       "42    1.016306 -0.512337       42      1  \n",
       "404   1.016281 -0.512724      404      1  \n",
       "1337  1.564403 -0.569810     1337      4  \n",
       "BTC  -1.317876  0.217527      BTC      0  \n",
       "ETH  -1.960368  0.315132      ETH      0  \n",
       "LTC  -1.093100 -0.024486      LTC      0  \n",
       "DASH  1.159734 -0.393624     DASH      1  \n",
       "XMR  -2.243973  0.383584      XMR      0  \n",
       "ETC  -1.960484  0.315122      ETC      0  \n",
       "ZEC  -2.110599  0.318861      ZEC      0  "
      ]
     },
     "execution_count": 665,
     "metadata": {},
     "output_type": "execute_result"
    }
   ],
   "source": [
    "clustered_df1=get_clusters(5,pcs_df)\n",
    "clustered_df=crypto_df.join(clustered_df1)\n",
    "clustered_df[\"CoinName\"]=coins_name\n",
    "clustered_df=clustered_df[[\"Algorithm\",\"ProofType\",\"TotalCoinsMined\",\"TotalCoinSupply\",\"PC1\",\"PC2\",\"PC3\",\"CoinName\",\"class\"]]\n",
    "clustered_df.head(10)"
   ]
  },
  {
   "cell_type": "markdown",
   "metadata": {},
   "source": [
    "### Visualizing Results\n",
    "\n",
    "#### 3D-Scatter with Clusters"
   ]
  },
  {
   "cell_type": "code",
   "execution_count": 666,
   "metadata": {},
   "outputs": [
    {
     "data": {
      "application/vnd.plotly.v1+json": {
       "config": {
        "plotlyServerURL": "https://plot.ly"
       },
       "data": [
        {
         "customdata": [
          [
           "Scrypt"
          ],
          [
           "Scrypt"
          ],
          [
           "X13"
          ],
          [
           "X11"
          ],
          [
           "SHA-256"
          ],
          [
           "X15"
          ],
          [
           "Scrypt"
          ],
          [
           "Scrypt"
          ],
          [
           "Scrypt"
          ],
          [
           "Scrypt"
          ],
          [
           "Scrypt"
          ],
          [
           "Groestl"
          ],
          [
           "Scrypt"
          ],
          [
           "X11"
          ],
          [
           "SHA3"
          ],
          [
           "SHA-256"
          ],
          [
           "X13"
          ],
          [
           "X13"
          ],
          [
           "NeoScrypt"
          ],
          [
           "Scrypt"
          ],
          [
           "Scrypt"
          ],
          [
           "Scrypt"
          ],
          [
           "X11"
          ],
          [
           "X11"
          ],
          [
           "Scrypt"
          ],
          [
           "Scrypt"
          ],
          [
           "X11"
          ],
          [
           "X13"
          ],
          [
           "Scrypt"
          ],
          [
           "SHA-256"
          ],
          [
           "Groestl"
          ],
          [
           "X13"
          ],
          [
           "Scrypt"
          ],
          [
           "X13"
          ],
          [
           "Scrypt"
          ],
          [
           "X11"
          ],
          [
           "QUAIT"
          ],
          [
           "X13"
          ],
          [
           "SHA-256"
          ],
          [
           "X15"
          ],
          [
           "BLAKE256"
          ],
          [
           "SHA-256"
          ],
          [
           "X11"
          ],
          [
           "SHA-256"
          ],
          [
           "NIST5"
          ],
          [
           "Scrypt"
          ],
          [
           "X11"
          ],
          [
           "SHA-256"
          ],
          [
           "X11"
          ],
          [
           "SHA-256"
          ],
          [
           "SHA-256"
          ],
          [
           "NIST5"
          ],
          [
           "X11"
          ],
          [
           "Scrypt"
          ],
          [
           "Scrypt"
          ],
          [
           "Scrypt"
          ],
          [
           "X11"
          ],
          [
           "Scrypt"
          ],
          [
           "SHA-256"
          ],
          [
           "X11"
          ],
          [
           "Scrypt"
          ],
          [
           "Scrypt"
          ],
          [
           "SHA-256D"
          ],
          [
           "Scrypt"
          ],
          [
           "X11"
          ],
          [
           "X14"
          ],
          [
           "SHA-256D"
          ],
          [
           "X11"
          ],
          [
           "X13"
          ],
          [
           "X11"
          ],
          [
           "Scrypt"
          ],
          [
           "Scrypt"
          ],
          [
           "X11"
          ],
          [
           "SHA-256"
          ],
          [
           "Scrypt"
          ],
          [
           "Scrypt"
          ],
          [
           "Scrypt"
          ],
          [
           "X11"
          ],
          [
           "Scrypt"
          ],
          [
           "Scrypt"
          ],
          [
           "Scrypt"
          ],
          [
           "QuBit"
          ],
          [
           "Scrypt"
          ],
          [
           "SHA-256"
          ],
          [
           "X11"
          ],
          [
           "Scrypt"
          ],
          [
           "Scrypt"
          ],
          [
           "Scrypt"
          ],
          [
           "X11"
          ],
          [
           "Blake2S"
          ],
          [
           "X11"
          ],
          [
           "X11"
          ],
          [
           "X11"
          ],
          [
           "Scrypt"
          ],
          [
           "Scrypt"
          ],
          [
           "Scrypt"
          ],
          [
           "X11"
          ],
          [
           "Scrypt"
          ],
          [
           "X15"
          ],
          [
           "536"
          ],
          [
           "NIST5"
          ],
          [
           "NIST5"
          ],
          [
           "Skein"
          ],
          [
           "X13"
          ],
          [
           "Scrypt"
          ],
          [
           "X13"
          ],
          [
           "Skein"
          ],
          [
           "X11"
          ],
          [
           "Scrypt"
          ],
          [
           "Scrypt"
          ],
          [
           "X11"
          ],
          [
           "NeoScrypt"
          ],
          [
           "Scrypt"
          ],
          [
           "Scrypt"
          ],
          [
           "SHA-256"
          ],
          [
           "NIST5"
          ],
          [
           "PHI1612"
          ],
          [
           "Scrypt"
          ],
          [
           "Quark"
          ],
          [
           "Scrypt"
          ],
          [
           "X11"
          ],
          [
           "NIST5"
          ],
          [
           "X13"
          ],
          [
           "Scrypt"
          ],
          [
           "Scrypt"
          ],
          [
           "Scrypt"
          ],
          [
           "X11"
          ],
          [
           "Scrypt"
          ],
          [
           "Scrypt"
          ],
          [
           "Scrypt"
          ],
          [
           "C11"
          ],
          [
           "X11"
          ],
          [
           "XEVAN"
          ],
          [
           "NIST5"
          ],
          [
           "Scrypt"
          ],
          [
           "Scrypt"
          ],
          [
           "Scrypt"
          ],
          [
           "Quark"
          ],
          [
           "Scrypt"
          ],
          [
           "Scrypt"
          ],
          [
           "SHA-256D"
          ],
          [
           "Scrypt"
          ],
          [
           "X16R"
          ],
          [
           "Quark"
          ],
          [
           "Lyra2REv2"
          ],
          [
           "Scrypt"
          ],
          [
           "X11"
          ],
          [
           "Keccak"
          ],
          [
           "Scrypt"
          ],
          [
           "Quark"
          ],
          [
           "Scrypt"
          ],
          [
           "Quark"
          ],
          [
           "Scrypt"
          ],
          [
           "Scrypt"
          ],
          [
           "XEVAN"
          ],
          [
           "SHA-256D"
          ],
          [
           "X11"
          ],
          [
           "X11"
          ],
          [
           "Scrypt"
          ],
          [
           "X11"
          ],
          [
           "Scrypt"
          ],
          [
           "Scrypt"
          ],
          [
           "Scrypt"
          ],
          [
           "X11"
          ],
          [
           "Scrypt"
          ],
          [
           "SHA-256"
          ],
          [
           "X11"
          ],
          [
           "Scrypt"
          ],
          [
           "Scrypt"
          ],
          [
           "X11"
          ],
          [
           "Scrypt"
          ],
          [
           "SHA-256"
          ],
          [
           "Scrypt"
          ],
          [
           "NeoScrypt"
          ],
          [
           "X13"
          ],
          [
           "Scrypt"
          ]
         ],
         "hovertemplate": "<b>%{hovertext}</b><br><br>ProofType=PoW/PoS<br>PC1=%{x}<br>PC2=%{y}<br>PC3=%{z}<br>Algorithm=%{customdata[0]}<extra></extra>",
         "hovertext": [
          "42",
          "404",
          "1337",
          "DASH",
          "BTCD",
          "KOBO",
          "AUR",
          "BLU",
          "ENRG",
          "BTB",
          "CBX",
          "DMD",
          "HBN",
          "IOC",
          "MAX",
          "MZC",
          "NAV",
          "OPAL",
          "ORB",
          "POT",
          "PXC",
          "RDD",
          "SYNC",
          "TOR",
          "USDE",
          "UTC",
          "XC",
          "XST",
          "ZCC",
          "NTRN",
          "FAIR",
          "KORE",
          "8BIT",
          "STV",
          "VTR",
          "ISL",
          "DRZ",
          "CON",
          "EMC",
          "EGC",
          "DCR",
          "EDRC",
          "HTC",
          "DBIC",
          "PWR",
          "BLRY",
          "ERC",
          "SWING",
          "XRA",
          "REV",
          "CKC",
          "VIP",
          "BSD",
          "PUT",
          "IBANK",
          "FRWC",
          "GB",
          "CTC",
          "BXT",
          "MST",
          "ZNE",
          "ROOT",
          "BUZZ",
          "PSB",
          "HALLO",
          "GNJ",
          "LANA",
          "INSANE",
          "EMB",
          "XEN",
          "PLNC",
          "ARCO",
          "ENT",
          "EUC",
          "BCF",
          "BCCOIN",
          "MONEY",
          "XNG",
          "RC",
          "UNITS",
          "GAKH",
          "LTCR",
          "KED",
          "IOP",
          "KUSH",
          "PRX",
          "IMPCH",
          "CHAT",
          "XVP",
          "TAJ",
          "IMX",
          "HPC",
          "RAIN",
          "IMS",
          "ARGUS",
          "LMC",
          "XGR",
          "DEA",
          "HTML5",
          "ESP",
          "DNR",
          "VUC",
          "BTPL",
          "BRIT",
          "LINDA",
          "ONION",
          "CRM",
          "XMCC",
          "XCXT",
          "ETHD",
          "REC",
          "TZC",
          "TER",
          "WOMEN",
          "MAY",
          "NAMO",
          "LUX",
          "XIOS",
          "BTDX",
          "BLHC",
          "MAG",
          "ECA",
          "BCD",
          "CNBC",
          "GER",
          "LTCU",
          "PNX",
          "TROLL",
          "LCP",
          "USX",
          "SPD",
          "PUSHI",
          "ELP",
          "BSX",
          "BRIA",
          "IC",
          "ABJ",
          "CARE",
          "DEAL",
          "SIC",
          "VIG",
          "EMAR",
          "TRVC",
          "GIC",
          "ABS",
          "TPC",
          "EUNO",
          "XDNA",
          "TSC",
          "HERB",
          "OWC",
          "GALI",
          "CREDIT",
          "NSD",
          "BEET",
          "TTN",
          "AWR",
          "INSN",
          "LDOGE",
          "TRK",
          "OC",
          "BITS",
          "HYPER",
          "PINK",
          "ADC",
          "NKA",
          "PIGGY",
          "GEN",
          "MI",
          "CPC",
          "CLUB",
          "OK",
          "XWC",
          "FSC",
          "TRI",
          "GAP"
         ],
         "legendgroup": "PoW/PoS",
         "marker": {
          "color": "#636efa",
          "symbol": "circle"
         },
         "mode": "markers",
         "name": "PoW/PoS",
         "scene": "scene",
         "showlegend": true,
         "type": "scatter3d",
         "x": [
          -0.333261526946333,
          -0.31659570241365487,
          2.3096075482941796,
          -0.3977315188170803,
          -0.3131127996921801,
          -0.2473488481267948,
          -0.3329210300210622,
          -0.32549709338317134,
          -0.331757786643318,
          -0.33325746215966656,
          -0.333241739868023,
          -0.3675578431397788,
          -0.33131987491815007,
          -0.39762619311135133,
          -0.40455432779956463,
          -0.276410986772684,
          -0.2749406152005237,
          -0.2755629530214462,
          -0.3382404744658511,
          -0.32756251091672306,
          -0.3316629172539862,
          0.02495414122539567,
          -0.39799784690596735,
          -0.397909466037015,
          -0.3084881175961892,
          -0.3319386274444336,
          -0.39787393572825935,
          -0.27534377105022245,
          -0.32436257817363967,
          -0.31232434083787214,
          -0.36697928724093865,
          -0.2756383527084781,
          -0.33324359176986473,
          -0.27559052870241024,
          -0.3329779139405056,
          -0.39797937197752065,
          -0.41958003369645225,
          -0.27511205807029526,
          -0.30566776899474946,
          -0.2497908715913454,
          -0.08922257191582092,
          -0.31308370762137955,
          -0.07537480745177405,
          -0.3131474177739745,
          -0.23990918941676884,
          -0.3328537636942566,
          -0.395147903574154,
          -0.31294743278645976,
          -0.39582190542348,
          -0.3116906769755877,
          -0.3093583625329363,
          -0.36129293338128377,
          -0.39671427232886725,
          -0.30914488432895537,
          -0.3328918687599009,
          -0.33133053662941525,
          -0.3974531581333047,
          -0.3320959204826742,
          -0.3131283635697442,
          -0.39796856068579006,
          -0.3330810750287475,
          -0.3332378236743973,
          0.05070592746025461,
          -0.3328519007356772,
          -0.38412776424976325,
          -0.3985962321376155,
          -0.26388774744632365,
          -0.3975610136891501,
          0.856810497602893,
          -0.39792346098049913,
          -0.33277943261941595,
          -0.33293378990708944,
          -0.3974982668042988,
          -0.31299100832621024,
          -0.3327801697692481,
          -0.3329275919469648,
          -0.3285145843654845,
          -0.3979524606071046,
          -0.33213810780023895,
          -0.33312691237624353,
          -0.3331975001659359,
          -0.34614061691973785,
          -0.3294233813830331,
          -0.3131047723873067,
          -0.3978623925921792,
          -0.3329752622793926,
          -0.3331022412571391,
          -0.31395161647803144,
          -0.39712796754962826,
          -0.4322576759636002,
          -0.39586607524058876,
          -0.39702583165116584,
          -0.39296589555758443,
          -0.33304551621558154,
          -0.3330447045209809,
          -0.32616480543266213,
          -0.39750442162757904,
          -0.33225602431130474,
          0.8848371726750801,
          0.5793003861495969,
          -0.3628289164259408,
          -0.3613308123847218,
          -0.41415846368356274,
          -0.2752755536158071,
          0.1317918180592168,
          -0.27534634284620874,
          -0.413663246786716,
          -0.3977768684302759,
          -0.33268063145416454,
          -0.33318042612997373,
          -0.39771768037731814,
          -0.33323860153134427,
          -0.3331360298063748,
          0.436144553231698,
          -0.3114506846812066,
          -0.34759236933292265,
          -0.3848644390406074,
          -0.33308635721158647,
          -0.3929522071906008,
          -0.3329567309969804,
          -0.39651006011690965,
          0.19678528283602578,
          -0.272016467447012,
          -0.3304164382718069,
          0.08128419439700339,
          -0.3320950566650123,
          -0.3970913405335434,
          -0.3196580929099734,
          -0.3332025622415794,
          -0.3287468489690474,
          -0.35342479900459434,
          -0.39779411373515344,
          -0.3214701047066443,
          -0.3624277853683702,
          -0.33322992281836705,
          -0.3332116296073578,
          -0.3329280765682476,
          -0.3916199609406007,
          -0.27978593537468766,
          -0.1363004327083298,
          -0.32921794600989224,
          -0.33240198751150496,
          -0.36109411276032644,
          -0.39463674757323514,
          -0.35298059865381143,
          -0.32610488440567,
          -0.39726733616824433,
          -0.3496692225886319,
          -0.1926786041851739,
          -0.39393122010575493,
          -0.3329320536024832,
          -0.3943874408099368,
          0.5737848555298733,
          -0.3324148521291915,
          -0.31592447379085253,
          -0.2839271864237142,
          -0.3948313866046599,
          -0.3974946244396785,
          0.10209597140389134,
          -0.39503378295338276,
          -0.33180018373021347,
          -0.3326253878435072,
          -0.33314384124871704,
          -0.3891206268064478,
          -0.24682623104363516,
          -0.09272646855096649,
          -0.38486798142290213,
          -0.3324220106509801,
          -0.32548481894201386,
          -0.3940624900971981,
          -0.3308608430825007,
          -0.31162753869358384,
          -0.32805501271601045,
          -0.3378662404171227,
          -0.27574558208402633,
          -0.33130642767706836
         ],
         "y": [
          1.01630564190917,
          1.016281369448597,
          1.5644031294525733,
          1.1597338926370662,
          0.7914941597980102,
          1.791666351242874,
          1.016300973759485,
          1.0164696253378591,
          1.0163374006556032,
          1.0163053741664763,
          1.0163053525984225,
          0.8888399197530341,
          1.0162617804841025,
          1.1597361170964724,
          1.816936530280792,
          0.7905738998410458,
          1.732003913149848,
          1.731990769490319,
          0.5445439586184198,
          1.0161289633508976,
          1.016270094770938,
          1.0238710905138284,
          1.159743826407356,
          1.1597386213033447,
          1.0156972679427718,
          1.016262857343006,
          1.159742554276362,
          1.7319953985729615,
          1.0157863462053183,
          0.7914782788683519,
          0.8888552364571674,
          1.7319806901842882,
          1.016306020726482,
          1.7319831146982065,
          1.0162974869953647,
          1.1597442173016634,
          1.8942769304233904,
          1.731964930314004,
          0.79095971686139,
          1.7918437111243573,
          0.8094203004057541,
          0.7914947742171575,
          1.147780347050918,
          0.7915015619291954,
          1.4414476814870099,
          1.0162845497481339,
          1.1595324372746627,
          0.791484921998529,
          1.1597367396044753,
          0.7913822340407766,
          0.7912177111540553,
          1.4388204277036236,
          1.159672629628133,
          1.0154005011975322,
          1.0162820947500442,
          1.0162757001084084,
          1.1597199688464224,
          1.0162666077420037,
          0.7914945383316817,
          1.1597423239144917,
          1.0162946010124014,
          1.01630614254759,
          1.8953792562491765,
          1.016314293168588,
          1.158975900866235,
          1.9186502331872526,
          1.89757135120032,
          1.1597318357547295,
          1.7553051331657035,
          1.159742672905185,
          1.0162885666566663,
          1.0162828596093387,
          1.1597119437608077,
          0.7914981464888725,
          1.0162924691971542,
          1.0162928918674798,
          1.0159457239025136,
          1.159741249465405,
          1.0162275257999513,
          1.0162992908551802,
          1.0163046491143946,
          0.5934420826366056,
          1.016033082920565,
          0.791495036573086,
          1.1597400723627465,
          1.0162975429979566,
          1.0162934938952553,
          1.0160062237883567,
          1.1596914748171447,
          1.691102887553185,
          1.1597110533501893,
          1.1596936319084057,
          1.1594964810533885,
          1.016295201987519,
          1.016289994127674,
          1.0157482834993565,
          1.1597259585697526,
          1.016252617780537,
          1.752173854765339,
          1.8531550176225566,
          1.4388445672168577,
          1.4387984105095755,
          1.842560226885477,
          1.731975622116033,
          0.9907654882801912,
          1.7319819787050912,
          1.8425706857746307,
          1.1597417702178436,
          1.0162837846052297,
          1.0163043843655877,
          1.1597306487029388,
          0.5443693675894093,
          1.0162971651746313,
          1.014874358776624,
          0.7914740986483138,
          1.438324744808288,
          1.804059188670845,
          1.0162944894536778,
          1.6770730973361618,
          1.016301620314291,
          1.1596734063528142,
          1.4294533913608511,
          1.731917150233318,
          1.0162172093092392,
          0.9896987766217933,
          1.0162241915926522,
          1.159727610367125,
          1.015956428051245,
          1.0163040583029865,
          1.0162369114486862,
          0.9980615422196014,
          1.1597304489243436,
          1.344760264249624,
          1.4388247494351625,
          1.0163041876925556,
          1.0163031595620167,
          1.0162914671526009,
          1.6771012341302476,
          1.013812588344903,
          1.013251576961156,
          1.9014294080834024,
          1.0162643871023362,
          0.8285508832468494,
          1.6771753251393282,
          0.8736757586701066,
          1.0157495490203503,
          1.1597238933719123,
          0.8385920546260683,
          1.0065444093274458,
          1.6771556777877104,
          1.0162977483173274,
          1.6771707704269236,
          0.9825607502652858,
          1.0162641154039933,
          1.3445662013987731,
          1.8989204651086322,
          1.1595136614186319,
          1.1597332378833838,
          1.0007469157531417,
          1.159806427596369,
          1.0161950572602454,
          1.016280704987634,
          1.0163081274390156,
          1.1595776924173196,
          1.010705120603139,
          0.7960298619986035,
          1.159313887558451,
          1.0163127637693117,
          1.0161869886183157,
          1.1596798352258175,
          1.0162431855561185,
          0.7914668273249048,
          1.0162034305901424,
          0.544511975354717,
          1.7319868275295516,
          1.0161701233024674
         ],
         "z": [
          -0.512337289621806,
          -0.5127236570386351,
          -0.5698101314453136,
          -0.39362373994659605,
          -0.2703430034607341,
          -0.5628578203197466,
          -0.5123442242685836,
          -0.5125575924080045,
          -0.5123799557375648,
          -0.5123373236655792,
          -0.5123376884646775,
          -0.35060839705286767,
          -0.5123728700547019,
          -0.39362672838684515,
          -0.3828372053901601,
          -0.2709945972218796,
          -0.5475567885951165,
          -0.5475391308032705,
          -0.3036767723984974,
          -0.5124307022222322,
          -0.5123667137642824,
          -0.5225010583918178,
          -0.39361976013168276,
          -0.39362064206205954,
          -0.5127800509865067,
          -0.5123585657718402,
          -0.3936223818259856,
          -0.5475453497240789,
          -0.5124271932610961,
          -0.2703578955590714,
          -0.3506255247464233,
          -0.5475350403942592,
          -0.512337798509182,
          -0.547536722498444,
          -0.5123420848897169,
          -0.39362028448937925,
          -0.68740974821354,
          -0.547543794735586,
          -0.2703952315669018,
          -0.5628411624209397,
          -0.3453918268872145,
          -0.2703438288994482,
          -0.39845690696291003,
          -0.2703438910055275,
          -0.4640801184556973,
          -0.5123420304842338,
          -0.39363818843678233,
          -0.2703447688652849,
          -0.3936693048007331,
          -0.27035071810781963,
          -0.2703677469940671,
          -0.4606214252927505,
          -0.39363357968328644,
          -0.5126963806867936,
          -0.512340569942365,
          -0.5123758193287894,
          -0.39362708546895603,
          -0.5123557287368328,
          -0.2703427244509262,
          -0.39362010347430926,
          -0.5123389952777533,
          -0.5123379621692162,
          -0.5766075468104411,
          -0.5123489120853089,
          -0.39376941695624157,
          -0.6224902998033227,
          -0.5697128673197606,
          -0.3936272770307226,
          -0.5795301274327223,
          -0.3936212443611593,
          -0.5123447020621411,
          -0.5123397598746696,
          -0.3936241796949443,
          -0.27034678426469405,
          -0.5123455818904376,
          -0.5123422119789758,
          -0.5123661859573237,
          -0.393620235108812,
          -0.5123457519303488,
          -0.512338995432804,
          -0.5123385671699432,
          -0.2772664590708401,
          -0.5123648960148682,
          -0.27034339381115935,
          -0.39362208272466903,
          -0.5123421601261537,
          -0.5123382429717391,
          -0.5127225868373088,
          -0.3936281827506831,
          -0.5088644393039748,
          -0.39366236093729823,
          -0.39363108068549346,
          -0.3936812389173356,
          -0.5123399697108699,
          -0.5123387915526483,
          -0.512376058085427,
          -0.3936272568444189,
          -0.512348747222535,
          -0.5804055856990314,
          -0.6615543356198776,
          -0.4605908514791511,
          -0.460615472866168,
          -0.5639961475361503,
          -0.5475424076059687,
          -0.5174029426222801,
          -0.5475422041141168,
          -0.5640101984849902,
          -0.3936244844091207,
          -0.5123459263140233,
          -0.5123389078539935,
          -0.393623319643556,
          -0.3037542694692837,
          -0.512338292330828,
          -0.5301031688313241,
          -0.2703774812355481,
          -0.4608296819026589,
          -0.5826560279586069,
          -0.5123388454046747,
          -0.4894193256967649,
          -0.5123435332897947,
          -0.3936385609167179,
          -0.4715929182622284,
          -0.547605612669312,
          -0.512383870534064,
          -0.5159698735153345,
          -0.5123459978994236,
          -0.39363735143648676,
          -0.5125769340511128,
          -0.5123383122967776,
          -0.5124276653697042,
          -0.46703143816263976,
          -0.3936214761534525,
          -0.24979397103627057,
          -0.4605957293355836,
          -0.5123376985754151,
          -0.5123378924363687,
          -0.5123418730504337,
          -0.4894571259495843,
          -0.5130217963407467,
          -0.5162673213688393,
          -0.5690633674829385,
          -0.5123480201329226,
          -0.28875468481753586,
          -0.4894032100149204,
          -0.33739336396924546,
          -0.5123777582440648,
          -0.3936323578555426,
          -0.31281284585810126,
          -0.5133994902319106,
          -0.4894152858578705,
          -0.5123432235107758,
          -0.4894080261265035,
          -0.5259115437179136,
          -0.5123476551209731,
          -0.24987977980227102,
          -0.569551730167577,
          -0.3936413158668387,
          -0.3936291607143242,
          -0.5189992094776292,
          -0.39370386063741725,
          -0.5123462349687148,
          -0.5123465175544347,
          -0.5123406287629116,
          -0.39379034196862994,
          -0.5130825604877608,
          -0.27656878099045695,
          -0.3938297090920413,
          -0.5123586706587279,
          -0.5124929050294443,
          -0.3936976009075748,
          -0.5123793907485985,
          -0.2703716503540117,
          -0.5124362390033036,
          -0.3036782209375658,
          -0.5475339294992431,
          -0.5123521150129102
         ]
        },
        {
         "customdata": [
          [
           "SHA-256"
          ],
          [
           "Ethash"
          ],
          [
           "Scrypt"
          ],
          [
           "CryptoNight-V7"
          ],
          [
           "Ethash"
          ],
          [
           "Equihash"
          ],
          [
           "Multiple"
          ],
          [
           "Scrypt"
          ],
          [
           "X11"
          ],
          [
           "Scrypt"
          ],
          [
           "Multiple"
          ],
          [
           "Scrypt"
          ],
          [
           "SHA-256"
          ],
          [
           "Scrypt"
          ],
          [
           "Scrypt"
          ],
          [
           "Quark"
          ],
          [
           "Groestl"
          ],
          [
           "Scrypt"
          ],
          [
           "Scrypt"
          ],
          [
           "Scrypt"
          ],
          [
           "X11"
          ],
          [
           "Multiple"
          ],
          [
           "SHA-256"
          ],
          [
           "Scrypt"
          ],
          [
           "Scrypt"
          ],
          [
           "Scrypt"
          ],
          [
           "Scrypt"
          ],
          [
           "Scrypt"
          ],
          [
           "NeoScrypt"
          ],
          [
           "Scrypt"
          ],
          [
           "Scrypt"
          ],
          [
           "Scrypt"
          ],
          [
           "Scrypt"
          ],
          [
           "SHA-256"
          ],
          [
           "Scrypt"
          ],
          [
           "Scrypt"
          ],
          [
           "Scrypt"
          ],
          [
           "Scrypt"
          ],
          [
           "HybridScryptHash256"
          ],
          [
           "Scrypt"
          ],
          [
           "Scrypt"
          ],
          [
           "SHA-256"
          ],
          [
           "Scrypt"
          ],
          [
           "Scrypt"
          ],
          [
           "Scrypt"
          ],
          [
           "Scrypt"
          ],
          [
           "SHA-256"
          ],
          [
           "SHA-256"
          ],
          [
           "SHA-256"
          ],
          [
           "SHA-256"
          ],
          [
           "SHA-256"
          ],
          [
           "X11"
          ],
          [
           "Scrypt"
          ],
          [
           "Lyra2REv2"
          ],
          [
           "Scrypt"
          ],
          [
           "SHA-256"
          ],
          [
           "CryptoNight"
          ],
          [
           "CryptoNight"
          ],
          [
           "Scrypt"
          ],
          [
           "Scrypt"
          ],
          [
           "Scrypt"
          ],
          [
           "Scrypt"
          ],
          [
           "Scrypt"
          ],
          [
           "Scrypt"
          ],
          [
           "Stanford Folding"
          ],
          [
           "Multiple"
          ],
          [
           "QuBit"
          ],
          [
           "Scrypt"
          ],
          [
           "Scrypt"
          ],
          [
           "M7 POW"
          ],
          [
           "Scrypt"
          ],
          [
           "SHA-256"
          ],
          [
           "Scrypt"
          ],
          [
           "X11"
          ],
          [
           "Lyra2RE"
          ],
          [
           "SHA-256"
          ],
          [
           "X11"
          ],
          [
           "Scrypt"
          ],
          [
           "Scrypt"
          ],
          [
           "Ethash"
          ],
          [
           "Blake2b"
          ],
          [
           "X11"
          ],
          [
           "SHA-256"
          ],
          [
           "Scrypt"
          ],
          [
           "1GB AES Pattern Search"
          ],
          [
           "Scrypt"
          ],
          [
           "SHA-256"
          ],
          [
           "X11"
          ],
          [
           "Dagger"
          ],
          [
           "Scrypt"
          ],
          [
           "X11GOST"
          ],
          [
           "Scrypt"
          ],
          [
           "X11"
          ],
          [
           "Scrypt"
          ],
          [
           "X11"
          ],
          [
           "CryptoNight"
          ],
          [
           "SHA-256"
          ],
          [
           "Multiple"
          ],
          [
           "Scrypt"
          ],
          [
           "SHA-256"
          ],
          [
           "Scrypt"
          ],
          [
           "Lyra2Z"
          ],
          [
           "Ethash"
          ],
          [
           "Equihash"
          ],
          [
           "Scrypt"
          ],
          [
           "X11"
          ],
          [
           "X11"
          ],
          [
           "CryptoNight"
          ],
          [
           "Scrypt"
          ],
          [
           "CryptoNight"
          ],
          [
           "Lyra2RE"
          ],
          [
           "X11"
          ],
          [
           "CryptoNight-V7"
          ],
          [
           "Scrypt"
          ],
          [
           "X11"
          ],
          [
           "Equihash"
          ],
          [
           "Scrypt"
          ],
          [
           "Lyra2RE"
          ],
          [
           "Dagger-Hashimoto"
          ],
          [
           "Scrypt"
          ],
          [
           "NIST5"
          ],
          [
           "Scrypt"
          ],
          [
           "SHA-256"
          ],
          [
           "Scrypt"
          ],
          [
           "CryptoNight-V7"
          ],
          [
           "Argon2d"
          ],
          [
           "Blake2b"
          ],
          [
           "Cloverhash"
          ],
          [
           "CryptoNight"
          ],
          [
           "X11"
          ],
          [
           "Scrypt"
          ],
          [
           "Scrypt"
          ],
          [
           "X11"
          ],
          [
           "X11"
          ],
          [
           "CryptoNight"
          ],
          [
           "Time Travel"
          ],
          [
           "Scrypt"
          ],
          [
           "Keccak"
          ],
          [
           "X11"
          ],
          [
           "SHA-256"
          ],
          [
           "Scrypt"
          ],
          [
           "Scrypt"
          ],
          [
           "Scrypt"
          ],
          [
           "Scrypt"
          ],
          [
           "Scrypt"
          ],
          [
           "Scrypt"
          ],
          [
           "CryptoNight"
          ],
          [
           "Equihash"
          ],
          [
           "X11"
          ],
          [
           "NeoScrypt"
          ],
          [
           "Equihash"
          ],
          [
           "Dagger"
          ],
          [
           "Scrypt"
          ],
          [
           "X11"
          ],
          [
           "NeoScrypt"
          ],
          [
           "Ethash"
          ],
          [
           "NeoScrypt"
          ],
          [
           "Multiple"
          ],
          [
           "CryptoNight"
          ],
          [
           "CryptoNight"
          ],
          [
           "Ethash"
          ],
          [
           "X11"
          ],
          [
           "CryptoNight-V7"
          ],
          [
           "Scrypt"
          ],
          [
           "BLAKE256"
          ],
          [
           "X11"
          ],
          [
           "NeoScrypt"
          ],
          [
           "NeoScrypt"
          ],
          [
           "Scrypt"
          ],
          [
           "X11"
          ],
          [
           "SHA-256"
          ],
          [
           "C11"
          ],
          [
           "CryptoNight"
          ],
          [
           "SkunkHash"
          ],
          [
           "CryptoNight"
          ],
          [
           "Scrypt"
          ],
          [
           "Dagger"
          ],
          [
           "Lyra2REv2"
          ],
          [
           "Scrypt"
          ],
          [
           "Scrypt"
          ],
          [
           "X11"
          ],
          [
           "Ethash"
          ],
          [
           "CryptoNight"
          ],
          [
           "Scrypt"
          ],
          [
           "IMesh"
          ],
          [
           "Equihash"
          ],
          [
           "Lyra2Z"
          ],
          [
           "X11"
          ],
          [
           "CryptoNight"
          ],
          [
           "NIST5"
          ],
          [
           "Lyra2RE"
          ],
          [
           "Tribus"
          ],
          [
           "Lyra2Z"
          ],
          [
           "CryptoNight"
          ],
          [
           "CryptoNight Heavy"
          ],
          [
           "CryptoNight"
          ],
          [
           "Jump Consistent Hash"
          ],
          [
           "CryptoNight"
          ],
          [
           "X16R"
          ],
          [
           "HMQ1725"
          ],
          [
           "X11"
          ],
          [
           "Scrypt"
          ],
          [
           "CryptoNight-V7"
          ],
          [
           "Cryptonight-GPU"
          ],
          [
           "XEVAN"
          ],
          [
           "CryptoNight Heavy"
          ],
          [
           "SHA-256"
          ],
          [
           "X11"
          ],
          [
           "X16R"
          ],
          [
           "Equihash"
          ],
          [
           "Lyra2Z"
          ],
          [
           "SHA-256"
          ],
          [
           "CryptoNight"
          ],
          [
           "Blake"
          ],
          [
           "Blake"
          ],
          [
           "Exosis"
          ],
          [
           "Scrypt"
          ],
          [
           "Equihash"
          ],
          [
           "Equihash"
          ],
          [
           "QuBit"
          ],
          [
           "SHA-256"
          ],
          [
           "X13"
          ],
          [
           "SHA-256"
          ],
          [
           "Scrypt"
          ],
          [
           "NeoScrypt"
          ],
          [
           "Blake"
          ],
          [
           "Scrypt"
          ],
          [
           "SHA-256"
          ],
          [
           "Scrypt"
          ],
          [
           "Groestl"
          ],
          [
           "Scrypt"
          ],
          [
           "Scrypt"
          ],
          [
           "Multiple"
          ],
          [
           "Equihash+Scrypt"
          ],
          [
           "Ethash"
          ],
          [
           "CryptoNight"
          ],
          [
           "Equihash"
          ]
         ],
         "hovertemplate": "<b>%{hovertext}</b><br><br>ProofType=PoW<br>PC1=%{x}<br>PC2=%{y}<br>PC3=%{z}<br>Algorithm=%{customdata[0]}<extra></extra>",
         "hovertext": [
          "BTC",
          "ETH",
          "LTC",
          "XMR",
          "ETC",
          "ZEC",
          "DGB",
          "PRC",
          "SPR",
          "ARG",
          "XMY",
          "MOON",
          "ZET",
          "SXC",
          "QTL",
          "QRK",
          "RIC",
          "DGC",
          "CAT",
          "CCN",
          "CRYPT",
          "XVG",
          "DVC",
          "EAC",
          "EFL",
          "EMC2",
          "EMD",
          "FRK",
          "FTC",
          "GDC",
          "GLC",
          "GLD",
          "IFC",
          "IXC",
          "KGC",
          "LKY",
          "LTB",
          "MEC",
          "MED",
          "MINC",
          "NOBL",
          "NMC",
          "NYAN",
          "RPC",
          "SBC",
          "SMC",
          "SYS",
          "TGC",
          "TRC",
          "UNB",
          "UNO",
          "URO",
          "VIA",
          "VTC",
          "WDC",
          "XJO",
          "BCN",
          "XDN",
          "MONA",
          "NLG",
          "PTC",
          "WBB",
          "FLO",
          "ABY",
          "FLDC",
          "UIS",
          "CYP",
          "OMC",
          "GRE",
          "XCN",
          "MSC",
          "SOON",
          "1CR",
          "MARS",
          "CTO",
          "ACP",
          "BSC",
          "SONG",
          "ZNY",
          "EXP",
          "SC",
          "MND",
          "I0C",
          "RVR",
          "HODL",
          "GAME",
          "DIEM",
          "ADZ",
          "SOIL",
          "YOC",
          "SIB",
          "FRN",
          "BOLI",
          "OMNI",
          "PIZZA",
          "KRB",
          "ZYD",
          "COVAL",
          "DOPE",
          "DLC",
          "SH",
          "XZC",
          "ELE",
          "ZCL",
          "KLC",
          "ATX",
          "KURT",
          "XCI",
          "OS76",
          "BIC",
          "HXX",
          "PAC",
          "CTL",
          "BVC",
          "VLTC",
          "ZER",
          "CDN",
          "ZOI",
          "DBIX",
          "EB3",
          "CXT",
          "BENJI",
          "ILC",
          "EQT",
          "QRL",
          "DYN",
          "NANO",
          "CHAN",
          "DCY",
          "DP",
          "UNIFY",
          "SOCC",
          "ARC",
          "DAS",
          "XLC",
          "BTX",
          "GCN",
          "SMART",
          "ONX",
          "BCH",
          "SOJ",
          "NYC",
          "FRAZ",
          "KRONE",
          "ACC",
          "LINX",
          "SUMO",
          "BTCZ",
          "ELM",
          "VIVO",
          "BTG",
          "PIRL",
          "EBST",
          "PURA",
          "INN",
          "ELLA",
          "GBX",
          "XSH",
          "XUN",
          "COAL",
          "DAXX",
          "AC3",
          "LTHN",
          "POP",
          "PHO",
          "SUCR",
          "SPK",
          "GUN",
          "IRL",
          "PCOIN",
          "UBTC",
          "ITZ",
          "TRTL",
          "MUN",
          "NBR",
          "SSS",
          "TRF",
          "KREDS",
          "FLIP",
          "LOT",
          "CIF",
          "CLO",
          "TUBE",
          "PSD",
          "ADK",
          "BTL",
          "ALPS",
          "FTO",
          "XMC",
          "JUMP",
          "INFX",
          "KEC",
          "GIN",
          "PLTC",
          "LOKI",
          "NCP",
          "MGD",
          "PLURA",
          "XMN",
          "PLUS1",
          "AXE",
          "HEX",
          "WEBC",
          "RYO",
          "URALS",
          "QWC",
          "PPAI",
          "AZART",
          "XCG",
          "CRYP",
          "ACM",
          "BSV",
          "FRED",
          "UMO",
          "LIT",
          "EXO",
          "BLTG",
          "BEAM",
          "BTH",
          "SLC",
          "BLAST",
          "XRC",
          "GLT",
          "SLR",
          "UFO",
          "BLC",
          "CESC",
          "CRW",
          "SMLY",
          "GRS",
          "BTA",
          "PAK",
          "J",
          "VOLLAR",
          "RCC",
          "BDX",
          "ZEN"
         ],
         "legendgroup": "PoW",
         "marker": {
          "color": "#EF553B",
          "symbol": "circle"
         },
         "mode": "markers",
         "name": "PoW",
         "scene": "scene",
         "showlegend": true,
         "type": "scatter3d",
         "x": [
          -0.14439667745785653,
          -0.14081582201535572,
          -0.1633757166227796,
          -0.15189532578053563,
          -0.13925744296485443,
          -0.1484321001180046,
          0.16113040530002085,
          -0.16452223585664721,
          -0.229199909863929,
          -0.1641386779546954,
          -0.09233795035791316,
          2.5580536449970834,
          -0.14148090481787767,
          -0.16139340227153384,
          -0.163942655065986,
          -0.22130271116629588,
          -0.19790831379165227,
          -0.16399144711425415,
          -0.16450449775280912,
          -0.16459097466617537,
          -0.2292892733517833,
          0.1848843261986618,
          0.2335415990947287,
          0.084199618459531,
          -0.16433720917449257,
          -0.15994145016313877,
          -0.16427648676580608,
          -0.1646479912417297,
          -0.16485441959965325,
          -0.14386523371128174,
          -0.1634428059563172,
          -0.16372031768965062,
          1.584684443347305,
          -0.1443580379095248,
          -0.16100904328059995,
          -0.1643636571071203,
          -0.16471855678614813,
          -0.1639776270125412,
          -0.1498774364891511,
          -0.16459979398572222,
          -0.02947076258757576,
          -0.1444356664903591,
          -0.15826217500632533,
          -0.1645792285297357,
          -0.16267307772006828,
          -0.1640658465397314,
          -0.13158459636009842,
          -0.14389930501283396,
          -0.14418657764379963,
          -0.14416955141934398,
          -0.14476041017414673,
          -0.2294632115651105,
          -0.16429565166927862,
          -0.18377494825015742,
          -0.16139811440918814,
          -0.14396661581482964,
          3.8653306934064564,
          0.4634757586775491,
          -0.16316296712527512,
          -0.14775798906022444,
          -0.16188147546195733,
          -0.16472076636949007,
          -0.16174648467454747,
          -0.14796676143728787,
          -0.12914957928669066,
          -0.1263528196285609,
          -0.1784712850411985,
          -0.16459381434938844,
          -0.037500367714452046,
          -0.14305498044936377,
          -0.1647296613599408,
          -0.14446345048713874,
          0.4875958206110331,
          -0.2288502487839937,
          -0.15735142497850657,
          -0.14420324605068618,
          -0.22913521621290828,
          -0.16285296789146111,
          -0.16204501410202757,
          -0.14188352603861837,
          0.3740488799420318,
          -0.22917062214034076,
          -0.14435916052256317,
          -0.16068654205650398,
          -0.1396091869955348,
          -0.16329266380119395,
          0.27422614590245165,
          -0.22833113606269967,
          -0.15705409619530072,
          -0.1635401324373943,
          -0.1500982979626578,
          -0.16451952051082536,
          -0.22913385541840792,
          -0.16472971986897192,
          -0.22928386155034908,
          0.3083424663462539,
          -0.1446193082780864,
          -0.10642042469439496,
          -0.16189573415870712,
          -0.1445779281201792,
          -0.16439303621986184,
          -0.1435338334228006,
          -0.1416256210541783,
          -0.148453722243255,
          -0.09143687314833844,
          -0.21586395565917615,
          -0.22711146938269924,
          0.30833683069024725,
          -0.16471145310379035,
          0.30846757794745133,
          -0.15789200531084394,
          0.48614484779892425,
          -0.15065971096149333,
          -0.16467973269884065,
          -0.22201606138462365,
          -0.14846610058179974,
          -0.16281254573777632,
          -0.15761031760921454,
          -0.14383971419227268,
          -0.13559596392490827,
          -0.1939650549363174,
          -0.16424200231669117,
          -0.1109361559529467,
          -0.1640640198764007,
          -0.15051742564991663,
          -0.15819925778668056,
          -0.026348077445380577,
          -0.16646864038584994,
          0.3444676202633185,
          -0.22833952915080868,
          -0.16438336417839108,
          -0.16414668088866358,
          -0.22873430785935212,
          -0.22931190163970525,
          0.30873191596232896,
          -0.14243941359768367,
          3.2457998368972363,
          -0.12096495399212116,
          -0.22018172370639555,
          -0.1443958414788567,
          -0.09028426135888944,
          1.582699576502502,
          -0.16448123458478947,
          -0.16393273938469927,
          -0.16363364200232058,
          -0.1636205698585407,
          0.3089155740786977,
          0.06391317287990533,
          -0.18368786072977375,
          -0.16954430367144668,
          -0.14831211510009398,
          -0.15581288204526098,
          -0.16281075447196564,
          -0.22485523470885854,
          -0.1693896766511758,
          -0.1399904022807134,
          -0.16948990723312257,
          -0.11658224450352056,
          1.1464883864649256,
          0.3083195950803913,
          -0.06486058873331409,
          -0.22459671935897932,
          -0.13962680701810393,
          -0.08084880126929671,
          1.0848515980568751,
          -0.22928589400680968,
          -0.16954186261360377,
          -0.16257802836920904,
          -0.16373205325263518,
          -0.22921128346645211,
          -0.14437523415763043,
          -0.18487081840345956,
          8.048120165201729,
          -0.14467358495773783,
          0.3121949822536534,
          0.028357489367993684,
          -0.15531598886184989,
          -0.16932945830085985,
          -0.16430591630575653,
          0.14284517342795117,
          -0.2233507487696735,
          -0.09301701479604829,
          0.3162447319006099,
          -0.1645429854213436,
          -0.12871447222032364,
          -0.14730296198535028,
          -0.1413167860662852,
          -0.228380311228687,
          0.3085021576953731,
          -0.19402453408332823,
          -0.15773720513025105,
          -0.16435091172474736,
          -0.14361823128531584,
          0.3124313769432706,
          0.5808126137588375,
          2.1174387786424407,
          -0.14000169757212422,
          0.32211044574991443,
          -0.19335486616805514,
          -0.16589567936220895,
          -0.22926804984729524,
          -0.16456757293811514,
          -0.13950656039537077,
          -0.17369192277526674,
          -0.15171154407627285,
          3.1039894826383665,
          -0.10421382414192683,
          -0.229239408177363,
          -0.1927824434819286,
          -0.04303247033188121,
          -0.1430158318542587,
          -0.14439587905319973,
          0.388282227001908,
          -0.1371166592915493,
          -0.13750878652895487,
          -0.14879604647046055,
          -0.1634595954088105,
          -0.14637172927871173,
          -0.14814489310743767,
          -0.17768205899890763,
          -0.14367184461236435,
          -0.10719905839063623,
          -0.1425395021643205,
          0.5315264462901952,
          -0.09468923648631047,
          -0.08796161767590162,
          -0.14811738323249415,
          -0.1441859479456408,
          0.5512846097763061,
          -0.19746920724228137,
          -0.164644431672286,
          -0.16259963674918276,
          -0.12708787881804454,
          -0.12964607285910268,
          -0.1416587876600711,
          0.33008204435168154,
          -0.1484331573164458
         ],
         "y": [
          -1.3178758225368954,
          -1.960368296882857,
          -1.0930997521903105,
          -2.2439732665802796,
          -1.9604839045814708,
          -2.11059875499762,
          -1.8721069081592867,
          -1.0930794103515349,
          -0.9496392793442787,
          -1.0931017209946736,
          -1.8640225551020682,
          -1.3071443752243976,
          -1.317919476133049,
          -1.0931752878989969,
          -1.0931230416633773,
          -0.43226888020193743,
          -1.2205673668759038,
          -1.093087413070271,
          -1.0930790357260671,
          -1.093075303196977,
          -0.9496397522048258,
          -1.868461548465914,
          -1.3247310216447916,
          -1.0973593372403665,
          -1.093075502622273,
          -1.0931798381515534,
          -1.0930819998149663,
          -1.0930751606595022,
          -1.5649630691505447,
          -1.0936329980322173,
          -1.093091267746236,
          -1.0930987169912594,
          -1.1201975706396647,
          -1.3178750064767901,
          -1.0931780765130847,
          -1.0930753539578284,
          -1.0930696593494962,
          -1.093082760351159,
          -2.222000463226309,
          -1.0930732687261386,
          -1.1008208944633242,
          -1.3178766459780409,
          -1.0931706868288968,
          -1.0930806140262368,
          -1.0932023144074905,
          -1.093091130138166,
          -1.3182184107358803,
          -1.3178837148241853,
          -1.317886237305287,
          -1.3179127528301593,
          -1.3178688292769185,
          -0.9496306954297739,
          -1.0930760394152261,
          -1.2357068702167355,
          -1.0931862936232695,
          -1.317883713471844,
          -2.341077613099914,
          -2.289533826853163,
          -1.0931101958666616,
          -1.0938986635307195,
          -1.0931264607587612,
          -1.0930706098680587,
          -1.0931190933444317,
          -1.0934221496437664,
          -2.2233440991054962,
          -1.8633264630746207,
          -1.5158949595589681,
          -1.0930684543824771,
          -1.097454278818283,
          -2.4258634501269403,
          -1.0930693772217437,
          -1.317877232770908,
          -1.1443580150225947,
          -0.9496410886855106,
          -2.193919825828896,
          -1.3178949064799854,
          -0.9496386202662335,
          -1.0931779937968225,
          -1.093189049820187,
          -1.9604028034723506,
          -2.107910972050127,
          -0.9496358318334454,
          -1.3178750301861692,
          -1.0931320695468099,
          -2.153785899517808,
          -1.093097998130096,
          -1.3243147017448003,
          -0.9496661943550371,
          -2.220226192147853,
          -1.0931628812254637,
          -2.1836145637777435,
          -1.0930786457640507,
          -0.9496414204860403,
          -1.093069376314507,
          -0.9496445885877675,
          -2.2857448868207024,
          -1.3178725581085404,
          -1.8637541824452308,
          -1.093150535061245,
          -1.3178723223084008,
          -1.0930830468380854,
          -2.148507493500701,
          -1.9604039332909464,
          -2.110599211652902,
          -1.0985934078247146,
          -0.9496971016052789,
          -0.9497422777638694,
          -2.2857527854834334,
          -1.0930704741985122,
          -2.2857528530851097,
          -2.1938917865081056,
          -1.0052411741040825,
          -2.244078010002597,
          -1.093070260944128,
          -0.9501806528807454,
          -2.1105966441215847,
          -1.0930991739636466,
          -2.1938936169554393,
          -2.1897435805599006,
          -1.0952826003422202,
          -0.670550055472249,
          -1.0930837612770734,
          -1.318922390190775,
          -1.093105802148955,
          -2.244018425772473,
          -2.2186519567285887,
          -2.116607942903546,
          -2.1263307406148115,
          -2.2863893376283784,
          -0.9496776874536421,
          -1.09307525869164,
          -1.0931096696538771,
          -0.949657735511512,
          -0.9496408666259715,
          -2.2857677802718133,
          -2.0422806160351037,
          -1.1624871644179862,
          -1.272789046027488,
          -0.9502126359970433,
          -1.3178758048811734,
          -1.0989226848190037,
          -1.056163557199473,
          -1.0930778371723826,
          -1.0931115164078857,
          -1.0931165153646976,
          -1.093116239283442,
          -2.285788576259497,
          -2.1209512476749435,
          -0.9499369602877289,
          -1.5648435815095825,
          -2.1105962209362614,
          -2.22028930709381,
          -1.0930991361324445,
          -0.949780909771191,
          -1.5648530461334555,
          -1.9605488913383453,
          -1.5648458274183201,
          -1.863586888660583,
          -2.3281517179144067,
          -2.285747137957312,
          -1.9658365352585372,
          -0.9499168979516093,
          -2.2444210309270867,
          -1.0948335902883504,
          -1.3423541508725243,
          -0.9496409538654764,
          -1.564839286515591,
          -1.5650309795302373,
          -1.0930931331562672,
          -0.9496416412723089,
          -1.3178747798203023,
          -1.1113151598343276,
          -2.8295150263958466,
          -2.092984305004243,
          -2.28589408260025,
          -1.0960633730727112,
          -2.2202389904347024,
          -1.2361203398659284,
          -1.0930882792804697,
          -1.0995911658310258,
          -0.9498552212893163,
          -1.9639558541699418,
          -2.286278159920422,
          -1.0930798485784992,
          -2.0149618612148466,
          -2.11060956256366,
          -2.1486577069026893,
          -0.9496785487635746,
          -2.2857474549840044,
          -0.6705320379595099,
          -2.193900031022972,
          -2.1774145927879602,
          -2.1485015670531955,
          -2.286075801683821,
          -2.2155519559643038,
          -2.3776621739220722,
          -2.052827049364316,
          -2.2861542771301777,
          -1.2807976703537742,
          -2.2690833069749057,
          -0.9496414256879923,
          -1.0930811495483754,
          -2.2449492879459996,
          -2.2621857037938717,
          -0.7646944952018366,
          -2.2926213831105784,
          -1.3184975198343456,
          -0.9496436497407621,
          -1.2808406920655155,
          -2.113732905413488,
          -2.1485408266202186,
          -1.3178758056747364,
          -2.2897639997406545,
          -2.1654958239650317,
          -2.165447603375656,
          -2.075430754174215,
          -1.0931269843305471,
          -2.110726250950919,
          -2.1105996810122334,
          -1.5159490152394763,
          -1.3178909255164253,
          -0.37738884426998465,
          -1.3179405636015193,
          -1.1477443716340043,
          -1.566072520410623,
          -2.169334012717068,
          -1.0934253307481878,
          -1.3178862240061784,
          -1.113308844475666,
          -1.220572945064455,
          -1.0930706752663937,
          -1.0931526710356962,
          -1.863343967660253,
          -2.225062962907711,
          -1.960403419011832,
          -2.286268971836082,
          -2.110598777325456
         ],
         "z": [
          0.21752738118416484,
          0.3151320229157071,
          -0.024486272846776732,
          0.3835840551767683,
          0.3151219502377074,
          0.31886146423562184,
          0.36940311560747546,
          -0.024463985400651686,
          0.09425171736406165,
          -0.02446787688092926,
          0.3735056619177607,
          -0.039281704490196155,
          0.21746884356870658,
          -0.02451552789885845,
          -0.02446758549354342,
          -0.0016243663356906594,
          0.1372486116650465,
          -0.024474628745099022,
          -0.024464488689596584,
          -0.024463313002653125,
          0.09425392772491738,
          0.3680064293357709,
          0.2102149734918724,
          -0.029329512189914076,
          -0.02446923522241969,
          -0.02454862889304595,
          -0.024469169638674727,
          -0.024462004853028817,
          0.18411529031082996,
          -0.024822531903513894,
          -0.02448664554704581,
          -0.02447840649070084,
          -0.05936763177131012,
          0.2175262848517928,
          -0.024523926186360307,
          -0.024468647395804465,
          -0.024461609999630738,
          -0.024476023391776635,
          0.41939956829143477,
          -0.024463573299068363,
          -0.02586042211295385,
          0.21752848743257028,
          -0.0245902259677835,
          -0.024462368329144068,
          -0.024479219254356036,
          -0.024472024490819384,
          0.2173048246332819,
          0.21751749833807107,
          0.21752483432571118,
          0.21753052962144784,
          0.21753432776582096,
          0.09425593632594495,
          -0.024470089168700877,
          0.15046841528109478,
          -0.024512886945660724,
          0.21751908104508721,
          0.31621103867318523,
          0.3843664601933364,
          -0.024488875374861593,
          -0.024669907446848056,
          -0.024515274366808892,
          -0.024461339517523113,
          -0.024520142798063325,
          -0.024774544477723058,
          0.3077189056021053,
          0.37414559855529944,
          0.21062097133853094,
          -0.02446482070965796,
          -0.026445541100724966,
          0.5699152182315367,
          -0.024461413700898636,
          0.21752927575687803,
          -0.028011957446838993,
          0.09424390997586173,
          0.41265730626708014,
          0.21752721931176966,
          0.09425004437933528,
          -0.024480579715602545,
          -0.0244970395060913,
          0.31516506602264166,
          0.26727699719523745,
          0.09425023601757547,
          0.21752631670405473,
          -0.024542087436394862,
          0.44068845263677026,
          -0.02448862933128635,
          0.20916244402456138,
          0.09423747306785062,
          0.39530675431386175,
          -0.02446789322074789,
          0.4240671547701989,
          -0.024464225033148157,
          0.09425065612552626,
          -0.024461412533448093,
          0.09425491229792057,
          0.38714384192433493,
          0.21753186655651224,
          0.37377515721659244,
          -0.024509404529756463,
          0.21753083916776828,
          -0.024466187921625783,
          0.3654353351860507,
          0.31515926034053277,
          0.3188620777271607,
          -0.024915183224638128,
          0.09395137480566679,
          0.09422627990379133,
          0.38714579030686547,
          -0.024461589736652425,
          0.3871427309291924,
          0.4126635736268643,
          0.09021066921306072,
          0.3835790756646507,
          -0.024462384763872698,
          0.0942072250434891,
          0.31886177858530307,
          -0.024499650450242993,
          0.41265736969120076,
          0.2954778472286613,
          -0.024637777768778506,
          0.027281723260047384,
          -0.024469575698365255,
          0.21698105341987156,
          -0.024468694465774918,
          0.3835620314285361,
          0.4254412404224036,
          0.2786929154991396,
          0.3837678062832935,
          0.3864424036083213,
          0.09424031263345806,
          -0.02446820582515771,
          -0.0244658613308569,
          0.09424501025264184,
          0.0942547160948354,
          0.3871399458656642,
          0.31091121718759834,
          -0.08871174596595398,
          0.1741090762887758,
          0.09417143769984253,
          0.21752735746466606,
          -0.02486659209438277,
          -0.0740418881506325,
          -0.02446531133208377,
          -0.024470468260178416,
          -0.024476353220929295,
          -0.024476724121083475,
          0.3871404074280114,
          0.3162474802764966,
          0.09324979792678612,
          0.18419811786925913,
          0.31885805986198584,
          0.39529207304384467,
          -0.024499701274405768,
          0.09418209890101412,
          0.18419665719094458,
          0.31515412796684833,
          0.18419735488930175,
          0.37397568368857764,
          0.3771813059528798,
          0.38714489733092566,
          0.3146028116990869,
          0.09420728178417932,
          0.3833984613476397,
          -0.02602854757091041,
          0.12858297779778433,
          0.09425412450207546,
          0.1841970730736584,
          0.18407736614231698,
          -0.024479414174834766,
          0.09425252783829623,
          0.21752663716716972,
          0.02084430454783987,
          0.3301281185563027,
          0.3350947622583584,
          0.3870875372980082,
          -0.028314147334621134,
          0.39526881967145205,
          0.150223739271551,
          -0.0244670339119346,
          -0.03019565994805054,
          0.09416380000287035,
          0.31483264116708903,
          0.3870805916153615,
          -0.02446339666655567,
          0.20987215760295522,
          0.3188373937015101,
          0.3654177275127864,
          0.09424146975651544,
          0.38714067669869767,
          0.02727898000257167,
          0.41266182838230353,
          0.4677435354805867,
          0.36543595761250935,
          0.38712375360526574,
          0.2591539238899028,
          0.3657285393090617,
          0.30315752760794334,
          0.3869141618232211,
          0.19913374772020134,
          0.5165370624295185,
          0.0942538133109143,
          -0.024462519333276114,
          0.383517075686084,
          0.45770360660405546,
          0.23807138712366394,
          0.21753143758840168,
          0.21672528288459877,
          0.0942536510080219,
          0.1991301758294107,
          0.3171031894113232,
          0.36543081583884746,
          0.21752735853077498,
          0.38618777943829796,
          0.37739490495818045,
          0.3773930414712554,
          0.33073961713835476,
          -0.02447803971883616,
          0.3188423187163852,
          0.3188549225743911,
          0.210614837284629,
          0.21751380659977432,
          -0.059658248264645455,
          0.21749858754980747,
          -0.028266621677445352,
          0.18272019743571763,
          0.3771212455220735,
          -0.024770270836916193,
          0.21752481645908245,
          -0.036647762766898656,
          0.13723956712457952,
          -0.02446311972514651,
          -0.024492359078415963,
          0.3741669098764314,
          0.4052027040570753,
          0.3151599221250982,
          0.3867530529225505,
          0.31886149423185545
         ]
        },
        {
         "customdata": [
          [
           "SHA-512"
          ],
          [
           "SHA-256"
          ],
          [
           "PoS"
          ],
          [
           "X11"
          ],
          [
           "Scrypt"
          ],
          [
           "Scrypt"
          ],
          [
           "X11"
          ],
          [
           "Multiple"
          ],
          [
           "PHI1612"
          ],
          [
           "Multiple"
          ],
          [
           "Counterparty"
          ],
          [
           "Scrypt"
          ],
          [
           "Scrypt"
          ],
          [
           "X11"
          ],
          [
           "Scrypt"
          ],
          [
           "Scrypt"
          ],
          [
           "Scrypt"
          ],
          [
           "PoS"
          ],
          [
           "POS 3.0"
          ],
          [
           "X13"
          ],
          [
           "X11"
          ],
          [
           "Scrypt"
          ],
          [
           "PoS"
          ],
          [
           "PoS"
          ],
          [
           "X13"
          ],
          [
           "PoS"
          ],
          [
           "PoS"
          ],
          [
           "PoS"
          ],
          [
           "Scrypt"
          ],
          [
           "Quark"
          ],
          [
           "Scrypt"
          ],
          [
           "X13"
          ],
          [
           "Scrypt"
          ],
          [
           "PoS"
          ],
          [
           "PoS"
          ],
          [
           "SHA-256"
          ],
          [
           "Scrypt"
          ],
          [
           "PoS"
          ],
          [
           "SHA-256"
          ],
          [
           "POS 3.0"
          ],
          [
           "SkunkHash v2 Raptor"
          ],
          [
           "Scrypt"
          ],
          [
           "PoS"
          ],
          [
           "SHA-512"
          ],
          [
           "Ouroboros"
          ],
          [
           "Lyra2REv2"
          ],
          [
           "POS 2.0"
          ],
          [
           "SHA-256"
          ],
          [
           "NIST5"
          ],
          [
           "Quark"
          ],
          [
           "Quark"
          ],
          [
           "X11"
          ],
          [
           "POS 3.0"
          ],
          [
           "Ethash"
          ],
          [
           "X13"
          ],
          [
           "Scrypt"
          ],
          [
           "VBFT"
          ],
          [
           "Scrypt"
          ],
          [
           "Green Protocol"
          ],
          [
           "PoS"
          ],
          [
           "PoS"
          ],
          [
           "X16R"
          ],
          [
           "Scrypt"
          ],
          [
           "Scrypt"
          ],
          [
           "X15"
          ],
          [
           "Quark"
          ],
          [
           "SHA-256"
          ],
          [
           "DPoS"
          ],
          [
           "Quark"
          ],
          [
           "Scrypt"
          ],
          [
           "Quark"
          ],
          [
           "X11"
          ],
          [
           "Scrypt"
          ],
          [
           "PoS"
          ],
          [
           "X11"
          ],
          [
           "XEVAN"
          ],
          [
           "X11"
          ],
          [
           "Equihash"
          ],
          [
           "Quark"
          ],
          [
           "X11"
          ],
          [
           "SHA-256"
          ],
          [
           "PoS"
          ],
          [
           "Scrypt"
          ],
          [
           "SHA-256"
          ],
          [
           "PoS"
          ],
          [
           "Scrypt"
          ]
         ],
         "hovertemplate": "<b>%{hovertext}</b><br><br>ProofType=PoS<br>PC1=%{x}<br>PC2=%{y}<br>PC3=%{z}<br>Algorithm=%{customdata[0]}<extra></extra>",
         "hovertext": [
          "BTS",
          "XPY",
          "EXCL",
          "HYP",
          "MINT",
          "NAUT",
          "SUPER",
          "TES",
          "TIT",
          "XCR",
          "SJCX",
          "RBY",
          "NOTE",
          "U",
          "DIGS",
          "GPU",
          "ZEIT",
          "NEBU",
          "LIR",
          "MUDRA",
          "LC",
          "BTCR",
          "XPO",
          "CFC",
          "ROYAL",
          "TEAM",
          "FRE",
          "XCRE",
          "PND",
          "ASAFE2",
          "ZBC",
          "FIND",
          "RNS",
          "ATMOS",
          "MCRN",
          "PROC",
          "GRW",
          "PHR",
          "USC",
          "QTUM",
          "SIGT",
          "DFT",
          "STCN",
          "ODN",
          "ADA",
          "RUP",
          "KEK",
          "XIN",
          "BWK",
          "KLKS",
          "WAGE",
          "MONK",
          "TPAY",
          "MCT",
          "TOKC",
          "VLX",
          "ONT",
          "MEDIC",
          "BITG",
          "DEV",
          "NZL",
          "PROTON",
          "HWC",
          "XT3",
          "DKD",
          "POSQ",
          "BWS",
          "MUSE",
          "DTEM",
          "PNY",
          "VITAE",
          "ARE",
          "MMO",
          "KETAN",
          "PAXEX",
          "BTXC",
          "JMC",
          "PIRATE",
          "CSPN",
          "DASHP",
          "NEOS",
          "RADS",
          "XHI",
          "TCH",
          "PART",
          "XBC"
         ],
         "legendgroup": "PoS",
         "marker": {
          "color": "#00cc96",
          "symbol": "circle"
         },
         "mode": "markers",
         "name": "PoS",
         "scene": "scene",
         "showlegend": true,
         "type": "scatter3d",
         "x": [
          -0.2856804251055862,
          -0.27013441961744433,
          -0.3601742103755106,
          -0.3345726148708814,
          -0.030149778982960836,
          -0.2900341780868691,
          -0.35446334101229365,
          -0.2510636596950113,
          -0.30634435027047496,
          -0.25153151767460163,
          -0.34596477366270245,
          -0.2900144370458749,
          -0.28466725309749297,
          -0.35490827320319207,
          -0.28841562132343684,
          -0.2882846127941805,
          0.8633866154239355,
          -0.3598574141613016,
          -0.3465048503858408,
          -0.23135401882887785,
          -0.34239634136220587,
          -0.28827423631965066,
          -0.3588142658568961,
          -0.3581427734209849,
          -0.23278496068434681,
          -0.35789160617349014,
          -0.3592781168229221,
          -0.3598574141613016,
          0.35337697054131323,
          -0.35159580903032833,
          -0.2899209164614892,
          -0.232552764263498,
          -0.2896619978453608,
          -0.3581035865256568,
          -0.3525022793519069,
          0.26265492228051296,
          -0.27255903870851633,
          -0.3598917134342804,
          -0.2688245217037923,
          -0.34528293517769076,
          -0.35652630749165376,
          -0.28999514161537887,
          -0.3597579536998399,
          -0.3437572523352645,
          0.6709168626230002,
          -0.31013741788238486,
          -0.35300932701739063,
          -0.09658042546305175,
          -0.31967748309568705,
          -0.3514816882183033,
          -0.35064623156344954,
          -0.3548801966783223,
          -0.34678682690143386,
          -0.26770539263982596,
          -0.22434665638392834,
          -0.28915492885382027,
          -0.3360949118591253,
          -0.2835351159906772,
          -0.3436693445161054,
          -0.35935232192426236,
          -0.3595410315359804,
          -0.3188427888860236,
          -0.2896892864589314,
          -0.28994139224511545,
          -0.206219552347455,
          -0.34718859893466025,
          -0.26895229650924035,
          1.0238868529640488,
          -0.3515952432943225,
          -0.1706443378296055,
          -0.3503144947040141,
          -0.35445750947966176,
          -0.2871862542749681,
          -0.3586406127189545,
          -0.35431884827613386,
          -0.2785482814478431,
          -0.14478975608538644,
          -0.2733670271579663,
          -0.3517122458372583,
          -0.35493452314658586,
          -0.270167053673455,
          -0.36013310393005504,
          -0.09718185980280804,
          -0.25105971557538187,
          -0.36006895761458624,
          -0.29033795377280586
         ],
         "y": [
          1.4384453064461478,
          0.5995599618448566,
          1.5127805636288387,
          0.9682347441094622,
          0.8298586937633551,
          0.8243585402401382,
          0.9678146556568566,
          0.054054273761791186,
          1.6112846889051684,
          0.05411511667627038,
          1.563612828340312,
          0.824370400308586,
          0.8241297119015133,
          0.9677911139737072,
          0.8243334430121975,
          0.8242505966387007,
          0.7787132684588304,
          1.5127731095085426,
          1.5707962284523949,
          1.539934393856623,
          0.9676048518512467,
          0.8244071530256616,
          1.5127569496538373,
          1.5127951776779147,
          1.5400438524189537,
          1.5126158926018924,
          1.5127641269645413,
          1.5127731095085426,
          0.8149628616447551,
          1.4852287640249293,
          0.8243334772524076,
          1.5400402519974958,
          0.824353496019836,
          1.5127462933131082,
          1.512659697437849,
          0.5577782233035512,
          0.8233245753216234,
          1.5127653127154126,
          0.5994549596184306,
          1.570775003623045,
          1.385035071764153,
          0.8243584976840396,
          1.5127457889406628,
          1.4397005677655599,
          1.4666859217714374,
          0.681752142890494,
          1.5290971214781377,
          0.5968690716070059,
          1.2468947757901638,
          1.4852276380359277,
          1.485174558737395,
          0.9677909997048294,
          1.570796284699615,
          -0.04296399478146184,
          1.5396580441235876,
          0.8243008552168579,
          1.4209018808102956,
          0.8241536224275522,
          1.6242060792086686,
          1.5127356846509639,
          1.5127373570579796,
          0.6366211656500446,
          0.8243588791917934,
          0.8243408244463698,
          1.5998702645626874,
          1.484872746159863,
          0.5995228591343332,
          1.782693966136166,
          1.4852245325338669,
          0.8149532654619325,
          1.4851957097561064,
          0.9677758806241448,
          0.8242462486352115,
          1.5126644325517726,
          0.9677469833283193,
          1.1528252254469338,
          0.9722429229417207,
          -0.19321143499845278,
          1.4852274577021396,
          0.9677907717517292,
          0.5995532610806257,
          1.5127750666304018,
          0.8213643408797439,
          0.5992644166767177,
          1.5127766801394886,
          0.8243628604553405
         ],
         "z": [
          0.08127909775705726,
          -0.061487546849477444,
          -0.1663614407208499,
          -0.18534290421610686,
          -0.3108611364230757,
          -0.30348472180063174,
          -0.18477853822378457,
          0.09511917481591566,
          -0.37444326350893886,
          0.09511619059005644,
          -0.2449792699159163,
          -0.30348791261140884,
          -0.30355833543077054,
          -0.1847626622368732,
          -0.30351701741459153,
          -0.30350105272179834,
          -0.32011741072363586,
          -0.16636717749981558,
          -0.2920283295675666,
          -0.338684526681952,
          -0.1850140980520404,
          -0.30353728788824474,
          -0.16638799527121428,
          -0.16641257578924434,
          -0.3386760374365423,
          -0.16637726646351558,
          -0.16637873641676623,
          -0.16636717749981558,
          -0.3164564931653682,
          -0.2805463824585217,
          -0.3034816236999117,
          -0.33868067053075324,
          -0.30349231512100794,
          -0.16640225924145025,
          -0.1665140832505732,
          -0.06441239968040036,
          -0.3036580020357708,
          -0.16636457842434285,
          -0.06149421385702692,
          -0.2920521871861057,
          -0.1321693869521986,
          -0.3034856300784732,
          -0.16636323582217397,
          0.08235637560280126,
          -0.2918291992781106,
          -0.12853716049767036,
          -0.2101960371108636,
          -0.06495058068426378,
          -0.2517358799187882,
          -0.2805488074995876,
          -0.2805562532695796,
          -0.18476329627206173,
          -0.2920217109643459,
          0.036151421164846625,
          -0.3387857953702911,
          -0.30349213866471453,
          -0.11305907824482468,
          -0.3035904579222872,
          -0.2933818507624531,
          -0.16637045258518002,
          -0.16636639897936675,
          -0.07988315927202087,
          -0.30349291089701064,
          -0.3034828312141388,
          -0.3539906276158361,
          -0.28056818556612617,
          -0.06150681843086908,
          -0.03295569779650898,
          -0.2805454229756536,
          -0.304130334732717,
          -0.2805689175288185,
          -0.18476976128252176,
          -0.3035258843845263,
          -0.1663708102683593,
          -0.18476637905151086,
          -0.04093699101477817,
          -0.1907276745187492,
          0.03983879716245066,
          -0.28054334377967466,
          -0.18476196621549154,
          -0.06148523890541255,
          -0.16636114374527533,
          -0.3073318858510474,
          -0.06186820283422621,
          -0.16636302327423927,
          -0.303478570777791
         ]
        },
        {
         "customdata": [
          [
           "Scrypt"
          ],
          [
           "Shabal256"
          ],
          [
           "Scrypt"
          ]
         ],
         "hovertemplate": "<b>%{hovertext}</b><br><br>ProofType=PoC<br>PC1=%{x}<br>PC2=%{y}<br>PC3=%{z}<br>Algorithm=%{customdata[0]}<extra></extra>",
         "hovertext": [
          "CSC",
          "BURST",
          "SAFEX"
         ],
         "legendgroup": "PoC",
         "marker": {
          "color": "#ab63fa",
          "symbol": "circle"
         },
         "mode": "markers",
         "name": "PoC",
         "scene": "scene",
         "showlegend": true,
         "type": "scatter3d",
         "x": [
          0.6888310852359582,
          0.06590740592075563,
          -0.042097614245450485
         ],
         "y": [
          0.5750549159172272,
          1.1273267708825314,
          0.5863886464046324
         ],
         "z": [
          -0.20838903880539913,
          0.140884827310321,
          -0.1938045699783055
         ]
        },
        {
         "customdata": [
          [
           "Scrypt"
          ]
         ],
         "hovertemplate": "<b>%{hovertext}</b><br><br>ProofType=PoS/PoW/PoT<br>PC1=%{x}<br>PC2=%{y}<br>PC3=%{z}<br>Algorithm=%{customdata[0]}<extra></extra>",
         "hovertext": [
          "FLT"
         ],
         "legendgroup": "PoS/PoW/PoT",
         "marker": {
          "color": "#FFA15A",
          "symbol": "circle"
         },
         "mode": "markers",
         "name": "PoS/PoW/PoT",
         "scene": "scene",
         "showlegend": true,
         "type": "scatter3d",
         "x": [
          -0.2847697901288583
         ],
         "y": [
          0.29152159332800986
         ],
         "z": [
          -0.45218213602681717
         ]
        },
        {
         "customdata": [
          [
           "Scrypt"
          ]
         ],
         "hovertemplate": "<b>%{hovertext}</b><br><br>ProofType=PoST<br>PC1=%{x}<br>PC2=%{y}<br>PC3=%{z}<br>Algorithm=%{customdata[0]}<extra></extra>",
         "hovertext": [
          "VRC"
         ],
         "legendgroup": "PoST",
         "marker": {
          "color": "#19d3f3",
          "symbol": "circle"
         },
         "mode": "markers",
         "name": "PoST",
         "scene": "scene",
         "showlegend": true,
         "type": "scatter3d",
         "x": [
          -0.30107265102528113
         ],
         "y": [
          0.26438496997879535
         ],
         "z": [
          -0.2584201880796601
         ]
        },
        {
         "customdata": [
          [
           "SHA3"
          ]
         ],
         "hovertemplate": "<b>%{hovertext}</b><br><br>ProofType=PoW/nPoS<br>PC1=%{x}<br>PC2=%{y}<br>PC3=%{z}<br>Algorithm=%{customdata[0]}<extra></extra>",
         "hovertext": [
          "NXS"
         ],
         "legendgroup": "PoW/nPoS",
         "marker": {
          "color": "#FF6692",
          "symbol": "circle"
         },
         "mode": "markers",
         "name": "PoW/nPoS",
         "scene": "scene",
         "showlegend": true,
         "type": "scatter3d",
         "x": [
          -0.3907220413845073
         ],
         "y": [
          1.8240785225176595
         ],
         "z": [
          -0.032959443233812856
         ]
        },
        {
         "customdata": [
          [
           "X11"
          ],
          [
           "XEVAN"
          ]
         ],
         "hovertemplate": "<b>%{hovertext}</b><br><br>ProofType=PoS/PoW<br>PC1=%{x}<br>PC2=%{y}<br>PC3=%{z}<br>Algorithm=%{customdata[0]}<extra></extra>",
         "hovertext": [
          "SQL",
          "XBI"
         ],
         "legendgroup": "PoS/PoW",
         "marker": {
          "color": "#B6E880",
          "symbol": "circle"
         },
         "mode": "markers",
         "name": "PoS/PoW",
         "scene": "scene",
         "showlegend": true,
         "type": "scatter3d",
         "x": [
          -0.36992228034148417,
          -0.2935469454078498
         ],
         "y": [
          0.6670872564843495,
          0.8521280571616132
         ],
         "z": [
          0.005553991229547423,
          0.14937776381267492
         ]
        },
        {
         "customdata": [
          [
           "Equihash"
          ]
         ],
         "hovertemplate": "<b>%{hovertext}</b><br><br>ProofType=dPoW/PoW<br>PC1=%{x}<br>PC2=%{y}<br>PC3=%{z}<br>Algorithm=%{customdata[0]}<extra></extra>",
         "hovertext": [
          "KMD"
         ],
         "legendgroup": "dPoW/PoW",
         "marker": {
          "color": "#FF97FF",
          "symbol": "circle"
         },
         "mode": "markers",
         "name": "dPoW/PoW",
         "scene": "scene",
         "showlegend": true,
         "type": "scatter3d",
         "x": [
          -0.2598957979241104
         ],
         "y": [
          -1.8215057373861305
         ],
         "z": [
          0.2598535602116157
         ]
        },
        {
         "customdata": [
          [
           "Scrypt"
          ]
         ],
         "hovertemplate": "<b>%{hovertext}</b><br><br>ProofType=PoW/PoW<br>PC1=%{x}<br>PC2=%{y}<br>PC3=%{z}<br>Algorithm=%{customdata[0]}<extra></extra>",
         "hovertext": [
          "SCN"
         ],
         "legendgroup": "PoW/PoW",
         "marker": {
          "color": "#FECB52",
          "symbol": "circle"
         },
         "mode": "markers",
         "name": "PoW/PoW",
         "scene": "scene",
         "showlegend": true,
         "type": "scatter3d",
         "x": [
          -0.24922038302948726
         ],
         "y": [
          0.33566254615352065
         ],
         "z": [
          -0.3721853784441665
         ]
        },
        {
         "customdata": [
          [
           "DPoS"
          ],
          [
           "DPoS"
          ],
          [
           "Semux BFT consensus"
          ],
          [
           "DPoS"
          ],
          [
           "DPoS"
          ],
          [
           "DPoS"
          ],
          [
           "DPoS"
          ],
          [
           "TRC10"
          ],
          [
           "SHA-256"
          ]
         ],
         "hovertemplate": "<b>%{hovertext}</b><br><br>ProofType=DPoS<br>PC1=%{x}<br>PC2=%{y}<br>PC3=%{z}<br>Algorithm=%{customdata[0]}<extra></extra>",
         "hovertext": [
          "ARK",
          "TAU",
          "SEM",
          "ALX",
          "LSK",
          "EOS",
          "OXY",
          "BTT",
          "ZEPH"
         ],
         "legendgroup": "DPoS",
         "marker": {
          "color": "#636efa",
          "symbol": "circle"
         },
         "mode": "markers",
         "name": "DPoS",
         "scene": "scene",
         "showlegend": true,
         "type": "scatter3d",
         "x": [
          3.7381469482747227,
          3.7430040391232122,
          3.959373386699208,
          3.7552483793956517,
          3.738538851725161,
          3.7484088063823635,
          3.749653192384599,
          34.073247419855726,
          2.4806523512377394
         ],
         "y": [
          2.061998984052777,
          2.0618363499556507,
          2.0396754392555128,
          2.06174132821288,
          2.061982565295921,
          2.0623041175811068,
          2.06233039878303,
          1.4081124866595593,
          0.8783063939270068
         ],
         "z": [
          0.13290129572708267,
          0.13282445483827932,
          0.199026323511592,
          0.13255833677655438,
          0.13289585347568755,
          0.13258980907595638,
          0.1325545017103029,
          -0.6083335222600502,
          0.10363882564825407
         ]
        },
        {
         "customdata": [
          [
           "X11"
          ]
         ],
         "hovertemplate": "<b>%{hovertext}</b><br><br>ProofType=TPoS<br>PC1=%{x}<br>PC2=%{y}<br>PC3=%{z}<br>Algorithm=%{customdata[0]}<extra></extra>",
         "hovertext": [
          "XSN"
         ],
         "legendgroup": "TPoS",
         "marker": {
          "color": "#EF553B",
          "symbol": "circle"
         },
         "mode": "markers",
         "name": "TPoS",
         "scene": "scene",
         "showlegend": true,
         "type": "scatter3d",
         "x": [
          -0.37394692387271095
         ],
         "y": [
          0.7097512165938746
         ],
         "z": [
          -0.18777758227109972
         ]
        },
        {
         "customdata": [
          [
           "Scrypt"
          ]
         ],
         "hovertemplate": "<b>%{hovertext}</b><br><br>ProofType=PoW/PoS <br>PC1=%{x}<br>PC2=%{y}<br>PC3=%{z}<br>Algorithm=%{customdata[0]}<extra></extra>",
         "hovertext": [
          "FRST"
         ],
         "legendgroup": "PoW/PoS ",
         "marker": {
          "color": "#00cc96",
          "symbol": "circle"
         },
         "mode": "markers",
         "name": "PoW/PoS ",
         "scene": "scene",
         "showlegend": true,
         "type": "scatter3d",
         "x": [
          -0.28558825240628943
         ],
         "y": [
          0.42758773793756755
         ],
         "z": [
          -0.33843734729449065
         ]
        },
        {
         "customdata": [
          [
           "VeChainThor Authority"
          ]
         ],
         "hovertemplate": "<b>%{hovertext}</b><br><br>ProofType=Proof of Authority<br>PC1=%{x}<br>PC2=%{y}<br>PC3=%{z}<br>Algorithm=%{customdata[0]}<extra></extra>",
         "hovertext": [
          "VET"
         ],
         "legendgroup": "Proof of Authority",
         "marker": {
          "color": "#ab63fa",
          "symbol": "circle"
         },
         "mode": "markers",
         "name": "Proof of Authority",
         "scene": "scene",
         "showlegend": true,
         "type": "scatter3d",
         "x": [
          4.431531888008607
         ],
         "y": [
          3.764322958332123
         ],
         "z": [
          2.719498776107722
         ]
        },
        {
         "customdata": [
          [
           "Scrypt"
          ]
         ],
         "hovertemplate": "<b>%{hovertext}</b><br><br>ProofType=PoW and PoS<br>PC1=%{x}<br>PC2=%{y}<br>PC3=%{z}<br>Algorithm=%{customdata[0]}<extra></extra>",
         "hovertext": [
          "MBC"
         ],
         "legendgroup": "PoW and PoS",
         "marker": {
          "color": "#FFA15A",
          "symbol": "circle"
         },
         "mode": "markers",
         "name": "PoW and PoS",
         "scene": "scene",
         "showlegend": true,
         "type": "scatter3d",
         "x": [
          -0.2806566233317577
         ],
         "y": [
          0.3575578772982797
         ],
         "z": [
          -0.3458994192058993
         ]
        },
        {
         "customdata": [
          [
           "Proof-of-BibleHash"
          ]
         ],
         "hovertemplate": "<b>%{hovertext}</b><br><br>ProofType=POBh<br>PC1=%{x}<br>PC2=%{y}<br>PC3=%{z}<br>Algorithm=%{customdata[0]}<extra></extra>",
         "hovertext": [
          "BBP"
         ],
         "legendgroup": "POBh",
         "marker": {
          "color": "#19d3f3",
          "symbol": "circle"
         },
         "mode": "markers",
         "name": "POBh",
         "scene": "scene",
         "showlegend": true,
         "type": "scatter3d",
         "x": [
          -0.20532964970645684
         ],
         "y": [
          3.5810161302183587
         ],
         "z": [
          15.51125797501271
         ]
        },
        {
         "customdata": [
          [
           "SHA-256 + Hive"
          ]
         ],
         "hovertemplate": "<b>%{hovertext}</b><br><br>ProofType=PoW + Hive<br>PC1=%{x}<br>PC2=%{y}<br>PC3=%{z}<br>Algorithm=%{customdata[0]}<extra></extra>",
         "hovertext": [
          "LCC"
         ],
         "legendgroup": "PoW + Hive",
         "marker": {
          "color": "#FF6692",
          "symbol": "circle"
         },
         "mode": "markers",
         "name": "PoW + Hive",
         "scene": "scene",
         "showlegend": true,
         "type": "scatter3d",
         "x": [
          -0.33552518440030554
         ],
         "y": [
          4.145760584676904
         ],
         "z": [
          3.284921752888819
         ]
        },
        {
         "customdata": [
          [
           "Proof-of-Authority"
          ]
         ],
         "hovertemplate": "<b>%{hovertext}</b><br><br>ProofType=PoA<br>PC1=%{x}<br>PC2=%{y}<br>PC3=%{z}<br>Algorithm=%{customdata[0]}<extra></extra>",
         "hovertext": [
          "POA"
         ],
         "legendgroup": "PoA",
         "marker": {
          "color": "#B6E880",
          "symbol": "circle"
         },
         "mode": "markers",
         "name": "PoA",
         "scene": "scene",
         "showlegend": true,
         "type": "scatter3d",
         "x": [
          -0.4080441824573801
         ],
         "y": [
          2.8064682949310478
         ],
         "z": [
          13.305776763306717
         ]
        },
        {
         "customdata": [
          [
           "Scrypt"
          ]
         ],
         "hovertemplate": "<b>%{hovertext}</b><br><br>ProofType=HPoW<br>PC1=%{x}<br>PC2=%{y}<br>PC3=%{z}<br>Algorithm=%{customdata[0]}<extra></extra>",
         "hovertext": [
          "LYNX"
         ],
         "legendgroup": "HPoW",
         "marker": {
          "color": "#FF97FF",
          "symbol": "circle"
         },
         "mode": "markers",
         "name": "HPoW",
         "scene": "scene",
         "showlegend": true,
         "type": "scatter3d",
         "x": [
          2.2419379473655754
         ],
         "y": [
          0.3412309508135044
         ],
         "z": [
          -0.44752897986518764
         ]
        },
        {
         "customdata": [
          [
           "SHA-512"
          ]
         ],
         "hovertemplate": "<b>%{hovertext}</b><br><br>ProofType=Zero-Knowledge Proof<br>PC1=%{x}<br>PC2=%{y}<br>PC3=%{z}<br>Algorithm=%{customdata[0]}<extra></extra>",
         "hovertext": [
          "KCASH"
         ],
         "legendgroup": "Zero-Knowledge Proof",
         "marker": {
          "color": "#FECB52",
          "symbol": "circle"
         },
         "mode": "markers",
         "name": "Zero-Knowledge Proof",
         "scene": "scene",
         "showlegend": true,
         "type": "scatter3d",
         "x": [
          -0.35158935580919937
         ],
         "y": [
          1.4346747810826341
         ],
         "z": [
          0.6004719520808788
         ]
        },
        {
         "customdata": [
          [
           "ECC 256K1"
          ]
         ],
         "hovertemplate": "<b>%{hovertext}</b><br><br>ProofType=DPOS<br>PC1=%{x}<br>PC2=%{y}<br>PC3=%{z}<br>Algorithm=%{customdata[0]}<extra></extra>",
         "hovertext": [
          "AAC"
         ],
         "legendgroup": "DPOS",
         "marker": {
          "color": "#636efa",
          "symbol": "circle"
         },
         "mode": "markers",
         "name": "DPOS",
         "scene": "scene",
         "showlegend": true,
         "type": "scatter3d",
         "x": [
          -0.37010000087067396
         ],
         "y": [
          3.660390151382952
         ],
         "z": [
          -2.74050141018192
         ]
        },
        {
         "customdata": [
          [
           "XEVAN"
          ]
         ],
         "hovertemplate": "<b>%{hovertext}</b><br><br>ProofType=Pos<br>PC1=%{x}<br>PC2=%{y}<br>PC3=%{z}<br>Algorithm=%{customdata[0]}<extra></extra>",
         "hovertext": [
          "BITM"
         ],
         "legendgroup": "Pos",
         "marker": {
          "color": "#EF553B",
          "symbol": "circle"
         },
         "mode": "markers",
         "name": "Pos",
         "scene": "scene",
         "showlegend": true,
         "type": "scatter3d",
         "x": [
          0.4966558680794243
         ],
         "y": [
          0.8744001840426878
         ],
         "z": [
          0.3453651831206036
         ]
        },
        {
         "customdata": [
          [
           "X11"
          ]
         ],
         "hovertemplate": "<b>%{hovertext}</b><br><br>ProofType=Proof of Trust<br>PC1=%{x}<br>PC2=%{y}<br>PC3=%{z}<br>Algorithm=%{customdata[0]}<extra></extra>",
         "hovertext": [
          "CRB"
         ],
         "legendgroup": "Proof of Trust",
         "marker": {
          "color": "#00cc96",
          "symbol": "circle"
         },
         "mode": "markers",
         "name": "Proof of Trust",
         "scene": "scene",
         "showlegend": true,
         "type": "scatter3d",
         "x": [
          -0.42429650996659035
         ],
         "y": [
          0.44736678565690713
         ],
         "z": [
          0.09058495520244701
         ]
        },
        {
         "customdata": [
          [
           "SHA3-256"
          ]
         ],
         "hovertemplate": "<b>%{hovertext}</b><br><br>ProofType=DPoC<br>PC1=%{x}<br>PC2=%{y}<br>PC3=%{z}<br>Algorithm=%{customdata[0]}<extra></extra>",
         "hovertext": [
          "FIII"
         ],
         "legendgroup": "DPoC",
         "marker": {
          "color": "#ab63fa",
          "symbol": "circle"
         },
         "mode": "markers",
         "name": "DPoC",
         "scene": "scene",
         "showlegend": true,
         "type": "scatter3d",
         "x": [
          -0.561877953481997
         ],
         "y": [
          3.005368009170087
         ],
         "z": [
          23.48275066275506
         ]
        },
        {
         "customdata": [
          [
           "Leased POS"
          ]
         ],
         "hovertemplate": "<b>%{hovertext}</b><br><br>ProofType=LPoS<br>PC1=%{x}<br>PC2=%{y}<br>PC3=%{z}<br>Algorithm=%{customdata[0]}<extra></extra>",
         "hovertext": [
          "WAVES"
         ],
         "legendgroup": "LPoS",
         "marker": {
          "color": "#FFA15A",
          "symbol": "circle"
         },
         "mode": "markers",
         "name": "LPoS",
         "scene": "scene",
         "showlegend": true,
         "type": "scatter3d",
         "x": [
          -0.40149387913884105
         ],
         "y": [
          4.311147272826924
         ],
         "z": [
          4.0124272115623905
         ]
        },
        {
         "customdata": [
          [
           "PoS"
          ]
         ],
         "hovertemplate": "<b>%{hovertext}</b><br><br>ProofType=PoS/LPoS<br>PC1=%{x}<br>PC2=%{y}<br>PC3=%{z}<br>Algorithm=%{customdata[0]}<extra></extra>",
         "hovertext": [
          "NXT"
         ],
         "legendgroup": "PoS/LPoS",
         "marker": {
          "color": "#19d3f3",
          "symbol": "circle"
         },
         "mode": "markers",
         "name": "PoS/LPoS",
         "scene": "scene",
         "showlegend": true,
         "type": "scatter3d",
         "x": [
          -0.39426655968739766
         ],
         "y": [
          1.530892180539399
         ],
         "z": [
          0.07534615547086036
         ]
        }
       ],
       "layout": {
        "legend": {
         "title": {
          "text": "ProofType"
         },
         "tracegroupgap": 0
        },
        "margin": {
         "t": 60
        },
        "scene": {
         "domain": {
          "x": [
           0,
           1
          ],
          "y": [
           0,
           1
          ]
         },
         "xaxis": {
          "title": {
           "text": "PC1"
          }
         },
         "yaxis": {
          "title": {
           "text": "PC2"
          }
         },
         "zaxis": {
          "title": {
           "text": "PC3"
          }
         }
        },
        "template": {
         "data": {
          "bar": [
           {
            "error_x": {
             "color": "#2a3f5f"
            },
            "error_y": {
             "color": "#2a3f5f"
            },
            "marker": {
             "line": {
              "color": "#E5ECF6",
              "width": 0.5
             },
             "pattern": {
              "fillmode": "overlay",
              "size": 10,
              "solidity": 0.2
             }
            },
            "type": "bar"
           }
          ],
          "barpolar": [
           {
            "marker": {
             "line": {
              "color": "#E5ECF6",
              "width": 0.5
             },
             "pattern": {
              "fillmode": "overlay",
              "size": 10,
              "solidity": 0.2
             }
            },
            "type": "barpolar"
           }
          ],
          "carpet": [
           {
            "aaxis": {
             "endlinecolor": "#2a3f5f",
             "gridcolor": "white",
             "linecolor": "white",
             "minorgridcolor": "white",
             "startlinecolor": "#2a3f5f"
            },
            "baxis": {
             "endlinecolor": "#2a3f5f",
             "gridcolor": "white",
             "linecolor": "white",
             "minorgridcolor": "white",
             "startlinecolor": "#2a3f5f"
            },
            "type": "carpet"
           }
          ],
          "choropleth": [
           {
            "colorbar": {
             "outlinewidth": 0,
             "ticks": ""
            },
            "type": "choropleth"
           }
          ],
          "contour": [
           {
            "colorbar": {
             "outlinewidth": 0,
             "ticks": ""
            },
            "colorscale": [
             [
              0,
              "#0d0887"
             ],
             [
              0.1111111111111111,
              "#46039f"
             ],
             [
              0.2222222222222222,
              "#7201a8"
             ],
             [
              0.3333333333333333,
              "#9c179e"
             ],
             [
              0.4444444444444444,
              "#bd3786"
             ],
             [
              0.5555555555555556,
              "#d8576b"
             ],
             [
              0.6666666666666666,
              "#ed7953"
             ],
             [
              0.7777777777777778,
              "#fb9f3a"
             ],
             [
              0.8888888888888888,
              "#fdca26"
             ],
             [
              1,
              "#f0f921"
             ]
            ],
            "type": "contour"
           }
          ],
          "contourcarpet": [
           {
            "colorbar": {
             "outlinewidth": 0,
             "ticks": ""
            },
            "type": "contourcarpet"
           }
          ],
          "heatmap": [
           {
            "colorbar": {
             "outlinewidth": 0,
             "ticks": ""
            },
            "colorscale": [
             [
              0,
              "#0d0887"
             ],
             [
              0.1111111111111111,
              "#46039f"
             ],
             [
              0.2222222222222222,
              "#7201a8"
             ],
             [
              0.3333333333333333,
              "#9c179e"
             ],
             [
              0.4444444444444444,
              "#bd3786"
             ],
             [
              0.5555555555555556,
              "#d8576b"
             ],
             [
              0.6666666666666666,
              "#ed7953"
             ],
             [
              0.7777777777777778,
              "#fb9f3a"
             ],
             [
              0.8888888888888888,
              "#fdca26"
             ],
             [
              1,
              "#f0f921"
             ]
            ],
            "type": "heatmap"
           }
          ],
          "heatmapgl": [
           {
            "colorbar": {
             "outlinewidth": 0,
             "ticks": ""
            },
            "colorscale": [
             [
              0,
              "#0d0887"
             ],
             [
              0.1111111111111111,
              "#46039f"
             ],
             [
              0.2222222222222222,
              "#7201a8"
             ],
             [
              0.3333333333333333,
              "#9c179e"
             ],
             [
              0.4444444444444444,
              "#bd3786"
             ],
             [
              0.5555555555555556,
              "#d8576b"
             ],
             [
              0.6666666666666666,
              "#ed7953"
             ],
             [
              0.7777777777777778,
              "#fb9f3a"
             ],
             [
              0.8888888888888888,
              "#fdca26"
             ],
             [
              1,
              "#f0f921"
             ]
            ],
            "type": "heatmapgl"
           }
          ],
          "histogram": [
           {
            "marker": {
             "pattern": {
              "fillmode": "overlay",
              "size": 10,
              "solidity": 0.2
             }
            },
            "type": "histogram"
           }
          ],
          "histogram2d": [
           {
            "colorbar": {
             "outlinewidth": 0,
             "ticks": ""
            },
            "colorscale": [
             [
              0,
              "#0d0887"
             ],
             [
              0.1111111111111111,
              "#46039f"
             ],
             [
              0.2222222222222222,
              "#7201a8"
             ],
             [
              0.3333333333333333,
              "#9c179e"
             ],
             [
              0.4444444444444444,
              "#bd3786"
             ],
             [
              0.5555555555555556,
              "#d8576b"
             ],
             [
              0.6666666666666666,
              "#ed7953"
             ],
             [
              0.7777777777777778,
              "#fb9f3a"
             ],
             [
              0.8888888888888888,
              "#fdca26"
             ],
             [
              1,
              "#f0f921"
             ]
            ],
            "type": "histogram2d"
           }
          ],
          "histogram2dcontour": [
           {
            "colorbar": {
             "outlinewidth": 0,
             "ticks": ""
            },
            "colorscale": [
             [
              0,
              "#0d0887"
             ],
             [
              0.1111111111111111,
              "#46039f"
             ],
             [
              0.2222222222222222,
              "#7201a8"
             ],
             [
              0.3333333333333333,
              "#9c179e"
             ],
             [
              0.4444444444444444,
              "#bd3786"
             ],
             [
              0.5555555555555556,
              "#d8576b"
             ],
             [
              0.6666666666666666,
              "#ed7953"
             ],
             [
              0.7777777777777778,
              "#fb9f3a"
             ],
             [
              0.8888888888888888,
              "#fdca26"
             ],
             [
              1,
              "#f0f921"
             ]
            ],
            "type": "histogram2dcontour"
           }
          ],
          "mesh3d": [
           {
            "colorbar": {
             "outlinewidth": 0,
             "ticks": ""
            },
            "type": "mesh3d"
           }
          ],
          "parcoords": [
           {
            "line": {
             "colorbar": {
              "outlinewidth": 0,
              "ticks": ""
             }
            },
            "type": "parcoords"
           }
          ],
          "pie": [
           {
            "automargin": true,
            "type": "pie"
           }
          ],
          "scatter": [
           {
            "marker": {
             "colorbar": {
              "outlinewidth": 0,
              "ticks": ""
             }
            },
            "type": "scatter"
           }
          ],
          "scatter3d": [
           {
            "line": {
             "colorbar": {
              "outlinewidth": 0,
              "ticks": ""
             }
            },
            "marker": {
             "colorbar": {
              "outlinewidth": 0,
              "ticks": ""
             }
            },
            "type": "scatter3d"
           }
          ],
          "scattercarpet": [
           {
            "marker": {
             "colorbar": {
              "outlinewidth": 0,
              "ticks": ""
             }
            },
            "type": "scattercarpet"
           }
          ],
          "scattergeo": [
           {
            "marker": {
             "colorbar": {
              "outlinewidth": 0,
              "ticks": ""
             }
            },
            "type": "scattergeo"
           }
          ],
          "scattergl": [
           {
            "marker": {
             "colorbar": {
              "outlinewidth": 0,
              "ticks": ""
             }
            },
            "type": "scattergl"
           }
          ],
          "scattermapbox": [
           {
            "marker": {
             "colorbar": {
              "outlinewidth": 0,
              "ticks": ""
             }
            },
            "type": "scattermapbox"
           }
          ],
          "scatterpolar": [
           {
            "marker": {
             "colorbar": {
              "outlinewidth": 0,
              "ticks": ""
             }
            },
            "type": "scatterpolar"
           }
          ],
          "scatterpolargl": [
           {
            "marker": {
             "colorbar": {
              "outlinewidth": 0,
              "ticks": ""
             }
            },
            "type": "scatterpolargl"
           }
          ],
          "scatterternary": [
           {
            "marker": {
             "colorbar": {
              "outlinewidth": 0,
              "ticks": ""
             }
            },
            "type": "scatterternary"
           }
          ],
          "surface": [
           {
            "colorbar": {
             "outlinewidth": 0,
             "ticks": ""
            },
            "colorscale": [
             [
              0,
              "#0d0887"
             ],
             [
              0.1111111111111111,
              "#46039f"
             ],
             [
              0.2222222222222222,
              "#7201a8"
             ],
             [
              0.3333333333333333,
              "#9c179e"
             ],
             [
              0.4444444444444444,
              "#bd3786"
             ],
             [
              0.5555555555555556,
              "#d8576b"
             ],
             [
              0.6666666666666666,
              "#ed7953"
             ],
             [
              0.7777777777777778,
              "#fb9f3a"
             ],
             [
              0.8888888888888888,
              "#fdca26"
             ],
             [
              1,
              "#f0f921"
             ]
            ],
            "type": "surface"
           }
          ],
          "table": [
           {
            "cells": {
             "fill": {
              "color": "#EBF0F8"
             },
             "line": {
              "color": "white"
             }
            },
            "header": {
             "fill": {
              "color": "#C8D4E3"
             },
             "line": {
              "color": "white"
             }
            },
            "type": "table"
           }
          ]
         },
         "layout": {
          "annotationdefaults": {
           "arrowcolor": "#2a3f5f",
           "arrowhead": 0,
           "arrowwidth": 1
          },
          "autotypenumbers": "strict",
          "coloraxis": {
           "colorbar": {
            "outlinewidth": 0,
            "ticks": ""
           }
          },
          "colorscale": {
           "diverging": [
            [
             0,
             "#8e0152"
            ],
            [
             0.1,
             "#c51b7d"
            ],
            [
             0.2,
             "#de77ae"
            ],
            [
             0.3,
             "#f1b6da"
            ],
            [
             0.4,
             "#fde0ef"
            ],
            [
             0.5,
             "#f7f7f7"
            ],
            [
             0.6,
             "#e6f5d0"
            ],
            [
             0.7,
             "#b8e186"
            ],
            [
             0.8,
             "#7fbc41"
            ],
            [
             0.9,
             "#4d9221"
            ],
            [
             1,
             "#276419"
            ]
           ],
           "sequential": [
            [
             0,
             "#0d0887"
            ],
            [
             0.1111111111111111,
             "#46039f"
            ],
            [
             0.2222222222222222,
             "#7201a8"
            ],
            [
             0.3333333333333333,
             "#9c179e"
            ],
            [
             0.4444444444444444,
             "#bd3786"
            ],
            [
             0.5555555555555556,
             "#d8576b"
            ],
            [
             0.6666666666666666,
             "#ed7953"
            ],
            [
             0.7777777777777778,
             "#fb9f3a"
            ],
            [
             0.8888888888888888,
             "#fdca26"
            ],
            [
             1,
             "#f0f921"
            ]
           ],
           "sequentialminus": [
            [
             0,
             "#0d0887"
            ],
            [
             0.1111111111111111,
             "#46039f"
            ],
            [
             0.2222222222222222,
             "#7201a8"
            ],
            [
             0.3333333333333333,
             "#9c179e"
            ],
            [
             0.4444444444444444,
             "#bd3786"
            ],
            [
             0.5555555555555556,
             "#d8576b"
            ],
            [
             0.6666666666666666,
             "#ed7953"
            ],
            [
             0.7777777777777778,
             "#fb9f3a"
            ],
            [
             0.8888888888888888,
             "#fdca26"
            ],
            [
             1,
             "#f0f921"
            ]
           ]
          },
          "colorway": [
           "#636efa",
           "#EF553B",
           "#00cc96",
           "#ab63fa",
           "#FFA15A",
           "#19d3f3",
           "#FF6692",
           "#B6E880",
           "#FF97FF",
           "#FECB52"
          ],
          "font": {
           "color": "#2a3f5f"
          },
          "geo": {
           "bgcolor": "white",
           "lakecolor": "white",
           "landcolor": "#E5ECF6",
           "showlakes": true,
           "showland": true,
           "subunitcolor": "white"
          },
          "hoverlabel": {
           "align": "left"
          },
          "hovermode": "closest",
          "mapbox": {
           "style": "light"
          },
          "paper_bgcolor": "white",
          "plot_bgcolor": "#E5ECF6",
          "polar": {
           "angularaxis": {
            "gridcolor": "white",
            "linecolor": "white",
            "ticks": ""
           },
           "bgcolor": "#E5ECF6",
           "radialaxis": {
            "gridcolor": "white",
            "linecolor": "white",
            "ticks": ""
           }
          },
          "scene": {
           "xaxis": {
            "backgroundcolor": "#E5ECF6",
            "gridcolor": "white",
            "gridwidth": 2,
            "linecolor": "white",
            "showbackground": true,
            "ticks": "",
            "zerolinecolor": "white"
           },
           "yaxis": {
            "backgroundcolor": "#E5ECF6",
            "gridcolor": "white",
            "gridwidth": 2,
            "linecolor": "white",
            "showbackground": true,
            "ticks": "",
            "zerolinecolor": "white"
           },
           "zaxis": {
            "backgroundcolor": "#E5ECF6",
            "gridcolor": "white",
            "gridwidth": 2,
            "linecolor": "white",
            "showbackground": true,
            "ticks": "",
            "zerolinecolor": "white"
           }
          },
          "shapedefaults": {
           "line": {
            "color": "#2a3f5f"
           }
          },
          "ternary": {
           "aaxis": {
            "gridcolor": "white",
            "linecolor": "white",
            "ticks": ""
           },
           "baxis": {
            "gridcolor": "white",
            "linecolor": "white",
            "ticks": ""
           },
           "bgcolor": "#E5ECF6",
           "caxis": {
            "gridcolor": "white",
            "linecolor": "white",
            "ticks": ""
           }
          },
          "title": {
           "x": 0.05
          },
          "xaxis": {
           "automargin": true,
           "gridcolor": "white",
           "linecolor": "white",
           "ticks": "",
           "title": {
            "standoff": 15
           },
           "zerolinecolor": "white",
           "zerolinewidth": 2
          },
          "yaxis": {
           "automargin": true,
           "gridcolor": "white",
           "linecolor": "white",
           "ticks": "",
           "title": {
            "standoff": 15
           },
           "zerolinecolor": "white",
           "zerolinewidth": 2
          }
         }
        }
       }
      }
     },
     "metadata": {},
     "output_type": "display_data"
    }
   ],
   "source": [
    "# Create a 3D-Scatter with the PCA data and the clusters\n",
    "fig = px.scatter_3d(clustered_df, x='PC1', y='PC2', z='PC3',color=\"ProofType\",hover_name=\"CoinName\",hover_data=[\"Algorithm\"])\n",
    "fig.show()"
   ]
  },
  {
   "cell_type": "markdown",
   "metadata": {},
   "source": [
    "#### Table of Tradable Cryptocurrencies"
   ]
  },
  {
   "cell_type": "code",
   "execution_count": 677,
   "metadata": {},
   "outputs": [
    {
     "data": {},
     "metadata": {},
     "output_type": "display_data"
    },
    {
     "data": {
      "application/vnd.holoviews_exec.v0+json": "",
      "text/html": [
       "<div id='3757'>\n",
       "\n",
       "\n",
       "\n",
       "\n",
       "\n",
       "  <div class=\"bk-root\" id=\"f13f8aad-76e0-42d5-8584-62e3dacc4699\" data-root-id=\"3757\"></div>\n",
       "</div>\n",
       "<script type=\"application/javascript\">(function(root) {\n",
       "  function embed_document(root) {\n",
       "    var docs_json = {\"d4e42a9c-dbec-444d-a2b8-bd39de716b26\":{\"defs\":[{\"extends\":null,\"module\":null,\"name\":\"ReactiveHTML1\",\"overrides\":[],\"properties\":[]},{\"extends\":null,\"module\":null,\"name\":\"FlexBox1\",\"overrides\":[],\"properties\":[{\"default\":\"flex-start\",\"kind\":null,\"name\":\"align_content\"},{\"default\":\"flex-start\",\"kind\":null,\"name\":\"align_items\"},{\"default\":\"row\",\"kind\":null,\"name\":\"flex_direction\"},{\"default\":\"wrap\",\"kind\":null,\"name\":\"flex_wrap\"},{\"default\":\"flex-start\",\"kind\":null,\"name\":\"justify_content\"}]},{\"extends\":null,\"module\":null,\"name\":\"TemplateActions1\",\"overrides\":[],\"properties\":[{\"default\":0,\"kind\":null,\"name\":\"open_modal\"},{\"default\":0,\"kind\":null,\"name\":\"close_modal\"}]},{\"extends\":null,\"module\":null,\"name\":\"MaterialTemplateActions1\",\"overrides\":[],\"properties\":[{\"default\":0,\"kind\":null,\"name\":\"open_modal\"},{\"default\":0,\"kind\":null,\"name\":\"close_modal\"}]}],\"roots\":{\"references\":[{\"attributes\":{\"children\":[{\"id\":\"3758\"},{\"id\":\"3791\"},{\"id\":\"3798\"}],\"margin\":[0,0,0,0],\"name\":\"Row05954\",\"tags\":[\"embedded\"]},\"id\":\"3757\",\"type\":\"Row\"},{\"attributes\":{\"editor\":{\"id\":\"3777\"},\"field\":\"TotalCoinSupply\",\"formatter\":{\"id\":\"3776\"},\"title\":\"TotalCoinSupply\"},\"id\":\"3778\",\"type\":\"TableColumn\"},{\"attributes\":{},\"id\":\"3760\",\"type\":\"Selection\"},{\"attributes\":{},\"id\":\"3782\",\"type\":\"NumberEditor\"},{\"attributes\":{},\"id\":\"3761\",\"type\":\"StringFormatter\"},{\"attributes\":{\"margin\":[5,5,5,5],\"name\":\"HSpacer05959\",\"sizing_mode\":\"stretch_width\"},\"id\":\"3798\",\"type\":\"Spacer\"},{\"attributes\":{},\"id\":\"3786\",\"type\":\"NumberFormatter\"},{\"attributes\":{\"editor\":{\"id\":\"3787\"},\"field\":\"class\",\"formatter\":{\"id\":\"3786\"},\"title\":\"class\"},\"id\":\"3788\",\"type\":\"TableColumn\"},{\"attributes\":{},\"id\":\"3767\",\"type\":\"StringEditor\"},{\"attributes\":{},\"id\":\"3771\",\"type\":\"StringFormatter\"},{\"attributes\":{\"margin\":[5,5,5,5],\"name\":\"HSpacer05958\",\"sizing_mode\":\"stretch_width\"},\"id\":\"3758\",\"type\":\"Spacer\"},{\"attributes\":{\"columns\":[{\"id\":\"3763\"},{\"id\":\"3768\"},{\"id\":\"3773\"},{\"id\":\"3778\"},{\"id\":\"3783\"},{\"id\":\"3788\"}],\"height\":300,\"reorderable\":false,\"source\":{\"id\":\"3759\"},\"view\":{\"id\":\"3793\"},\"width\":700},\"id\":\"3791\",\"type\":\"DataTable\"},{\"attributes\":{},\"id\":\"3776\",\"type\":\"StringFormatter\"},{\"attributes\":{},\"id\":\"3762\",\"type\":\"StringEditor\"},{\"attributes\":{},\"id\":\"3787\",\"type\":\"IntEditor\"},{\"attributes\":{\"data\":{\"Algorithm\":[\"Scrypt\",\"Scrypt\",\"X13\",\"SHA-256\",\"Ethash\",\"Scrypt\",\"X11\",\"CryptoNight-V7\",\"Ethash\",\"Equihash\",\"SHA-512\",\"Multiple\",\"SHA-256\",\"SHA-256\",\"Scrypt\",\"X15\",\"X11\",\"Scrypt\",\"Scrypt\",\"Scrypt\",\"Multiple\",\"Scrypt\",\"SHA-256\",\"Scrypt\",\"Scrypt\",\"Scrypt\",\"Quark\",\"Groestl\",\"Scrypt\",\"Scrypt\",\"Scrypt\",\"Scrypt\",\"Scrypt\",\"X11\",\"Scrypt\",\"Groestl\",\"Multiple\",\"SHA-256\",\"Scrypt\",\"Scrypt\",\"Scrypt\",\"Scrypt\",\"PoS\",\"Scrypt\",\"Scrypt\",\"NeoScrypt\",\"Scrypt\",\"Scrypt\",\"Scrypt\",\"Scrypt\",\"X11\",\"Scrypt\",\"X11\",\"SHA-256\",\"Scrypt\",\"Scrypt\",\"Scrypt\",\"SHA3\",\"Scrypt\",\"HybridScryptHash256\",\"Scrypt\",\"Scrypt\",\"SHA-256\",\"Scrypt\",\"X13\",\"Scrypt\",\"SHA-256\",\"Scrypt\",\"X13\",\"NeoScrypt\",\"Scrypt\",\"Scrypt\",\"Scrypt\",\"Scrypt\",\"Scrypt\",\"Scrypt\",\"X11\",\"X11\",\"SHA-256\",\"Multiple\",\"SHA-256\",\"PHI1612\",\"X11\",\"SHA-256\",\"SHA-256\",\"SHA-256\",\"X11\",\"Scrypt\",\"Scrypt\",\"Scrypt\",\"Scrypt\",\"Lyra2REv2\",\"Scrypt\",\"X11\",\"Multiple\",\"SHA-256\",\"X13\",\"Scrypt\",\"CryptoNight\",\"CryptoNight\",\"Shabal256\",\"Counterparty\",\"Scrypt\",\"SHA-256\",\"Groestl\",\"Scrypt\",\"Scrypt\",\"Scrypt\",\"X13\",\"Scrypt\",\"Scrypt\",\"Scrypt\",\"Scrypt\",\"X13\",\"Scrypt\",\"Stanford Folding\",\"X11\",\"Multiple\",\"QuBit\",\"Scrypt\",\"Scrypt\",\"Scrypt\",\"M7 POW\",\"Scrypt\",\"SHA-256\",\"Scrypt\",\"X11\",\"SHA3\",\"X11\",\"Lyra2RE\",\"SHA-256\",\"QUAIT\",\"X11\",\"X11\",\"Scrypt\",\"Scrypt\",\"Scrypt\",\"Ethash\",\"X13\",\"Blake2b\",\"SHA-256\",\"X15\",\"X11\",\"SHA-256\",\"BLAKE256\",\"Scrypt\",\"1GB AES Pattern Search\",\"SHA-256\",\"X11\",\"Scrypt\",\"SHA-256\",\"SHA-256\",\"NIST5\",\"Scrypt\",\"Scrypt\",\"X11\",\"Dagger\",\"Scrypt\",\"X11GOST\",\"X11\",\"Scrypt\",\"SHA-256\",\"Scrypt\",\"PoS\",\"Scrypt\",\"X11\",\"X11\",\"SHA-256\",\"SHA-256\",\"NIST5\",\"X11\",\"Scrypt\",\"POS 3.0\",\"Scrypt\",\"Scrypt\",\"Scrypt\",\"X13\",\"X11\",\"X11\",\"Equihash\",\"X11\",\"Scrypt\",\"CryptoNight\",\"SHA-256\",\"SHA-256\",\"X11\",\"Scrypt\",\"Multiple\",\"Scrypt\",\"Scrypt\",\"Scrypt\",\"SHA-256\",\"Scrypt\",\"Scrypt\",\"SHA-256D\",\"PoS\",\"Scrypt\",\"X11\",\"Lyra2Z\",\"PoS\",\"X13\",\"X14\",\"PoS\",\"SHA-256D\",\"Ethash\",\"Equihash\",\"DPoS\",\"X11\",\"Scrypt\",\"X11\",\"X13\",\"X11\",\"PoS\",\"Scrypt\",\"Scrypt\",\"X11\",\"PoS\",\"X11\",\"SHA-256\",\"Scrypt\",\"X11\",\"Scrypt\",\"Scrypt\",\"X11\",\"CryptoNight\",\"Scrypt\",\"Scrypt\",\"Scrypt\",\"Scrypt\",\"Quark\",\"QuBit\",\"Scrypt\",\"CryptoNight\",\"Lyra2RE\",\"Scrypt\",\"SHA-256\",\"X11\",\"Scrypt\",\"X11\",\"Scrypt\",\"CryptoNight-V7\",\"Scrypt\",\"Scrypt\",\"Scrypt\",\"X13\",\"X11\",\"Equihash\",\"Scrypt\",\"Scrypt\",\"Lyra2RE\",\"Scrypt\",\"Dagger-Hashimoto\",\"X11\",\"Blake2S\",\"X11\",\"Scrypt\",\"PoS\",\"X11\",\"NIST5\",\"PoS\",\"X11\",\"Scrypt\",\"Scrypt\",\"Scrypt\",\"SHA-256\",\"X11\",\"Scrypt\",\"Scrypt\",\"SHA-256\",\"PoS\",\"Scrypt\",\"X15\",\"SHA-256\",\"Scrypt\",\"POS 3.0\",\"CryptoNight-V7\",\"536\",\"Argon2d\",\"Blake2b\",\"Cloverhash\",\"CryptoNight\",\"NIST5\",\"X11\",\"NIST5\",\"Skein\",\"Scrypt\",\"X13\",\"Scrypt\",\"X11\",\"X11\",\"Scrypt\",\"CryptoNight\",\"X13\",\"Time Travel\",\"Scrypt\",\"Keccak\",\"SkunkHash v2 Raptor\",\"X11\",\"Skein\",\"SHA-256\",\"X11\",\"Scrypt\",\"VeChainThor Authority\",\"Scrypt\",\"PoS\",\"Scrypt\",\"Scrypt\",\"Scrypt\",\"Scrypt\",\"Scrypt\",\"Scrypt\",\"Scrypt\",\"CryptoNight\",\"SHA-512\",\"Ouroboros\",\"X11\",\"Equihash\",\"NeoScrypt\",\"X11\",\"Scrypt\",\"NeoScrypt\",\"Lyra2REv2\",\"Equihash\",\"Scrypt\",\"SHA-256\",\"NIST5\",\"PHI1612\",\"Dagger\",\"Scrypt\",\"Quark\",\"Scrypt\",\"POS 2.0\",\"Scrypt\",\"SHA-256\",\"X11\",\"NeoScrypt\",\"Ethash\",\"NeoScrypt\",\"X11\",\"DPoS\",\"NIST5\",\"X13\",\"Multiple\",\"Scrypt\",\"CryptoNight\",\"CryptoNight\",\"Ethash\",\"NIST5\",\"Quark\",\"X11\",\"CryptoNight-V7\",\"Scrypt\",\"Scrypt\",\"Scrypt\",\"X11\",\"BLAKE256\",\"X11\",\"NeoScrypt\",\"Quark\",\"NeoScrypt\",\"Scrypt\",\"Scrypt\",\"Scrypt\",\"X11\",\"X11\",\"SHA-256\",\"C11\",\"POS 3.0\",\"Ethash\",\"Scrypt\",\"CryptoNight\",\"SkunkHash\",\"Scrypt\",\"CryptoNight\",\"Scrypt\",\"Dagger\",\"Lyra2REv2\",\"X13\",\"Proof-of-BibleHash\",\"SHA-256 + Hive\",\"Scrypt\",\"Scrypt\",\"X11\",\"C11\",\"Proof-of-Authority\",\"X11\",\"XEVAN\",\"Scrypt\",\"VBFT\",\"Ethash\",\"CryptoNight\",\"Scrypt\",\"IMesh\",\"NIST5\",\"Scrypt\",\"Scrypt\",\"Equihash\",\"Scrypt\",\"Lyra2Z\",\"Green Protocol\",\"PoS\",\"Scrypt\",\"Semux BFT consensus\",\"X11\",\"Quark\",\"PoS\",\"CryptoNight\",\"X16R\",\"Scrypt\",\"NIST5\",\"Lyra2RE\",\"XEVAN\",\"Tribus\",\"Scrypt\",\"Lyra2Z\",\"CryptoNight\",\"CryptoNight Heavy\",\"CryptoNight\",\"Scrypt\",\"Scrypt\",\"Jump Consistent Hash\",\"SHA-256D\",\"CryptoNight\",\"Scrypt\",\"X15\",\"Scrypt\",\"Quark\",\"SHA-256\",\"DPoS\",\"X16R\",\"HMQ1725\",\"X11\",\"X16R\",\"Quark\",\"Quark\",\"Scrypt\",\"Lyra2REv2\",\"Quark\",\"Scrypt\",\"Scrypt\",\"CryptoNight-V7\",\"Cryptonight-GPU\",\"XEVAN\",\"CryptoNight Heavy\",\"X11\",\"X11\",\"Scrypt\",\"PoS\",\"SHA-256\",\"Keccak\",\"X11\",\"X11\",\"Scrypt\",\"SHA-512\",\"X16R\",\"ECC 256K1\",\"Equihash\",\"XEVAN\",\"Lyra2Z\",\"SHA-256\",\"XEVAN\",\"X11\",\"CryptoNight\",\"Quark\",\"Blake\",\"Blake\",\"Equihash\",\"Exosis\",\"Scrypt\",\"Scrypt\",\"Equihash\",\"Quark\",\"Equihash\",\"Quark\",\"Scrypt\",\"QuBit\",\"X11\",\"Scrypt\",\"XEVAN\",\"SHA-256D\",\"X11\",\"SHA-256\",\"X13\",\"SHA-256\",\"X11\",\"DPoS\",\"Scrypt\",\"Scrypt\",\"X11\",\"NeoScrypt\",\"Scrypt\",\"Blake\",\"Scrypt\",\"SHA-256\",\"Scrypt\",\"X11\",\"Scrypt\",\"Scrypt\",\"SHA-256\",\"X11\",\"SHA-256\",\"Scrypt\",\"Scrypt\",\"Scrypt\",\"Groestl\",\"X11\",\"Scrypt\",\"PoS\",\"Scrypt\",\"Scrypt\",\"X11\",\"SHA-256\",\"DPoS\",\"Scrypt\",\"Scrypt\",\"NeoScrypt\",\"SHA3-256\",\"Multiple\",\"X13\",\"Equihash+Scrypt\",\"DPoS\",\"Ethash\",\"DPoS\",\"SHA-256\",\"Leased POS\",\"PoS\",\"TRC10\",\"PoS\",\"SHA-256\",\"Scrypt\",\"CryptoNight\",\"Equihash\",\"Scrypt\"],\"CoinName\":[\"42\",\"404\",\"1337\",\"BTC\",\"ETH\",\"LTC\",\"DASH\",\"XMR\",\"ETC\",\"ZEC\",\"BTS\",\"DGB\",\"BTCD\",\"XPY\",\"PRC\",\"KOBO\",\"SPR\",\"ARG\",\"AUR\",\"BLU\",\"XMY\",\"MOON\",\"ZET\",\"SXC\",\"QTL\",\"ENRG\",\"QRK\",\"RIC\",\"DGC\",\"BTB\",\"CAT\",\"CBX\",\"CCN\",\"CRYPT\",\"CSC\",\"DMD\",\"XVG\",\"DVC\",\"EAC\",\"EFL\",\"EMC2\",\"EMD\",\"EXCL\",\"FLT\",\"FRK\",\"FTC\",\"GDC\",\"GLC\",\"GLD\",\"HBN\",\"HYP\",\"IFC\",\"IOC\",\"IXC\",\"KGC\",\"LKY\",\"LTB\",\"MAX\",\"MEC\",\"MED\",\"MINT\",\"MINC\",\"MZC\",\"NAUT\",\"NAV\",\"NOBL\",\"NMC\",\"NYAN\",\"OPAL\",\"ORB\",\"POT\",\"PXC\",\"RDD\",\"RPC\",\"SBC\",\"SMC\",\"SUPER\",\"SYNC\",\"SYS\",\"TES\",\"TGC\",\"TIT\",\"TOR\",\"TRC\",\"UNB\",\"UNO\",\"URO\",\"USDE\",\"UTC\",\"VIA\",\"VRC\",\"VTC\",\"WDC\",\"XC\",\"XCR\",\"XJO\",\"XST\",\"ZCC\",\"BCN\",\"XDN\",\"BURST\",\"SJCX\",\"MONA\",\"NTRN\",\"FAIR\",\"NLG\",\"RBY\",\"PTC\",\"KORE\",\"WBB\",\"NOTE\",\"FLO\",\"8BIT\",\"STV\",\"ABY\",\"FLDC\",\"U\",\"UIS\",\"CYP\",\"OMC\",\"VTR\",\"GRE\",\"XCN\",\"MSC\",\"SOON\",\"1CR\",\"ISL\",\"NXS\",\"MARS\",\"CTO\",\"ACP\",\"DRZ\",\"BSC\",\"SQL\",\"SONG\",\"ZNY\",\"DIGS\",\"EXP\",\"CON\",\"SC\",\"EMC\",\"EGC\",\"MND\",\"I0C\",\"DCR\",\"RVR\",\"HODL\",\"EDRC\",\"HTC\",\"GAME\",\"DBIC\",\"DIEM\",\"PWR\",\"BLRY\",\"GPU\",\"ADZ\",\"SOIL\",\"YOC\",\"SIB\",\"ERC\",\"ZEIT\",\"SWING\",\"SAFEX\",\"NEBU\",\"FRN\",\"BOLI\",\"XRA\",\"REV\",\"CKC\",\"VIP\",\"BSD\",\"OMNI\",\"LIR\",\"PUT\",\"IBANK\",\"FRWC\",\"MUDRA\",\"PIZZA\",\"LC\",\"KMD\",\"GB\",\"CTC\",\"KRB\",\"BXT\",\"ZYD\",\"MST\",\"ZNE\",\"COVAL\",\"ROOT\",\"DOPE\",\"BTCR\",\"DLC\",\"SCN\",\"SH\",\"BUZZ\",\"XPO\",\"PSB\",\"HALLO\",\"XZC\",\"CFC\",\"ROYAL\",\"GNJ\",\"TEAM\",\"LANA\",\"ELE\",\"ZCL\",\"ARK\",\"INSANE\",\"KLC\",\"ATX\",\"EMB\",\"XEN\",\"FRE\",\"PLNC\",\"ARCO\",\"KURT\",\"XCRE\",\"ENT\",\"EUC\",\"BCF\",\"XSN\",\"BCCOIN\",\"MONEY\",\"XNG\",\"XCI\",\"RC\",\"PND\",\"UNITS\",\"GAKH\",\"ASAFE2\",\"LTCR\",\"OS76\",\"BIC\",\"HXX\",\"KED\",\"IOP\",\"KUSH\",\"PRX\",\"PAC\",\"IMPCH\",\"CTL\",\"ZBC\",\"FRST\",\"BVC\",\"FIND\",\"VLTC\",\"ZER\",\"CHAT\",\"CDN\",\"ZOI\",\"RNS\",\"DBIX\",\"XVP\",\"TAJ\",\"IMX\",\"EB3\",\"ATMOS\",\"HPC\",\"CXT\",\"MCRN\",\"RAIN\",\"IMS\",\"ARGUS\",\"LMC\",\"PROC\",\"XGR\",\"BENJI\",\"GRW\",\"ILC\",\"PHR\",\"DEA\",\"HTML5\",\"USC\",\"EQT\",\"QTUM\",\"QRL\",\"ESP\",\"DYN\",\"NANO\",\"CHAN\",\"DCY\",\"DNR\",\"DP\",\"VUC\",\"BTPL\",\"UNIFY\",\"BRIT\",\"SOCC\",\"ARC\",\"DAS\",\"LINDA\",\"XLC\",\"ONION\",\"BTX\",\"GCN\",\"SMART\",\"SIGT\",\"ONX\",\"CRM\",\"BCH\",\"XMCC\",\"DFT\",\"VET\",\"SOJ\",\"STCN\",\"NYC\",\"FRAZ\",\"KRONE\",\"ACC\",\"LINX\",\"XCXT\",\"ETHD\",\"SUMO\",\"ODN\",\"ADA\",\"REC\",\"BTCZ\",\"TZC\",\"ELM\",\"TER\",\"VIVO\",\"RUP\",\"BTG\",\"WOMEN\",\"MAY\",\"NAMO\",\"LUX\",\"PIRL\",\"XIOS\",\"BTDX\",\"EBST\",\"KEK\",\"BLHC\",\"XIN\",\"PURA\",\"INN\",\"ELLA\",\"GBX\",\"MAG\",\"TAU\",\"ECA\",\"BCD\",\"XSH\",\"CNBC\",\"XUN\",\"COAL\",\"DAXX\",\"BWK\",\"KLKS\",\"AC3\",\"LTHN\",\"GER\",\"LTCU\",\"POP\",\"PNX\",\"PHO\",\"SUCR\",\"SPK\",\"WAGE\",\"GUN\",\"IRL\",\"TROLL\",\"LCP\",\"MONK\",\"PCOIN\",\"UBTC\",\"ITZ\",\"TPAY\",\"MCT\",\"MBC\",\"TRTL\",\"MUN\",\"USX\",\"NBR\",\"SSS\",\"TRF\",\"KREDS\",\"TOKC\",\"BBP\",\"LCC\",\"FLIP\",\"LOT\",\"CIF\",\"SPD\",\"POA\",\"PUSHI\",\"ELP\",\"VLX\",\"ONT\",\"CLO\",\"TUBE\",\"PSD\",\"ADK\",\"BSX\",\"BRIA\",\"IC\",\"BTL\",\"MEDIC\",\"ALPS\",\"BITG\",\"DEV\",\"ABJ\",\"SEM\",\"FTO\",\"CARE\",\"NZL\",\"XMC\",\"PROTON\",\"DEAL\",\"JUMP\",\"INFX\",\"XBI\",\"KEC\",\"HWC\",\"GIN\",\"PLTC\",\"LOKI\",\"NCP\",\"SIC\",\"XT3\",\"MGD\",\"VIG\",\"PLURA\",\"EMAR\",\"DKD\",\"LYNX\",\"POSQ\",\"BWS\",\"MUSE\",\"XMN\",\"PLUS1\",\"AXE\",\"TRVC\",\"DTEM\",\"GIC\",\"PNY\",\"ABS\",\"VITAE\",\"HEX\",\"TPC\",\"WEBC\",\"RYO\",\"URALS\",\"QWC\",\"ARE\",\"EUNO\",\"MMO\",\"KETAN\",\"PPAI\",\"XDNA\",\"PAXEX\",\"AZART\",\"TSC\",\"KCASH\",\"XCG\",\"AAC\",\"CRYP\",\"BTXC\",\"ACM\",\"BSV\",\"BITM\",\"JMC\",\"FRED\",\"HERB\",\"UMO\",\"LIT\",\"PIRATE\",\"EXO\",\"BLTG\",\"OWC\",\"BEAM\",\"GALI\",\"BTH\",\"CSPN\",\"CREDIT\",\"SLC\",\"DASHP\",\"NSD\",\"BEET\",\"TTN\",\"AWR\",\"BLAST\",\"XRC\",\"GLT\",\"INSN\",\"ALX\",\"LDOGE\",\"SLR\",\"TRK\",\"UFO\",\"OC\",\"BLC\",\"BITS\",\"NEOS\",\"HYPER\",\"PINK\",\"CESC\",\"ADC\",\"NKA\",\"PIGGY\",\"CRW\",\"GEN\",\"SMLY\",\"MI\",\"GRS\",\"CPC\",\"CLUB\",\"RADS\",\"BTA\",\"PAK\",\"CRB\",\"OK\",\"LSK\",\"XHI\",\"XWC\",\"FSC\",\"FIII\",\"J\",\"TRI\",\"VOLLAR\",\"EOS\",\"RCC\",\"OXY\",\"TCH\",\"WAVES\",\"PART\",\"BTT\",\"NXT\",\"ZEPH\",\"GAP\",\"BDX\",\"ZEN\",\"XBC\"],\"ProofType\":[\"PoW/PoS\",\"PoW/PoS\",\"PoW/PoS\",\"PoW\",\"PoW\",\"PoW\",\"PoW/PoS\",\"PoW\",\"PoW\",\"PoW\",\"PoS\",\"PoW\",\"PoW/PoS\",\"PoS\",\"PoW\",\"PoW/PoS\",\"PoW\",\"PoW\",\"PoW/PoS\",\"PoW/PoS\",\"PoW\",\"PoW\",\"PoW\",\"PoW\",\"PoW\",\"PoW/PoS\",\"PoW\",\"PoW\",\"PoW\",\"PoW/PoS\",\"PoW\",\"PoW/PoS\",\"PoW\",\"PoW\",\"PoC\",\"PoW/PoS\",\"PoW\",\"PoW\",\"PoW\",\"PoW\",\"PoW\",\"PoW\",\"PoS\",\"PoS/PoW/PoT\",\"PoW\",\"PoW\",\"PoW\",\"PoW\",\"PoW\",\"PoW/PoS\",\"PoS\",\"PoW\",\"PoW/PoS\",\"PoW\",\"PoW\",\"PoW\",\"PoW\",\"PoW/PoS\",\"PoW\",\"PoW\",\"PoS\",\"PoW\",\"PoW/PoS\",\"PoS\",\"PoW/PoS\",\"PoW\",\"PoW\",\"PoW\",\"PoW/PoS\",\"PoW/PoS\",\"PoW/PoS\",\"PoW/PoS\",\"PoW/PoS\",\"PoW\",\"PoW\",\"PoW\",\"PoS\",\"PoW/PoS\",\"PoW\",\"PoS\",\"PoW\",\"PoS\",\"PoW/PoS\",\"PoW\",\"PoW\",\"PoW\",\"PoW\",\"PoW/PoS\",\"PoW/PoS\",\"PoW\",\"PoST\",\"PoW\",\"PoW\",\"PoW/PoS\",\"PoS\",\"PoW\",\"PoW/PoS\",\"PoW/PoS\",\"PoW\",\"PoW\",\"PoC\",\"PoS\",\"PoW\",\"PoW/PoS\",\"PoW/PoS\",\"PoW\",\"PoS\",\"PoW\",\"PoW/PoS\",\"PoW\",\"PoS\",\"PoW\",\"PoW/PoS\",\"PoW/PoS\",\"PoW\",\"PoW\",\"PoS\",\"PoW\",\"PoW\",\"PoW\",\"PoW/PoS\",\"PoW\",\"PoW\",\"PoW\",\"PoW\",\"PoW\",\"PoW/PoS\",\"PoW/nPoS\",\"PoW\",\"PoW\",\"PoW\",\"PoW/PoS\",\"PoW\",\"PoS/PoW\",\"PoW\",\"PoW\",\"PoS\",\"PoW\",\"PoW/PoS\",\"PoW\",\"PoW/PoS\",\"PoW/PoS\",\"PoW\",\"PoW\",\"PoW/PoS\",\"PoW\",\"PoW\",\"PoW/PoS\",\"PoW/PoS\",\"PoW\",\"PoW/PoS\",\"PoW\",\"PoW/PoS\",\"PoW/PoS\",\"PoS\",\"PoW\",\"PoW\",\"PoW\",\"PoW\",\"PoW/PoS\",\"PoS\",\"PoW/PoS\",\"PoC\",\"PoS\",\"PoW\",\"PoW\",\"PoW/PoS\",\"PoW/PoS\",\"PoW/PoS\",\"PoW/PoS\",\"PoW/PoS\",\"PoW\",\"PoS\",\"PoW/PoS\",\"PoW/PoS\",\"PoW/PoS\",\"PoS\",\"PoW\",\"PoS\",\"dPoW/PoW\",\"PoW/PoS\",\"PoW/PoS\",\"PoW\",\"PoW/PoS\",\"PoW\",\"PoW/PoS\",\"PoW/PoS\",\"PoW\",\"PoW/PoS\",\"PoW\",\"PoS\",\"PoW\",\"PoW/PoW\",\"PoW\",\"PoW/PoS\",\"PoS\",\"PoW/PoS\",\"PoW/PoS\",\"PoW\",\"PoS\",\"PoS\",\"PoW/PoS\",\"PoS\",\"PoW/PoS\",\"PoW\",\"PoW\",\"DPoS\",\"PoW/PoS\",\"PoW\",\"PoW\",\"PoW/PoS\",\"PoW/PoS\",\"PoS\",\"PoW/PoS\",\"PoW/PoS\",\"PoW\",\"PoS\",\"PoW/PoS\",\"PoW/PoS\",\"PoW/PoS\",\"TPoS\",\"PoW/PoS\",\"PoW/PoS\",\"PoW/PoS\",\"PoW\",\"PoW/PoS\",\"PoS\",\"PoW/PoS\",\"PoW/PoS\",\"PoS\",\"PoW/PoS\",\"PoW\",\"PoW\",\"PoW\",\"PoW/PoS\",\"PoW/PoS\",\"PoW/PoS\",\"PoW/PoS\",\"PoW\",\"PoW/PoS\",\"PoW\",\"PoS\",\"PoW/PoS \",\"PoW\",\"PoS\",\"PoW\",\"PoW\",\"PoW/PoS\",\"PoW\",\"PoW\",\"PoS\",\"PoW\",\"PoW/PoS\",\"PoW/PoS\",\"PoW/PoS\",\"PoW\",\"PoS\",\"PoW/PoS\",\"PoW\",\"PoS\",\"PoW/PoS\",\"PoW/PoS\",\"PoW/PoS\",\"PoW/PoS\",\"PoS\",\"PoW/PoS\",\"PoW\",\"PoS\",\"PoW\",\"PoS\",\"PoW/PoS\",\"PoW/PoS\",\"PoS\",\"PoW\",\"PoS\",\"PoW\",\"PoW/PoS\",\"PoW\",\"PoW\",\"PoW\",\"PoW\",\"PoW/PoS\",\"PoW\",\"PoW/PoS\",\"PoW/PoS\",\"PoW\",\"PoW/PoS\",\"PoW\",\"PoW\",\"PoW\",\"PoW/PoS\",\"PoW\",\"PoW/PoS\",\"PoW\",\"PoW\",\"PoW\",\"PoS\",\"PoW\",\"PoW/PoS\",\"PoW\",\"PoW/PoS\",\"PoS\",\"Proof of Authority\",\"PoW\",\"PoS\",\"PoW\",\"PoW\",\"PoW\",\"PoW\",\"PoW\",\"PoW/PoS\",\"PoW/PoS\",\"PoW\",\"PoS\",\"PoS\",\"PoW/PoS\",\"PoW\",\"PoW/PoS\",\"PoW\",\"PoW/PoS\",\"PoW\",\"PoS\",\"PoW\",\"PoW/PoS\",\"PoW/PoS\",\"PoW/PoS\",\"PoW/PoS\",\"PoW\",\"PoW/PoS\",\"PoW/PoS\",\"PoW\",\"PoS\",\"PoW/PoS\",\"PoS\",\"PoW\",\"PoW\",\"PoW\",\"PoW\",\"PoW/PoS\",\"DPoS\",\"PoW/PoS\",\"PoW/PoS\",\"PoW\",\"PoW/PoS\",\"PoW\",\"PoW\",\"PoW\",\"PoS\",\"PoS\",\"PoW\",\"PoW\",\"PoW/PoS\",\"PoW/PoS\",\"PoW\",\"PoW/PoS\",\"PoW\",\"PoW\",\"PoW\",\"PoS\",\"PoW\",\"PoW\",\"PoW/PoS\",\"PoW/PoS\",\"PoS\",\"PoW\",\"PoW\",\"PoW\",\"PoS\",\"PoS\",\"PoW and PoS\",\"PoW\",\"PoW\",\"PoW/PoS\",\"PoW\",\"PoW\",\"PoW\",\"PoW\",\"PoS\",\"POBh\",\"PoW + Hive\",\"PoW\",\"PoW\",\"PoW\",\"PoW/PoS\",\"PoA\",\"PoW/PoS\",\"PoW/PoS\",\"PoS\",\"PoS\",\"PoW\",\"PoW\",\"PoW\",\"PoW\",\"PoW/PoS\",\"PoW/PoS\",\"PoW/PoS\",\"PoW\",\"PoS\",\"PoW\",\"PoS\",\"PoS\",\"PoW/PoS\",\"DPoS\",\"PoW\",\"PoW/PoS\",\"PoS\",\"PoW\",\"PoS\",\"PoW/PoS\",\"PoW\",\"PoW\",\"PoS/PoW\",\"PoW\",\"PoS\",\"PoW\",\"PoW\",\"PoW\",\"PoW\",\"PoW/PoS\",\"PoS\",\"PoW\",\"PoW/PoS\",\"PoW\",\"PoW/PoS\",\"PoS\",\"HPoW\",\"PoS\",\"PoS\",\"PoS\",\"PoW\",\"PoW\",\"PoW\",\"PoW/PoS\",\"PoS\",\"PoW/PoS\",\"PoS\",\"PoW/PoS\",\"PoS\",\"PoW\",\"PoW/PoS\",\"PoW\",\"PoW\",\"PoW\",\"PoW\",\"PoS\",\"PoW/PoS\",\"PoS\",\"PoS\",\"PoW\",\"PoW/PoS\",\"PoS\",\"PoW\",\"PoW/PoS\",\"Zero-Knowledge Proof\",\"PoW\",\"DPOS\",\"PoW\",\"PoS\",\"PoW\",\"PoW\",\"Pos\",\"PoS\",\"PoW\",\"PoW/PoS\",\"PoW\",\"PoW\",\"PoS\",\"PoW\",\"PoW\",\"PoW/PoS\",\"PoW\",\"PoW/PoS\",\"PoW\",\"PoS\",\"PoW/PoS\",\"PoW\",\"PoS\",\"PoW/PoS\",\"PoW/PoS\",\"PoW/PoS\",\"PoW/PoS\",\"PoW\",\"PoW\",\"PoW\",\"PoW/PoS\",\"DPoS\",\"PoW/PoS\",\"PoW\",\"PoW/PoS\",\"PoW\",\"PoW/PoS\",\"PoW\",\"PoW/PoS\",\"PoS\",\"PoW/PoS\",\"PoW/PoS\",\"PoW\",\"PoW/PoS\",\"PoW/PoS\",\"PoW/PoS\",\"PoW\",\"PoW/PoS\",\"PoW\",\"PoW/PoS\",\"PoW\",\"PoW/PoS\",\"PoW/PoS\",\"PoS\",\"PoW\",\"PoW\",\"Proof of Trust\",\"PoW/PoS\",\"DPoS\",\"PoS\",\"PoW/PoS\",\"PoW/PoS\",\"DPoC\",\"PoW\",\"PoW/PoS\",\"PoW\",\"DPoS\",\"PoW\",\"DPoS\",\"PoS\",\"LPoS\",\"PoS\",\"DPoS\",\"PoS/LPoS\",\"DPoS\",\"PoW/PoS\",\"PoW\",\"PoW\",\"PoS\"],\"TotalCoinSupply\":[\"42\",\"532000000\",\"314159265359\",\"21000000\",\"0\",\"84000000\",\"22000000\",\"0\",\"210000000\",\"21000000\",\"3600570502\",\"21000000000\",\"22000000\",\"12500000\",\"21000000\",\"350000000\",\"20000000\",\"64000000\",\"16768584\",\"0\",\"2000000000\",\"384000000000\",\"169795588\",\"250000000\",\"100000000\",\"0\",\"247000000\",\"84000000\",\"48166000\",\"500000\",\"21000000 \",\"1000000\",\"13140000\",\"18000000\",\"40000000000\",\"4380000\",\"16555000000\",\"21000000000\",\"13500000000\",\"21000000 \",\"299792458\",\"32000000\",\"0\",\"0\",\"11235813\",\"336000000\",\"1420609614\",\"70000000\",\"72245700\",\"120000000\",\"0\",\"90600000000\",\"22000000\",\"21000000\",\"265420800\",\"20000000\",\"1350000\",\"100000000\",\"42000000\",\"200000000\",\"0\",\"10000000\",\"2419200000\",\"16180000\",\"0\",\"15000000000\",\"21000000\",\"337000000\",\"0\",\"3770000\",\"420000000\",\"98000000\",\"0\",\"21000000\",\"250000000\",\"51200000\",\"0\",\"1000\",\"888000000\",\"100000000\",\"47011968\",\"2300000000\",\"10000000\",\"42000000\",\"80000000\",\"250000\",\"0\",\"1600000000\",\"100000000\",\"23000000\",\"0\",\"84000000\",\"265420800\",\"5500000\",\"0\",\"45000000\",\"0\",\"1000000000\",\"184467440735\",\"10000000000\",\"2158812800\",\"500000000\",\"105120000\",\"68000000\",\"0\",\"1680000000\",\"0\",\"166386000\",\"12000000\",\"2628000\",\"500000000\",\"160000000\",\"0\",\"10000000\",\"1000000000\",\"1000000000\",\"20000000\",\"0\",\"0\",\"3371337\",\"20000000\",\"10000000000\",\"1840000000\",\"619478\",\"21000000\",\"92000000000\",\"0\",\"78000000\",\"33000000\",\"65789100\",\"53760000\",\"5060000\",\"21000000\",\"0\",\"210240000\",\"250000000\",\"100000000\",\"16906397\",\"50000000\",\"0\",\"1000000000\",\"26298000\",\"16000000\",\"21000000\",\"21000000\",\"210000000\",\"81962100\",\"22000000\",\"26550000000\",\"84000000\",\"10500000\",\"21626280000 \",\"0\",\"42000000\",\"221052632\",\"84000000\",\"30000000\",\"168351300\",\"24000000\",\"384000000\",\" 99000000000\",\"40000000\",\"2147483647\",\"20000000\",\"20000000\",\"25000000\",\"75000000\",\"222725000\",\"525000000\",\"90000000\",\"139000000\",\"616448\",\"33500000\",\"2000000000\",\"44333333\",\"100000000\",\"200000000\",\"25000000\",\"657000000\",\"200000000\",\"50000000\",\"90000000\",\"10000000\",\"21000000\",\"9736000\",\"3000000\",\"21000000\",\"1200000000\",\"0\",\"200000000\",\"0\",\"10638298\",\"3100000000\",\"30000000\",\"20000000000\",\"74000000\",\"0\",\"1500000000\",\"21400000\",\"39999898\",\"2500124\",\"100000000\",\"301000000\",\"7506000000\",\"26205539\",\"21000000\",\"125000000\",\"30000000\",\"10000000000\",\"500000000\",\"850000000\",\"3853326.77707314\",\"50000000\",\"38540000 \",\"42000000\",\"228000000\",\"20000000\",\"60000000\",\"20000000\",\"33000000\",\"76500000\",\"28000000\",\"650659833\",\"5000000\",\"21000000\",\"144000000\",\"32514916898\",\"13000000\",\"3315789\",\"15000000\",\"78835200\",\"2714286\",\"25000000\",\"9999999\",\"500000000\",\"21000000\",\"9354000\",\"20000000\",\"100000000000\",\"21933333\",\"185000000\",\"55000000\",\"110000000\",\"3360000\",\"14524851.4827\",\"1000000000\",\"17000000\",\"1000000000\",\"100000000 \",\"21000000\",\"34426423\",\"2232901\",\"100000000\",\"36900000\",\"110000000\",\"4000000000\",\"110290030\",\"100000000\",\"48252000\",\"400000000\",\"500000000\",\"21212121\",\"28600000\",\"1000000000\",\"75000000000\",\"40000000\",\"35520400\",\"2000000000\",\"2500000000\",\"30000000\",\"105000000\",\"90000000000\",\"200084200\",\"72000000\",\"100000000\",\"105000000\",\"50000000000\",\"0\",\"340282367\",\"30000000\",\"2000000000\",\"10000000\",\"100000000\",\"120000000\",\"100000000\",\"19276800\",\"30000000\",\" 75000000\",\"60000000\",\"18900000\",\"50000000000\",\"54000000\",\"18898187.6216583\",\"21000000\",\"200000000000\",\"5000000000\",\"137500000\",\"1100000000\",\"100000000\",\"21000000\",\"9507271\",\"17405891.19707116\",\"86712634466\",\"10500000000\",\"61599965\",\"0\",\"20000000\",\"84000000\",\"100000000\",\"100000000\",\"48252000\",\"4200000\",\"88888888\",\"91388946\",\"45000000000\",\"27000000\",\"21000000000\",\"400000000\",\"1800000000\",\"15733333\",\"27000000\",\"24000000\",\"21000000\",\"25000000000\",\"100000000\",\"1200000000\",\"60000000\",\"156306732.71\",\"21000000\",\"200000000\",\"100000000\",\"21000000\",\"14788275.991\",\"9000000000\",\"350000000\",\"45000000\",\"280000000\",\"31800000\",\"144000000\",\"500000000\",\"30000000000\",\"210000000\",\"660000000\",\"210000000\",\"85000000000\",\"12500000\",\"10000000000\",\"27716121\",\"20000000\",\"550000000\",\"999481516\",\"50000000000\",\"150000000\",\"4999999999\",\"50000000\",\" 90000000000\",\"19800000\",\"21000000\",\"120000000\",\"500000000\",\"64000000\",\"900000000\",\"4000000\",\"21000000\",\"23000000\",\"20166000\",\"23000000\",\"25000000\",\"1618033\",\"30000000\",\"1000000000000\",\"16600000\",\"232000000\",\"336000000\",\"10000000000\",\"100000000\",\"1100000000\",\"800000000\",\"5200000000\",\"840000000\",\"40000000\",\"18406979840\",\"500000000\",\"19340594\",\"252460800\",\"25000000\",\"60000000\",\"124000000\",\"1000000000\",\"6500000000\",\"1000000000\",\"21000000\",\"25000000\",\"50000000\",\"3000000\",\"5000000\",\"70000000\",\"500000000\",\"300000000\",\"21000000\",\"88000000\",\"30000000\",\"100000000\",\"100000000\",\"200000000\",\"80000000\",\"18400000\",\"45000000\",\"5121951220\",\"21000000\",\"26280000\",\"21000000\",\"18000000\",\"26000000\",\"10500000\",\"600000518\",\"150000000\",\"184000000000\",\"10200000000\",\"44000000\",\"168000000\",\"100000000\",\"1000000000\",\"84000000\",\"90000000\",\"92000000000\",\"650000000 \",\"100262205\",\"18081806 \",\"22075700\",\"21000000\",\"21000000\",\"82546564\",\"21000000\",\"5151000\",\"16880000000\",\"52500000\",\"100000000\",\"22105263\",\"1000000000\",\"1750000000\",\"88188888\",\"210000000\",\"184470000000\",\"55000000\",\"50000000\",\"260000000\",\"210000000\",\"2100000000\",\"366000000\",\"100000000\",\"25000000\",\"18000000000\",\"1000000000\",\"100000000\",\"1000000000\",\"7600000000\",\"50000000\",\"84000000\",\"21000000\",\"70000000000\",\"0\",\"8080000000\",\"54000000\",\"105120001.44\",\"25228800\",\"105000000\",\"21000000\",\"120000000\",\"21000000\",\"262800000\",\"19035999\",\"30886000\",\"13370000\",\"74800000000\",\"100000000\",\"19700000\",\"84000000\",\"500000000\",\"5000000000\",\"420000000\",\"64000000\",\"2100000\",\"168000000\",\"30000000\",\"1000000000\",\"35000000000\",\"98100000000\",\"0\",\"4000000000\",\"200000000\",\"7000000000\",\"54256119\",\"21000000\",\"0\",\"500000000\",\"1000000000\",\"10500000000\",\"190000000\",\"1000000000\",\"42000000\",\"15000000\",\"50000000000\",\"400000000\",\"105000000\",\"208000000\",\"160000000\",\"9000000\",\"5000000\",\"182000000\",\"16504333\",\"105000000\",\"159918400\",\"10008835635\",\"300000000\",\"60168145\",\"5000000000\",\"2800000\",\"120000\",\"2100000000\",\"0\",\"24487944\",\"0\",\"1000000000\",\"100000000\",\"8634140\",\"990000000000\",\"1000000000\",\"2000000000\",\"250000000\",\"1400222610\",\"21000000\",\"1000000\"],\"TotalCoinsMined\":{\"__ndarray__\":\"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\",\"dtype\":\"float64\",\"order\":\"little\",\"shape\":[533]},\"class\":{\"__ndarray__\":\"AQAAAAEAAAAEAAAAAAAAAAAAAAAAAAAAAQAAAAAAAAAAAAAAAAAAAAEAAAAAAAAAAQAAAAEAAAAAAAAAAQAAAAAAAAAAAAAAAQAAAAEAAAAAAAAABAAAAAAAAAAAAAAAAAAAAAEAAAAAAAAAAAAAAAAAAAABAAAAAAAAAAEAAAAAAAAAAAAAAAEAAAABAAAAAAAAAAAAAAAAAAAAAAAAAAAAAAAAAAAAAQAAAAEAAAAAAAAAAAAAAAAAAAAAAAAAAAAAAAEAAAABAAAAAAAAAAEAAAAAAAAAAAAAAAAAAAAAAAAAAQAAAAAAAAAAAAAAAQAAAAAAAAABAAAAAQAAAAEAAAAAAAAAAAAAAAAAAAABAAAAAQAAAAEAAAABAAAAAQAAAAAAAAAAAAAAAAAAAAEAAAABAAAAAAAAAAEAAAAAAAAAAQAAAAEAAAAAAAAAAAAAAAAAAAAAAAAAAQAAAAEAAAAAAAAAAQAAAAAAAAAAAAAAAQAAAAEAAAAAAAAAAQAAAAEAAAAEAAAAAAAAAAEAAAABAAAAAAAAAAEAAAABAAAAAAAAAAEAAAAAAAAAAQAAAAAAAAABAAAAAAAAAAEAAAABAAAAAAAAAAAAAAABAAAAAAAAAAAAAAAAAAAAAQAAAAAAAAAAAAAAAAAAAAAAAAAAAAAAAQAAAAEAAAAAAAAAAAAAAAAAAAABAAAAAAAAAAEAAAAAAAAAAAAAAAEAAAAAAAAAAQAAAAAAAAABAAAAAQAAAAAAAAAAAAAAAQAAAAAAAAAAAAAAAQAAAAEAAAAAAAAAAQAAAAAAAAABAAAAAQAAAAEAAAAAAAAAAAAAAAAAAAAAAAAAAQAAAAEAAAABAAAAAQAAAAEAAAAAAAAAAAAAAAEAAAABAAAAAQAAAAEAAAABAAAAAAAAAAEAAAABAAAAAQAAAAEAAAABAAAAAAAAAAEAAAAAAAAAAQAAAAEAAAAAAAAAAQAAAAAAAAABAAAAAQAAAAAAAAABAAAAAAAAAAEAAAAAAAAAAQAAAAAAAAABAAAAAQAAAAEAAAABAAAAAAAAAAEAAAABAAAAAQAAAAEAAAABAAAAAAAAAAAAAAAEAAAAAQAAAAAAAAAAAAAAAQAAAAEAAAABAAAAAQAAAAEAAAAAAAAAAQAAAAEAAAABAAAAAQAAAAEAAAABAAAAAQAAAAEAAAAAAAAAAQAAAAEAAAABAAAAAQAAAAEAAAABAAAAAAAAAAAAAAAAAAAAAQAAAAEAAAABAAAAAQAAAAAAAAABAAAAAAAAAAEAAAABAAAAAAAAAAEAAAAAAAAAAAAAAAEAAAAAAAAAAAAAAAEAAAAAAAAAAQAAAAEAAAABAAAAAAAAAAEAAAABAAAAAAAAAAEAAAABAAAAAQAAAAEAAAABAAAAAQAAAAEAAAAAAAAAAQAAAAAAAAABAAAAAQAAAAEAAAABAAAAAAAAAAEAAAAAAAAAAQAAAAAAAAAAAAAAAAAAAAAAAAABAAAAAAAAAAEAAAABAAAAAAAAAAEAAAAAAAAAAAAAAAAAAAABAAAAAAAAAAEAAAAAAAAABAAAAAAAAAABAAAAAAAAAAEAAAAAAAAAAQAAAAEAAAAEAAAAAAAAAAEAAAAAAAAAAAAAAAAAAAAAAAAAAAAAAAEAAAABAAAAAAAAAAEAAAABAAAAAQAAAAAAAAABAAAAAAAAAAEAAAAAAAAAAQAAAAAAAAABAAAAAQAAAAEAAAABAAAAAAAAAAEAAAABAAAAAAAAAAEAAAABAAAAAQAAAAAAAAAAAAAAAAAAAAAAAAABAAAABAAAAAEAAAABAAAAAAAAAAEAAAAAAAAAAAAAAAAAAAABAAAAAQAAAAAAAAAAAAAAAQAAAAEAAAAAAAAAAQAAAAAAAAAAAAAAAAAAAAEAAAAAAAAAAAAAAAEAAAABAAAAAQAAAAAAAAAAAAAAAAAAAAEAAAABAAAAAQAAAAQAAAAAAAAAAQAAAAAAAAAAAAAAAAAAAAAAAAABAAAAAwAAAAEAAAAAAAAAAAAAAAAAAAABAAAAAwAAAAEAAAABAAAAAQAAAAEAAAAAAAAAAAAAAAAAAAAAAAAAAQAAAAEAAAABAAAAAAAAAAEAAAAAAAAAAQAAAAEAAAABAAAABAAAAAAAAAABAAAAAQAAAAAAAAABAAAAAQAAAAAAAAAAAAAAAQAAAAAAAAABAAAAAAAAAAAAAAAAAAAAAAAAAAEAAAABAAAAAAAAAAEAAAAAAAAAAQAAAAEAAAAEAAAAAQAAAAEAAAABAAAAAAAAAAAAAAAAAAAAAQAAAAEAAAABAAAAAQAAAAEAAAABAAAAAAAAAAEAAAAAAAAAAAAAAAAAAAAEAAAAAQAAAAEAAAABAAAAAQAAAAAAAAABAAAAAQAAAAAAAAABAAAAAQAAAAAAAAABAAAAAAAAAAEAAAAAAAAAAAAAAAEAAAABAAAAAAAAAAEAAAAAAAAAAAAAAAAAAAAAAAAAAAAAAAEAAAAAAAAAAQAAAAAAAAABAAAAAQAAAAAAAAABAAAAAQAAAAEAAAABAAAAAQAAAAAAAAAAAAAAAAAAAAEAAAAEAAAAAQAAAAAAAAABAAAAAAAAAAEAAAAAAAAAAQAAAAEAAAABAAAAAQAAAAAAAAABAAAAAQAAAAEAAAAAAAAAAQAAAAAAAAABAAAAAAAAAAEAAAABAAAAAQAAAAAAAAAAAAAAAQAAAAEAAAAEAAAAAQAAAAEAAAABAAAAAwAAAAAAAAABAAAAAAAAAAQAAAAAAAAABAAAAAEAAAABAAAAAQAAAAIAAAABAAAABAAAAAEAAAAAAAAAAAAAAAEAAAA=\",\"dtype\":\"int32\",\"order\":\"little\",\"shape\":[533]}},\"selected\":{\"id\":\"3760\"},\"selection_policy\":{\"id\":\"3794\"}},\"id\":\"3759\",\"type\":\"ColumnDataSource\"},{\"attributes\":{\"editor\":{\"id\":\"3762\"},\"field\":\"CoinName\",\"formatter\":{\"id\":\"3761\"},\"title\":\"CoinName\"},\"id\":\"3763\",\"type\":\"TableColumn\"},{\"attributes\":{\"format\":\"0,0.0[00000]\"},\"id\":\"3781\",\"type\":\"NumberFormatter\"},{\"attributes\":{},\"id\":\"3794\",\"type\":\"UnionRenderers\"},{\"attributes\":{\"source\":{\"id\":\"3759\"}},\"id\":\"3793\",\"type\":\"CDSView\"},{\"attributes\":{},\"id\":\"3766\",\"type\":\"StringFormatter\"},{\"attributes\":{\"editor\":{\"id\":\"3767\"},\"field\":\"Algorithm\",\"formatter\":{\"id\":\"3766\"},\"title\":\"Algorithm\"},\"id\":\"3768\",\"type\":\"TableColumn\"},{\"attributes\":{},\"id\":\"3772\",\"type\":\"StringEditor\"},{\"attributes\":{\"editor\":{\"id\":\"3772\"},\"field\":\"ProofType\",\"formatter\":{\"id\":\"3771\"},\"title\":\"ProofType\"},\"id\":\"3773\",\"type\":\"TableColumn\"},{\"attributes\":{},\"id\":\"3777\",\"type\":\"StringEditor\"},{\"attributes\":{\"editor\":{\"id\":\"3782\"},\"field\":\"TotalCoinsMined\",\"formatter\":{\"id\":\"3781\"},\"title\":\"TotalCoinsMined\"},\"id\":\"3783\",\"type\":\"TableColumn\"}],\"root_ids\":[\"3757\"]},\"title\":\"Bokeh Application\",\"version\":\"2.4.2\"}};\n",
       "    var render_items = [{\"docid\":\"d4e42a9c-dbec-444d-a2b8-bd39de716b26\",\"root_ids\":[\"3757\"],\"roots\":{\"3757\":\"f13f8aad-76e0-42d5-8584-62e3dacc4699\"}}];\n",
       "    root.Bokeh.embed.embed_items_notebook(docs_json, render_items);\n",
       "  }\n",
       "  if (root.Bokeh !== undefined && root.Bokeh.Panel !== undefined) {\n",
       "    embed_document(root);\n",
       "  } else {\n",
       "    var attempts = 0;\n",
       "    var timer = setInterval(function(root) {\n",
       "      if (root.Bokeh !== undefined && root.Bokeh.Panel !== undefined) {\n",
       "        clearInterval(timer);\n",
       "        embed_document(root);\n",
       "      } else if (document.readyState == \"complete\") {\n",
       "        attempts++;\n",
       "        if (attempts > 200) {\n",
       "          clearInterval(timer);\n",
       "          console.log(\"Bokeh: ERROR: Unable to run BokehJS code because BokehJS library is missing\");\n",
       "        }\n",
       "      }\n",
       "    }, 25, root)\n",
       "  }\n",
       "})(window);</script>"
      ],
      "text/plain": [
       ":Table   [CoinName,Algorithm,ProofType,TotalCoinSupply,TotalCoinsMined,class]"
      ]
     },
     "execution_count": 677,
     "metadata": {
      "application/vnd.holoviews_exec.v0+json": {
       "id": "3757"
      }
     },
     "output_type": "execute_result"
    }
   ],
   "source": [
    "# Table with tradable cryptos\n",
    "tradeable_df=clustered_df.hvplot.table(columns=[\"CoinName\", \"Algorithm\", \"ProofType\", \"TotalCoinSupply\", \"TotalCoinsMined\", \"class\"])\n",
    "tradeable_df"
   ]
  },
  {
   "cell_type": "code",
   "execution_count": 678,
   "metadata": {},
   "outputs": [
    {
     "data": {
      "text/plain": [
       "533"
      ]
     },
     "execution_count": 678,
     "metadata": {},
     "output_type": "execute_result"
    }
   ],
   "source": [
    "# Print the total number of tradable cryptocurrencies\n",
    "tradeable_df.shape[0]"
   ]
  },
  {
   "cell_type": "markdown",
   "metadata": {},
   "source": [
    "#### Scatter Plot with Tradable Cryptocurrencies"
   ]
  },
  {
   "cell_type": "code",
   "execution_count": 680,
   "metadata": {},
   "outputs": [
    {
     "data": {
      "application/vnd.plotly.v1+json": {
       "config": {
        "plotlyServerURL": "https://plot.ly"
       },
       "data": [
        {
         "customdata": [
          [
           "Scrypt"
          ],
          [
           "Scrypt"
          ],
          [
           "X13"
          ],
          [
           "X11"
          ],
          [
           "SHA-256"
          ],
          [
           "X15"
          ],
          [
           "Scrypt"
          ],
          [
           "Scrypt"
          ],
          [
           "Scrypt"
          ],
          [
           "Scrypt"
          ],
          [
           "Scrypt"
          ],
          [
           "Groestl"
          ],
          [
           "Scrypt"
          ],
          [
           "X11"
          ],
          [
           "SHA3"
          ],
          [
           "SHA-256"
          ],
          [
           "X13"
          ],
          [
           "X13"
          ],
          [
           "NeoScrypt"
          ],
          [
           "Scrypt"
          ],
          [
           "Scrypt"
          ],
          [
           "Scrypt"
          ],
          [
           "X11"
          ],
          [
           "X11"
          ],
          [
           "Scrypt"
          ],
          [
           "Scrypt"
          ],
          [
           "X11"
          ],
          [
           "X13"
          ],
          [
           "Scrypt"
          ],
          [
           "SHA-256"
          ],
          [
           "Groestl"
          ],
          [
           "X13"
          ],
          [
           "Scrypt"
          ],
          [
           "X13"
          ],
          [
           "Scrypt"
          ],
          [
           "X11"
          ],
          [
           "QUAIT"
          ],
          [
           "X13"
          ],
          [
           "SHA-256"
          ],
          [
           "X15"
          ],
          [
           "BLAKE256"
          ],
          [
           "SHA-256"
          ],
          [
           "X11"
          ],
          [
           "SHA-256"
          ],
          [
           "NIST5"
          ],
          [
           "Scrypt"
          ],
          [
           "X11"
          ],
          [
           "SHA-256"
          ],
          [
           "X11"
          ],
          [
           "SHA-256"
          ],
          [
           "SHA-256"
          ],
          [
           "NIST5"
          ],
          [
           "X11"
          ],
          [
           "Scrypt"
          ],
          [
           "Scrypt"
          ],
          [
           "Scrypt"
          ],
          [
           "X11"
          ],
          [
           "Scrypt"
          ],
          [
           "SHA-256"
          ],
          [
           "X11"
          ],
          [
           "Scrypt"
          ],
          [
           "Scrypt"
          ],
          [
           "SHA-256D"
          ],
          [
           "Scrypt"
          ],
          [
           "X11"
          ],
          [
           "X14"
          ],
          [
           "SHA-256D"
          ],
          [
           "X11"
          ],
          [
           "X13"
          ],
          [
           "X11"
          ],
          [
           "Scrypt"
          ],
          [
           "Scrypt"
          ],
          [
           "X11"
          ],
          [
           "SHA-256"
          ],
          [
           "Scrypt"
          ],
          [
           "Scrypt"
          ],
          [
           "Scrypt"
          ],
          [
           "X11"
          ],
          [
           "Scrypt"
          ],
          [
           "Scrypt"
          ],
          [
           "Scrypt"
          ],
          [
           "QuBit"
          ],
          [
           "Scrypt"
          ],
          [
           "SHA-256"
          ],
          [
           "X11"
          ],
          [
           "Scrypt"
          ],
          [
           "Scrypt"
          ],
          [
           "Scrypt"
          ],
          [
           "X11"
          ],
          [
           "Blake2S"
          ],
          [
           "X11"
          ],
          [
           "X11"
          ],
          [
           "X11"
          ],
          [
           "Scrypt"
          ],
          [
           "Scrypt"
          ],
          [
           "Scrypt"
          ],
          [
           "X11"
          ],
          [
           "Scrypt"
          ],
          [
           "X15"
          ],
          [
           "536"
          ],
          [
           "NIST5"
          ],
          [
           "NIST5"
          ],
          [
           "Skein"
          ],
          [
           "X13"
          ],
          [
           "Scrypt"
          ],
          [
           "X13"
          ],
          [
           "Skein"
          ],
          [
           "X11"
          ],
          [
           "Scrypt"
          ],
          [
           "Scrypt"
          ],
          [
           "X11"
          ],
          [
           "NeoScrypt"
          ],
          [
           "Scrypt"
          ],
          [
           "Scrypt"
          ],
          [
           "SHA-256"
          ],
          [
           "NIST5"
          ],
          [
           "PHI1612"
          ],
          [
           "Scrypt"
          ],
          [
           "Quark"
          ],
          [
           "Scrypt"
          ],
          [
           "X11"
          ],
          [
           "NIST5"
          ],
          [
           "X13"
          ],
          [
           "Scrypt"
          ],
          [
           "Scrypt"
          ],
          [
           "Scrypt"
          ],
          [
           "X11"
          ],
          [
           "Scrypt"
          ],
          [
           "Scrypt"
          ],
          [
           "Scrypt"
          ],
          [
           "C11"
          ],
          [
           "X11"
          ],
          [
           "XEVAN"
          ],
          [
           "NIST5"
          ],
          [
           "Scrypt"
          ],
          [
           "Scrypt"
          ],
          [
           "Scrypt"
          ],
          [
           "Quark"
          ],
          [
           "Scrypt"
          ],
          [
           "Scrypt"
          ],
          [
           "SHA-256D"
          ],
          [
           "Scrypt"
          ],
          [
           "X16R"
          ],
          [
           "Quark"
          ],
          [
           "Lyra2REv2"
          ],
          [
           "Scrypt"
          ],
          [
           "X11"
          ],
          [
           "Keccak"
          ],
          [
           "Scrypt"
          ],
          [
           "Quark"
          ],
          [
           "Scrypt"
          ],
          [
           "Quark"
          ],
          [
           "Scrypt"
          ],
          [
           "Scrypt"
          ],
          [
           "XEVAN"
          ],
          [
           "SHA-256D"
          ],
          [
           "X11"
          ],
          [
           "X11"
          ],
          [
           "Scrypt"
          ],
          [
           "X11"
          ],
          [
           "Scrypt"
          ],
          [
           "Scrypt"
          ],
          [
           "Scrypt"
          ],
          [
           "X11"
          ],
          [
           "Scrypt"
          ],
          [
           "SHA-256"
          ],
          [
           "X11"
          ],
          [
           "Scrypt"
          ],
          [
           "Scrypt"
          ],
          [
           "X11"
          ],
          [
           "Scrypt"
          ],
          [
           "SHA-256"
          ],
          [
           "Scrypt"
          ],
          [
           "NeoScrypt"
          ],
          [
           "X13"
          ],
          [
           "Scrypt"
          ]
         ],
         "hovertemplate": "<b>%{hovertext}</b><br><br>ProofType=PoW/PoS<br>TotalCoinsMined=%{x}<br>TotalCoinSupply=%{y}<br>Algorithm=%{customdata[0]}<extra></extra>",
         "hovertext": [
          "42",
          "404",
          "1337",
          "DASH",
          "BTCD",
          "KOBO",
          "AUR",
          "BLU",
          "ENRG",
          "BTB",
          "CBX",
          "DMD",
          "HBN",
          "IOC",
          "MAX",
          "MZC",
          "NAV",
          "OPAL",
          "ORB",
          "POT",
          "PXC",
          "RDD",
          "SYNC",
          "TOR",
          "USDE",
          "UTC",
          "XC",
          "XST",
          "ZCC",
          "NTRN",
          "FAIR",
          "KORE",
          "8BIT",
          "STV",
          "VTR",
          "ISL",
          "DRZ",
          "CON",
          "EMC",
          "EGC",
          "DCR",
          "EDRC",
          "HTC",
          "DBIC",
          "PWR",
          "BLRY",
          "ERC",
          "SWING",
          "XRA",
          "REV",
          "CKC",
          "VIP",
          "BSD",
          "PUT",
          "IBANK",
          "FRWC",
          "GB",
          "CTC",
          "BXT",
          "MST",
          "ZNE",
          "ROOT",
          "BUZZ",
          "PSB",
          "HALLO",
          "GNJ",
          "LANA",
          "INSANE",
          "EMB",
          "XEN",
          "PLNC",
          "ARCO",
          "ENT",
          "EUC",
          "BCF",
          "BCCOIN",
          "MONEY",
          "XNG",
          "RC",
          "UNITS",
          "GAKH",
          "LTCR",
          "KED",
          "IOP",
          "KUSH",
          "PRX",
          "IMPCH",
          "CHAT",
          "XVP",
          "TAJ",
          "IMX",
          "HPC",
          "RAIN",
          "IMS",
          "ARGUS",
          "LMC",
          "XGR",
          "DEA",
          "HTML5",
          "ESP",
          "DNR",
          "VUC",
          "BTPL",
          "BRIT",
          "LINDA",
          "ONION",
          "CRM",
          "XMCC",
          "XCXT",
          "ETHD",
          "REC",
          "TZC",
          "TER",
          "WOMEN",
          "MAY",
          "NAMO",
          "LUX",
          "XIOS",
          "BTDX",
          "BLHC",
          "MAG",
          "ECA",
          "BCD",
          "CNBC",
          "GER",
          "LTCU",
          "PNX",
          "TROLL",
          "LCP",
          "USX",
          "SPD",
          "PUSHI",
          "ELP",
          "BSX",
          "BRIA",
          "IC",
          "ABJ",
          "CARE",
          "DEAL",
          "SIC",
          "VIG",
          "EMAR",
          "TRVC",
          "GIC",
          "ABS",
          "TPC",
          "EUNO",
          "XDNA",
          "TSC",
          "HERB",
          "OWC",
          "GALI",
          "CREDIT",
          "NSD",
          "BEET",
          "TTN",
          "AWR",
          "INSN",
          "LDOGE",
          "TRK",
          "OC",
          "BITS",
          "HYPER",
          "PINK",
          "ADC",
          "NKA",
          "PIGGY",
          "GEN",
          "MI",
          "CPC",
          "CLUB",
          "OK",
          "XWC",
          "FSC",
          "TRI",
          "GAP"
         ],
         "legendgroup": "PoW/PoS",
         "marker": {
          "color": "#636efa",
          "symbol": "circle"
         },
         "mode": "markers",
         "name": "PoW/PoS",
         "orientation": "h",
         "showlegend": true,
         "type": "scatter",
         "x": [
          41.99995383,
          1055184902.04,
          29279424622.5027,
          9031294.37563393,
          1288862,
          25542535.5881841,
          18135099.992959,
          635423900,
          123062801.128773,
          42579.476901,
          1039116.65144562,
          3304487.74735637,
          89266933.684704,
          17650913.9743456,
          61445805,
          1613836099.99999,
          66087096.2077108,
          15156364.3306548,
          3220616.279225,
          222677226.014206,
          73959274.625,
          29315567169.0888,
          1177,
          1431851.00002479,
          1098952592.6,
          50235211.141939,
          6950831.0970606,
          33093725.4123502,
          147990237.978331,
          39121694,
          53193831,
          2022464.886973,
          1467841,
          7096834,
          11604722,
          1513704,
          8568038.35935056,
          23042604,
          43059794.804778,
          13530556.4180753,
          10365046.9281661,
          3669691.84494672,
          10996318099,
          5129014,
          10069449031.9252,
          8998743.2411911,
          10407269.7881868,
          4377081.60953993,
          134554941.15119,
          1195525,
          16662820,
          83450403,
          24387724.5010828,
          813092338.575672,
          4526324,
          100000000,
          15563873,
          43165500,
          595429,
          657636.34549789,
          2581970,
          1939889,
          19577787259,
          33522957,
          264678458.288619,
          100000000,
          1082162635.53683,
          18342813,
          92192822723,
          3853326.77707314,
          17089600,
          2449577.41533168,
          6069482.07721352,
          12416554,
          20244023.640728,
          11080722.3769581,
          10914418,
          814671,
          8377873,
          3472983,
          3315789,
          30227750,
          23965372,
          2526078.47525448,
          5659096.95728771,
          11821728,
          308179,
          1000000000,
          13162749.0858027,
          12184195.9258495,
          110630387.850471,
          21521322.0099142,
          121665451.643876,
          5368934,
          1148324,
          500000,
          17171382,
          21358764,
          40659020000,
          22801882871,
          4171382,
          62942075,
          6804362,
          21268092,
          9044930943.24243,
          21917018.0492836,
          47331802.4774238,
          12569262.5359307,
          19539588,
          4200000,
          7262402.04264803,
          182638400,
          1140734.91680375,
          48459472454,
          92050800,
          560563220,
          8305775.31777569,
          2149688,
          30711550.5294042,
          16362544.992,
          38198594.8342105,
          28399150208,
          183534024.889807,
          110976977.29338,
          4911500269.41,
          8419402.321,
          45174214.1078625,
          591022748,
          2504486.227718,
          234846265.782157,
          11251342.1879021,
          2167827.1,
          419275.38,
          13787854.6277781,
          845637.81347436,
          1182153.5,
          9880502.37178894,
          139739596.506702,
          1404157529.46026,
          10200000000,
          33238183.7225834,
          21599339.6728,
          36923120.6205934,
          5919489.76813523,
          13332617.9413708,
          5403802.49590733,
          30771125.9760867,
          4672513.84432375,
          1059954080.43439,
          35312185.7437239,
          14777549.3940764,
          18265011.2486006,
          30825710000.0296,
          20546528.2059957,
          198938144.363399,
          896361168,
          15420234.5389336,
          23775960.3207514,
          15318887081.0146,
          242574105.22384,
          3537150,
          20576532,
          9631199.99309942,
          436353624.490312,
          980732528.97974,
          17939725045.334,
          494240666.028571,
          60000000,
          404316475.545465,
          201364327.427503,
          103621876.167052,
          74676064.9488608,
          252005564.19257,
          1120385.00502,
          140777.753365,
          14931046.1546605
         ],
         "xaxis": "x",
         "y": [
          "42",
          "532000000",
          "314159265359",
          "22000000",
          "22000000",
          "350000000",
          "16768584",
          "0",
          "0",
          "500000",
          "1000000",
          "4380000",
          "120000000",
          "22000000",
          "100000000",
          "2419200000",
          "0",
          "0",
          "3770000",
          "420000000",
          "98000000",
          "0",
          "1000",
          "10000000",
          "1600000000",
          "100000000",
          "5500000",
          "0",
          "1000000000",
          "68000000",
          "0",
          "12000000",
          "0",
          "10000000",
          "20000000",
          "0",
          "5060000",
          "50000000",
          "1000000000",
          "26298000",
          "21000000",
          "22000000",
          "26550000000",
          "10500000",
          "0",
          "42000000",
          "384000000",
          "40000000",
          "75000000",
          "222725000",
          "525000000",
          "90000000",
          "139000000",
          "2000000000",
          "44333333",
          "100000000",
          "50000000",
          "90000000",
          "21000000",
          "3000000",
          "21000000",
          "0",
          "20000000000",
          "0",
          "1500000000",
          "100000000",
          "7506000000",
          "30000000",
          "850000000",
          "3853326.77707314",
          "38540000 ",
          "42000000",
          "60000000",
          "20000000",
          "33000000",
          "28000000",
          "650659833",
          "5000000",
          "144000000",
          "13000000",
          "3315789",
          "78835200",
          "500000000",
          "21000000",
          "9354000",
          "20000000",
          "21933333",
          "1000000000",
          "100000000",
          "36900000",
          "110000000",
          "100000000",
          "500000000",
          "21212121",
          "28600000",
          "1000000000",
          "40000000",
          "105000000",
          "90000000000",
          "50000000000",
          "10000000",
          "120000000",
          "100000000",
          "30000000",
          "50000000000",
          "18898187.6216583",
          "100000000",
          "9507271",
          "48252000",
          "4200000",
          "27000000",
          "400000000",
          "15733333",
          "25000000000",
          "100000000",
          "1200000000",
          "60000000",
          "21000000",
          "200000000",
          "14788275.991",
          "144000000",
          "30000000000",
          "210000000",
          "210000000",
          "50000000000",
          "150000000",
          "50000000",
          "900000000",
          "4000000",
          "232000000",
          "19340594",
          "25000000",
          "60000000",
          "50000000",
          "3000000",
          "5000000",
          "30000000",
          "200000000",
          "5121951220",
          "10200000000",
          "100000000",
          "84000000",
          "82546564",
          "5151000",
          "52500000",
          "1000000000",
          "50000000",
          "366000000",
          "18000000000",
          "54000000",
          "21000000",
          "19035999",
          "74800000000",
          "84000000",
          "500000000",
          "5000000000",
          "420000000",
          "30000000",
          "35000000000",
          "0",
          "200000000",
          "54256119",
          "0",
          "500000000",
          "10500000000",
          "190000000",
          "1000000000",
          "15000000",
          "400000000",
          "208000000",
          "160000000",
          "105000000",
          "300000000",
          "60168145",
          "120000",
          "250000000"
         ],
         "yaxis": "y"
        },
        {
         "customdata": [
          [
           "SHA-256"
          ],
          [
           "Ethash"
          ],
          [
           "Scrypt"
          ],
          [
           "CryptoNight-V7"
          ],
          [
           "Ethash"
          ],
          [
           "Equihash"
          ],
          [
           "Multiple"
          ],
          [
           "Scrypt"
          ],
          [
           "X11"
          ],
          [
           "Scrypt"
          ],
          [
           "Multiple"
          ],
          [
           "Scrypt"
          ],
          [
           "SHA-256"
          ],
          [
           "Scrypt"
          ],
          [
           "Scrypt"
          ],
          [
           "Quark"
          ],
          [
           "Groestl"
          ],
          [
           "Scrypt"
          ],
          [
           "Scrypt"
          ],
          [
           "Scrypt"
          ],
          [
           "X11"
          ],
          [
           "Multiple"
          ],
          [
           "SHA-256"
          ],
          [
           "Scrypt"
          ],
          [
           "Scrypt"
          ],
          [
           "Scrypt"
          ],
          [
           "Scrypt"
          ],
          [
           "Scrypt"
          ],
          [
           "NeoScrypt"
          ],
          [
           "Scrypt"
          ],
          [
           "Scrypt"
          ],
          [
           "Scrypt"
          ],
          [
           "Scrypt"
          ],
          [
           "SHA-256"
          ],
          [
           "Scrypt"
          ],
          [
           "Scrypt"
          ],
          [
           "Scrypt"
          ],
          [
           "Scrypt"
          ],
          [
           "HybridScryptHash256"
          ],
          [
           "Scrypt"
          ],
          [
           "Scrypt"
          ],
          [
           "SHA-256"
          ],
          [
           "Scrypt"
          ],
          [
           "Scrypt"
          ],
          [
           "Scrypt"
          ],
          [
           "Scrypt"
          ],
          [
           "SHA-256"
          ],
          [
           "SHA-256"
          ],
          [
           "SHA-256"
          ],
          [
           "SHA-256"
          ],
          [
           "SHA-256"
          ],
          [
           "X11"
          ],
          [
           "Scrypt"
          ],
          [
           "Lyra2REv2"
          ],
          [
           "Scrypt"
          ],
          [
           "SHA-256"
          ],
          [
           "CryptoNight"
          ],
          [
           "CryptoNight"
          ],
          [
           "Scrypt"
          ],
          [
           "Scrypt"
          ],
          [
           "Scrypt"
          ],
          [
           "Scrypt"
          ],
          [
           "Scrypt"
          ],
          [
           "Scrypt"
          ],
          [
           "Stanford Folding"
          ],
          [
           "Multiple"
          ],
          [
           "QuBit"
          ],
          [
           "Scrypt"
          ],
          [
           "Scrypt"
          ],
          [
           "M7 POW"
          ],
          [
           "Scrypt"
          ],
          [
           "SHA-256"
          ],
          [
           "Scrypt"
          ],
          [
           "X11"
          ],
          [
           "Lyra2RE"
          ],
          [
           "SHA-256"
          ],
          [
           "X11"
          ],
          [
           "Scrypt"
          ],
          [
           "Scrypt"
          ],
          [
           "Ethash"
          ],
          [
           "Blake2b"
          ],
          [
           "X11"
          ],
          [
           "SHA-256"
          ],
          [
           "Scrypt"
          ],
          [
           "1GB AES Pattern Search"
          ],
          [
           "Scrypt"
          ],
          [
           "SHA-256"
          ],
          [
           "X11"
          ],
          [
           "Dagger"
          ],
          [
           "Scrypt"
          ],
          [
           "X11GOST"
          ],
          [
           "Scrypt"
          ],
          [
           "X11"
          ],
          [
           "Scrypt"
          ],
          [
           "X11"
          ],
          [
           "CryptoNight"
          ],
          [
           "SHA-256"
          ],
          [
           "Multiple"
          ],
          [
           "Scrypt"
          ],
          [
           "SHA-256"
          ],
          [
           "Scrypt"
          ],
          [
           "Lyra2Z"
          ],
          [
           "Ethash"
          ],
          [
           "Equihash"
          ],
          [
           "Scrypt"
          ],
          [
           "X11"
          ],
          [
           "X11"
          ],
          [
           "CryptoNight"
          ],
          [
           "Scrypt"
          ],
          [
           "CryptoNight"
          ],
          [
           "Lyra2RE"
          ],
          [
           "X11"
          ],
          [
           "CryptoNight-V7"
          ],
          [
           "Scrypt"
          ],
          [
           "X11"
          ],
          [
           "Equihash"
          ],
          [
           "Scrypt"
          ],
          [
           "Lyra2RE"
          ],
          [
           "Dagger-Hashimoto"
          ],
          [
           "Scrypt"
          ],
          [
           "NIST5"
          ],
          [
           "Scrypt"
          ],
          [
           "SHA-256"
          ],
          [
           "Scrypt"
          ],
          [
           "CryptoNight-V7"
          ],
          [
           "Argon2d"
          ],
          [
           "Blake2b"
          ],
          [
           "Cloverhash"
          ],
          [
           "CryptoNight"
          ],
          [
           "X11"
          ],
          [
           "Scrypt"
          ],
          [
           "Scrypt"
          ],
          [
           "X11"
          ],
          [
           "X11"
          ],
          [
           "CryptoNight"
          ],
          [
           "Time Travel"
          ],
          [
           "Scrypt"
          ],
          [
           "Keccak"
          ],
          [
           "X11"
          ],
          [
           "SHA-256"
          ],
          [
           "Scrypt"
          ],
          [
           "Scrypt"
          ],
          [
           "Scrypt"
          ],
          [
           "Scrypt"
          ],
          [
           "Scrypt"
          ],
          [
           "Scrypt"
          ],
          [
           "CryptoNight"
          ],
          [
           "Equihash"
          ],
          [
           "X11"
          ],
          [
           "NeoScrypt"
          ],
          [
           "Equihash"
          ],
          [
           "Dagger"
          ],
          [
           "Scrypt"
          ],
          [
           "X11"
          ],
          [
           "NeoScrypt"
          ],
          [
           "Ethash"
          ],
          [
           "NeoScrypt"
          ],
          [
           "Multiple"
          ],
          [
           "CryptoNight"
          ],
          [
           "CryptoNight"
          ],
          [
           "Ethash"
          ],
          [
           "X11"
          ],
          [
           "CryptoNight-V7"
          ],
          [
           "Scrypt"
          ],
          [
           "BLAKE256"
          ],
          [
           "X11"
          ],
          [
           "NeoScrypt"
          ],
          [
           "NeoScrypt"
          ],
          [
           "Scrypt"
          ],
          [
           "X11"
          ],
          [
           "SHA-256"
          ],
          [
           "C11"
          ],
          [
           "CryptoNight"
          ],
          [
           "SkunkHash"
          ],
          [
           "CryptoNight"
          ],
          [
           "Scrypt"
          ],
          [
           "Dagger"
          ],
          [
           "Lyra2REv2"
          ],
          [
           "Scrypt"
          ],
          [
           "Scrypt"
          ],
          [
           "X11"
          ],
          [
           "Ethash"
          ],
          [
           "CryptoNight"
          ],
          [
           "Scrypt"
          ],
          [
           "IMesh"
          ],
          [
           "Equihash"
          ],
          [
           "Lyra2Z"
          ],
          [
           "X11"
          ],
          [
           "CryptoNight"
          ],
          [
           "NIST5"
          ],
          [
           "Lyra2RE"
          ],
          [
           "Tribus"
          ],
          [
           "Lyra2Z"
          ],
          [
           "CryptoNight"
          ],
          [
           "CryptoNight Heavy"
          ],
          [
           "CryptoNight"
          ],
          [
           "Jump Consistent Hash"
          ],
          [
           "CryptoNight"
          ],
          [
           "X16R"
          ],
          [
           "HMQ1725"
          ],
          [
           "X11"
          ],
          [
           "Scrypt"
          ],
          [
           "CryptoNight-V7"
          ],
          [
           "Cryptonight-GPU"
          ],
          [
           "XEVAN"
          ],
          [
           "CryptoNight Heavy"
          ],
          [
           "SHA-256"
          ],
          [
           "X11"
          ],
          [
           "X16R"
          ],
          [
           "Equihash"
          ],
          [
           "Lyra2Z"
          ],
          [
           "SHA-256"
          ],
          [
           "CryptoNight"
          ],
          [
           "Blake"
          ],
          [
           "Blake"
          ],
          [
           "Exosis"
          ],
          [
           "Scrypt"
          ],
          [
           "Equihash"
          ],
          [
           "Equihash"
          ],
          [
           "QuBit"
          ],
          [
           "SHA-256"
          ],
          [
           "X13"
          ],
          [
           "SHA-256"
          ],
          [
           "Scrypt"
          ],
          [
           "NeoScrypt"
          ],
          [
           "Blake"
          ],
          [
           "Scrypt"
          ],
          [
           "SHA-256"
          ],
          [
           "Scrypt"
          ],
          [
           "Groestl"
          ],
          [
           "Scrypt"
          ],
          [
           "Scrypt"
          ],
          [
           "Multiple"
          ],
          [
           "Equihash+Scrypt"
          ],
          [
           "Ethash"
          ],
          [
           "CryptoNight"
          ],
          [
           "Equihash"
          ]
         ],
         "hovertemplate": "<b>%{hovertext}</b><br><br>ProofType=PoW<br>TotalCoinsMined=%{x}<br>TotalCoinSupply=%{y}<br>Algorithm=%{customdata[0]}<extra></extra>",
         "hovertext": [
          "BTC",
          "ETH",
          "LTC",
          "XMR",
          "ETC",
          "ZEC",
          "DGB",
          "PRC",
          "SPR",
          "ARG",
          "XMY",
          "MOON",
          "ZET",
          "SXC",
          "QTL",
          "QRK",
          "RIC",
          "DGC",
          "CAT",
          "CCN",
          "CRYPT",
          "XVG",
          "DVC",
          "EAC",
          "EFL",
          "EMC2",
          "EMD",
          "FRK",
          "FTC",
          "GDC",
          "GLC",
          "GLD",
          "IFC",
          "IXC",
          "KGC",
          "LKY",
          "LTB",
          "MEC",
          "MED",
          "MINC",
          "NOBL",
          "NMC",
          "NYAN",
          "RPC",
          "SBC",
          "SMC",
          "SYS",
          "TGC",
          "TRC",
          "UNB",
          "UNO",
          "URO",
          "VIA",
          "VTC",
          "WDC",
          "XJO",
          "BCN",
          "XDN",
          "MONA",
          "NLG",
          "PTC",
          "WBB",
          "FLO",
          "ABY",
          "FLDC",
          "UIS",
          "CYP",
          "OMC",
          "GRE",
          "XCN",
          "MSC",
          "SOON",
          "1CR",
          "MARS",
          "CTO",
          "ACP",
          "BSC",
          "SONG",
          "ZNY",
          "EXP",
          "SC",
          "MND",
          "I0C",
          "RVR",
          "HODL",
          "GAME",
          "DIEM",
          "ADZ",
          "SOIL",
          "YOC",
          "SIB",
          "FRN",
          "BOLI",
          "OMNI",
          "PIZZA",
          "KRB",
          "ZYD",
          "COVAL",
          "DOPE",
          "DLC",
          "SH",
          "XZC",
          "ELE",
          "ZCL",
          "KLC",
          "ATX",
          "KURT",
          "XCI",
          "OS76",
          "BIC",
          "HXX",
          "PAC",
          "CTL",
          "BVC",
          "VLTC",
          "ZER",
          "CDN",
          "ZOI",
          "DBIX",
          "EB3",
          "CXT",
          "BENJI",
          "ILC",
          "EQT",
          "QRL",
          "DYN",
          "NANO",
          "CHAN",
          "DCY",
          "DP",
          "UNIFY",
          "SOCC",
          "ARC",
          "DAS",
          "XLC",
          "BTX",
          "GCN",
          "SMART",
          "ONX",
          "BCH",
          "SOJ",
          "NYC",
          "FRAZ",
          "KRONE",
          "ACC",
          "LINX",
          "SUMO",
          "BTCZ",
          "ELM",
          "VIVO",
          "BTG",
          "PIRL",
          "EBST",
          "PURA",
          "INN",
          "ELLA",
          "GBX",
          "XSH",
          "XUN",
          "COAL",
          "DAXX",
          "AC3",
          "LTHN",
          "POP",
          "PHO",
          "SUCR",
          "SPK",
          "GUN",
          "IRL",
          "PCOIN",
          "UBTC",
          "ITZ",
          "TRTL",
          "MUN",
          "NBR",
          "SSS",
          "TRF",
          "KREDS",
          "FLIP",
          "LOT",
          "CIF",
          "CLO",
          "TUBE",
          "PSD",
          "ADK",
          "BTL",
          "ALPS",
          "FTO",
          "XMC",
          "JUMP",
          "INFX",
          "KEC",
          "GIN",
          "PLTC",
          "LOKI",
          "NCP",
          "MGD",
          "PLURA",
          "XMN",
          "PLUS1",
          "AXE",
          "HEX",
          "WEBC",
          "RYO",
          "URALS",
          "QWC",
          "PPAI",
          "AZART",
          "XCG",
          "CRYP",
          "ACM",
          "BSV",
          "FRED",
          "UMO",
          "LIT",
          "EXO",
          "BLTG",
          "BEAM",
          "BTH",
          "SLC",
          "BLAST",
          "XRC",
          "GLT",
          "SLR",
          "UFO",
          "BLC",
          "CESC",
          "CRW",
          "SMLY",
          "GRS",
          "BTA",
          "PAK",
          "J",
          "VOLLAR",
          "RCC",
          "BDX",
          "ZEN"
         ],
         "legendgroup": "PoW",
         "marker": {
          "color": "#EF553B",
          "symbol": "circle"
         },
         "mode": "markers",
         "name": "PoW",
         "orientation": "h",
         "showlegend": true,
         "type": "scatter",
         "x": [
          17927175,
          107684222.6865,
          63039243.3000049,
          17201143.1449131,
          113359703,
          7383056.25,
          11406219141,
          5768310,
          11149733.9976203,
          12205795.4449549,
          1688254250,
          88,
          170204389.754849,
          128940951.183046,
          7357794.7925,
          259557164.91477,
          49548585.1412917,
          33442988.3440364,
          7219956.64626131,
          4703879.51824446,
          4996986.20575291,
          15929530669.1206,
          18773857500,
          12539015186.822,
          20910478.8062499,
          218871896.499999,
          19496786.31025,
          1142732.14912776,
          208669093.00773,
          884125802,
          65672720.4708748,
          41658647.9999715,
          90595753018.6314,
          21089348.999,
          151447649.8,
          19326319.14375,
          1104344.22938102,
          38151999.9930997,
          40431856.9,
          5804204.88794916,
          2366066305.76482,
          14736400,
          334709223.483138,
          1104157.42169891,
          24215181.725,
          25593737.1355044,
          563336541.299966,
          43536800,
          22935396,
          2278150,
          200911.79151896,
          1207310,
          23150892.1679687,
          51173723.8166347,
          119606941,
          39195739.362088,
          184066828814,
          6906587610.38292,
          68194674.8711679,
          415032420,
          137517654.41397,
          181919.2435974,
          152270664.860648,
          792537250,
          719416990,
          65113302,
          6365285,
          10140044.4430293,
          4610340640.89,
          708506520,
          619478,
          12462620,
          88213,
          32221574.820996,
          13742738,
          14747200.0002,
          15863837.5,
          32565300,
          75614500,
          10495278,
          33098296530,
          15867695,
          20997476.8650231,
          210000000,
          11448949,
          69836100,
          21739971929,
          45110324,
          5702048,
          636462.55983338,
          17263355,
          6570807.65677618,
          13654082.4987998,
          616448,
          1377917,
          7822432.72439746,
          6243840,
          1000000000,
          116845228,
          9106714,
          11119200,
          7568281.24956067,
          26205539,
          5613550,
          196297971,
          824000000,
          61364813,
          978145,
          894026,
          9357088,
          1876146.443596,
          536982074,
          10969318.522954,
          3115258,
          30385540,
          6921653.89980891,
          99843408.3158479,
          18545757.5,
          2232901,
          64096052,
          10123200,
          20276099.146524,
          1317747500,
          13673406.4325268,
          69036016.8340164,
          19784224.6512734,
          133248297,
          18407259.0885883,
          1809467143,
          35138975,
          18133195,
          5167775,
          26042364.3735553,
          2622886,
          14161803,
          17801865.1605478,
          163055097500,
          2241009149.22257,
          122475638.389743,
          17995589.6469082,
          485214,
          143006669741.687,
          9704042,
          17453749.4042601,
          32646731.063036,
          33716526,
          8946653,
          5211553258.01514,
          2702855668.85288,
          4165967.57499639,
          17202361.088994,
          33986980,
          99990001.493466,
          175215859,
          6375259.04,
          12756367,
          5832306.875,
          481730566.566176,
          19281821413.4924,
          4500000,
          520891780,
          80316207,
          441250233.377,
          3964201248.87125,
          30089671530.5228,
          4229040.50393462,
          7847417.33355824,
          299797953,
          45483049.3398182,
          8478104.33969947,
          20166000,
          11916588.09471,
          53139835213.77,
          4818338.98949984,
          133932467.774108,
          10000000000,
          107325266.027783,
          643795911.540095,
          12446100.00278,
          14491014421,
          211297638.500483,
          247612453,
          80049082.9057215,
          4070212.1493016,
          25000000,
          71355477,
          27340501.6514783,
          31801461.1867843,
          16016864,
          21069346.2522598,
          5097689.71077377,
          795447,
          6986399.70430446,
          84300,
          19153632,
          41294520017,
          135862416.039898,
          560085952.404637,
          8125865.02097646,
          8645406.16776286,
          4993030.69736615,
          1416663.06600024,
          15580199.3087496,
          4890897,
          14746153.0962884,
          99553110528.8022,
          2100000000,
          5015881.37315389,
          9753753.61515394,
          4235111504,
          13634850,
          17992514.6469233,
          1867054873.28397,
          1578281.31341127,
          15846721.2482747,
          406091.925,
          35284717.173946,
          35687520,
          25150787.5,
          12925790.4226959,
          52293836.6277958,
          1170292.5,
          84613099.9999955,
          55565076.3863525,
          3824685012,
          23356790.1494191,
          780210700,
          22986929.0854247,
          29583989322.9213,
          73298203.8873662,
          5052555.91981545,
          69684455.4387001,
          3332922.5,
          100000000,
          24487944.0958204,
          980222595,
          7296537.5
         ],
         "xaxis": "x",
         "y": [
          "21000000",
          "0",
          "84000000",
          "0",
          "210000000",
          "21000000",
          "21000000000",
          "21000000",
          "20000000",
          "64000000",
          "2000000000",
          "384000000000",
          "169795588",
          "250000000",
          "100000000",
          "247000000",
          "84000000",
          "48166000",
          "21000000 ",
          "13140000",
          "18000000",
          "16555000000",
          "21000000000",
          "13500000000",
          "21000000 ",
          "299792458",
          "32000000",
          "11235813",
          "336000000",
          "1420609614",
          "70000000",
          "72245700",
          "90600000000",
          "21000000",
          "265420800",
          "20000000",
          "1350000",
          "42000000",
          "200000000",
          "10000000",
          "15000000000",
          "21000000",
          "337000000",
          "21000000",
          "250000000",
          "51200000",
          "888000000",
          "47011968",
          "42000000",
          "80000000",
          "250000",
          "0",
          "23000000",
          "84000000",
          "265420800",
          "45000000",
          "184467440735",
          "10000000000",
          "105120000",
          "1680000000",
          "166386000",
          "2628000",
          "160000000",
          "1000000000",
          "1000000000",
          "0",
          "0",
          "3371337",
          "10000000000",
          "1840000000",
          "619478",
          "21000000",
          "92000000000",
          "33000000",
          "65789100",
          "53760000",
          "21000000",
          "210240000",
          "250000000",
          "16906397",
          "0",
          "16000000",
          "21000000",
          "210000000",
          "81962100",
          "84000000",
          "21626280000 ",
          "84000000",
          "30000000",
          "168351300",
          "24000000",
          "20000000",
          "25000000",
          "616448",
          "25000000",
          "10000000",
          "9736000",
          "1200000000",
          "200000000",
          "10638298",
          "30000000",
          "21400000",
          "26205539",
          "21000000",
          "10000000000",
          "500000000",
          "228000000",
          "21000000",
          "2714286",
          "25000000",
          "9999999",
          "100000000000",
          "185000000",
          "3360000",
          "1000000000",
          "17000000",
          "100000000 ",
          "21000000",
          "2232901",
          "4000000000",
          "48252000",
          "35520400",
          "2500000000",
          "72000000",
          "105000000",
          "0",
          "340282367",
          "30000000",
          "2000000000",
          "100000000",
          "19276800",
          " 75000000",
          "60000000",
          "18900000",
          "54000000",
          "21000000",
          "200000000000",
          "5000000000",
          "1100000000",
          "21000000",
          "10500000000",
          "0",
          "20000000",
          "84000000",
          "100000000",
          "100000000",
          "88888888",
          "21000000000",
          "1800000000",
          "27000000",
          "21000000",
          "156306732.71",
          "100000000",
          "350000000",
          "45000000",
          "280000000",
          "31800000",
          "660000000",
          "85000000000",
          "12500000",
          "10000000000",
          "550000000",
          "999481516",
          "4999999999",
          " 90000000000",
          "19800000",
          "21000000",
          "500000000",
          "64000000",
          "23000000",
          "20166000",
          "23000000",
          "1000000000000",
          "16600000",
          "336000000",
          "10000000000",
          "100000000",
          "1100000000",
          "40000000",
          "18406979840",
          "500000000",
          "6500000000",
          "1000000000",
          "21000000",
          "25000000",
          "70000000",
          "300000000",
          "100000000",
          "18400000",
          "21000000",
          "26280000",
          "18000000",
          "10500000",
          "600000518",
          "150000000",
          "184000000000",
          "168000000",
          "1000000000",
          "22075700",
          "21000000",
          "21000000",
          "22105263",
          "1750000000",
          "88188888",
          "210000000",
          "184470000000",
          "2100000000",
          "25000000",
          "100000000",
          "7600000000",
          "84000000",
          "21000000",
          "8080000000",
          "105120001.44",
          "25228800",
          "21000000",
          "120000000",
          "262800000",
          "30886000",
          "100000000",
          "64000000",
          "2100000",
          "168000000",
          "98100000000",
          "4000000000",
          "7000000000",
          "1000000000",
          "42000000",
          "50000000000",
          "105000000",
          "5000000",
          "182000000",
          "2800000",
          "2100000000",
          "24487944",
          "1400222610",
          "21000000"
         ],
         "yaxis": "y"
        },
        {
         "customdata": [
          [
           "SHA-512"
          ],
          [
           "SHA-256"
          ],
          [
           "PoS"
          ],
          [
           "X11"
          ],
          [
           "Scrypt"
          ],
          [
           "Scrypt"
          ],
          [
           "X11"
          ],
          [
           "Multiple"
          ],
          [
           "PHI1612"
          ],
          [
           "Multiple"
          ],
          [
           "Counterparty"
          ],
          [
           "Scrypt"
          ],
          [
           "Scrypt"
          ],
          [
           "X11"
          ],
          [
           "Scrypt"
          ],
          [
           "Scrypt"
          ],
          [
           "Scrypt"
          ],
          [
           "PoS"
          ],
          [
           "POS 3.0"
          ],
          [
           "X13"
          ],
          [
           "X11"
          ],
          [
           "Scrypt"
          ],
          [
           "PoS"
          ],
          [
           "PoS"
          ],
          [
           "X13"
          ],
          [
           "PoS"
          ],
          [
           "PoS"
          ],
          [
           "PoS"
          ],
          [
           "Scrypt"
          ],
          [
           "Quark"
          ],
          [
           "Scrypt"
          ],
          [
           "X13"
          ],
          [
           "Scrypt"
          ],
          [
           "PoS"
          ],
          [
           "PoS"
          ],
          [
           "SHA-256"
          ],
          [
           "Scrypt"
          ],
          [
           "PoS"
          ],
          [
           "SHA-256"
          ],
          [
           "POS 3.0"
          ],
          [
           "SkunkHash v2 Raptor"
          ],
          [
           "Scrypt"
          ],
          [
           "PoS"
          ],
          [
           "SHA-512"
          ],
          [
           "Ouroboros"
          ],
          [
           "Lyra2REv2"
          ],
          [
           "POS 2.0"
          ],
          [
           "SHA-256"
          ],
          [
           "NIST5"
          ],
          [
           "Quark"
          ],
          [
           "Quark"
          ],
          [
           "X11"
          ],
          [
           "POS 3.0"
          ],
          [
           "Ethash"
          ],
          [
           "X13"
          ],
          [
           "Scrypt"
          ],
          [
           "VBFT"
          ],
          [
           "Scrypt"
          ],
          [
           "Green Protocol"
          ],
          [
           "PoS"
          ],
          [
           "PoS"
          ],
          [
           "X16R"
          ],
          [
           "Scrypt"
          ],
          [
           "Scrypt"
          ],
          [
           "X15"
          ],
          [
           "Quark"
          ],
          [
           "SHA-256"
          ],
          [
           "DPoS"
          ],
          [
           "Quark"
          ],
          [
           "Scrypt"
          ],
          [
           "Quark"
          ],
          [
           "X11"
          ],
          [
           "Scrypt"
          ],
          [
           "PoS"
          ],
          [
           "X11"
          ],
          [
           "XEVAN"
          ],
          [
           "X11"
          ],
          [
           "Equihash"
          ],
          [
           "Quark"
          ],
          [
           "X11"
          ],
          [
           "SHA-256"
          ],
          [
           "PoS"
          ],
          [
           "Scrypt"
          ],
          [
           "SHA-256"
          ],
          [
           "PoS"
          ],
          [
           "Scrypt"
          ]
         ],
         "hovertemplate": "<b>%{hovertext}</b><br><br>ProofType=PoS<br>TotalCoinsMined=%{x}<br>TotalCoinSupply=%{y}<br>Algorithm=%{customdata[0]}<extra></extra>",
         "hovertext": [
          "BTS",
          "XPY",
          "EXCL",
          "HYP",
          "MINT",
          "NAUT",
          "SUPER",
          "TES",
          "TIT",
          "XCR",
          "SJCX",
          "RBY",
          "NOTE",
          "U",
          "DIGS",
          "GPU",
          "ZEIT",
          "NEBU",
          "LIR",
          "MUDRA",
          "LC",
          "BTCR",
          "XPO",
          "CFC",
          "ROYAL",
          "TEAM",
          "FRE",
          "XCRE",
          "PND",
          "ASAFE2",
          "ZBC",
          "FIND",
          "RNS",
          "ATMOS",
          "MCRN",
          "PROC",
          "GRW",
          "PHR",
          "USC",
          "QTUM",
          "SIGT",
          "DFT",
          "STCN",
          "ODN",
          "ADA",
          "RUP",
          "KEK",
          "XIN",
          "BWK",
          "KLKS",
          "WAGE",
          "MONK",
          "TPAY",
          "MCT",
          "TOKC",
          "VLX",
          "ONT",
          "MEDIC",
          "BITG",
          "DEV",
          "NZL",
          "PROTON",
          "HWC",
          "XT3",
          "DKD",
          "POSQ",
          "BWS",
          "MUSE",
          "DTEM",
          "PNY",
          "VITAE",
          "ARE",
          "MMO",
          "KETAN",
          "PAXEX",
          "BTXC",
          "JMC",
          "PIRATE",
          "CSPN",
          "DASHP",
          "NEOS",
          "RADS",
          "XHI",
          "TCH",
          "PART",
          "XBC"
         ],
         "legendgroup": "PoS",
         "marker": {
          "color": "#00cc96",
          "symbol": "circle"
         },
         "mode": "markers",
         "name": "PoS",
         "orientation": "h",
         "showlegend": true,
         "type": "scatter",
         "x": [
          2741570000,
          11995334.8847328,
          5679705,
          1678520090.7713,
          21293925445.4969,
          16180000,
          50707661.7493518,
          80260463.7331396,
          1622326490.46336,
          100000000,
          51173144,
          27184490.3918338,
          174646113.934655,
          2689812,
          100000000,
          40477042,
          36971236046.8073,
          20000000,
          38589808.6658096,
          5000000,
          657000000,
          169598616,
          74033806.7949683,
          148716816,
          2500124,
          17818682.1654,
          50000000,
          20000000,
          33813143821.8337,
          10517772.7391666,
          2922613.96424908,
          14524851.4827,
          36050365,
          111135836.889,
          401421401,
          100545745,
          295135466.361878,
          11390225.9742772,
          10343113,
          100000000,
          107972766,
          18663297.3489799,
          4000000,
          25000000,
          25927070538,
          24000000,
          12330806.30517,
          8999999990,
          13247178.8807286,
          16955764.902064,
          27299680,
          4407252,
          20445861.5344251,
          1618033,
          230298925,
          25570013.1348022,
          650848625,
          267297676.3125,
          9803691.3618195,
          21876586.8530324,
          11075254.0929996,
          4403800,
          38706809.466535,
          7630000.0154,
          30284196.369129,
          2716264.95302831,
          57811001.000889,
          18194936,
          7082392.24744494,
          1042012.45227735,
          66053877.6256106,
          19269509.94,
          107763867.917675,
          9327131.59708692,
          4504639,
          6787405.18013774,
          17209923728.3266,
          13475920,
          1934701.67524713,
          715659.44237941,
          4392258.24647793,
          3821245.74150193,
          10000244677.7002,
          1000000000,
          9283137.5558676,
          128326.99633965
         ],
         "xaxis": "x",
         "y": [
          "3600570502",
          "12500000",
          "0",
          "0",
          "0",
          "16180000",
          "0",
          "100000000",
          "2300000000",
          "0",
          "500000000",
          "0",
          "500000000",
          "20000000",
          "100000000",
          "221052632",
          " 99000000000",
          "20000000",
          "33500000",
          "200000000",
          "657000000",
          "0",
          "74000000",
          "39999898",
          "2500124",
          "301000000",
          "50000000",
          "20000000",
          "32514916898",
          "15000000",
          "55000000",
          "14524851.4827",
          "34426423",
          "110290030",
          "400000000",
          "75000000000",
          "2000000000",
          "30000000",
          "200084200",
          "100000000",
          "137500000",
          "17405891.19707116",
          "61599965",
          "91388946",
          "45000000000",
          "24000000",
          "21000000",
          "9000000000",
          "27716121",
          "20000000",
          "120000000",
          "21000000",
          "25000000",
          "1618033",
          "800000000",
          "124000000",
          "1000000000",
          "500000000",
          "21000000",
          "88000000",
          "80000000",
          "45000000",
          "26000000",
          "44000000",
          "90000000",
          "650000000 ",
          "100262205",
          "18081806 ",
          "21000000",
          "16880000000",
          "100000000",
          "55000000",
          "260000000",
          "210000000",
          "100000000",
          "50000000",
          "0",
          "105000000",
          "13370000",
          "19700000",
          "21000000",
          "9000000",
          "10008835635",
          "1000000000",
          "8634140",
          "1000000"
         ],
         "yaxis": "y"
        },
        {
         "customdata": [
          [
           "Scrypt"
          ],
          [
           "Shabal256"
          ],
          [
           "Scrypt"
          ]
         ],
         "hovertemplate": "<b>%{hovertext}</b><br><br>ProofType=PoC<br>TotalCoinsMined=%{x}<br>TotalCoinSupply=%{y}<br>Algorithm=%{customdata[0]}<extra></extra>",
         "hovertext": [
          "CSC",
          "BURST",
          "SAFEX"
         ],
         "legendgroup": "PoC",
         "marker": {
          "color": "#ab63fa",
          "symbol": "circle"
         },
         "mode": "markers",
         "name": "PoC",
         "orientation": "h",
         "showlegend": true,
         "type": "scatter",
         "x": [
          39999997299.8568,
          1813033920,
          2147483647
         ],
         "xaxis": "x",
         "y": [
          "40000000000",
          "2158812800",
          "2147483647"
         ],
         "yaxis": "y"
        },
        {
         "customdata": [
          [
           "Scrypt"
          ]
         ],
         "hovertemplate": "<b>%{hovertext}</b><br><br>ProofType=PoS/PoW/PoT<br>TotalCoinsMined=%{x}<br>TotalCoinSupply=%{y}<br>Algorithm=%{customdata[0]}<extra></extra>",
         "hovertext": [
          "FLT"
         ],
         "legendgroup": "PoS/PoW/PoT",
         "marker": {
          "color": "#FFA15A",
          "symbol": "circle"
         },
         "mode": "markers",
         "name": "PoS/PoW/PoT",
         "orientation": "h",
         "showlegend": true,
         "type": "scatter",
         "x": [
          461829905.32893
         ],
         "xaxis": "x",
         "y": [
          "0"
         ],
         "yaxis": "y"
        },
        {
         "customdata": [
          [
           "Scrypt"
          ]
         ],
         "hovertemplate": "<b>%{hovertext}</b><br><br>ProofType=PoST<br>TotalCoinsMined=%{x}<br>TotalCoinSupply=%{y}<br>Algorithm=%{customdata[0]}<extra></extra>",
         "hovertext": [
          "VRC"
         ],
         "legendgroup": "PoST",
         "marker": {
          "color": "#19d3f3",
          "symbol": "circle"
         },
         "mode": "markers",
         "name": "PoST",
         "orientation": "h",
         "showlegend": true,
         "type": "scatter",
         "x": [
          32021108.4136696
         ],
         "xaxis": "x",
         "y": [
          "0"
         ],
         "yaxis": "y"
        },
        {
         "customdata": [
          [
           "SHA3"
          ]
         ],
         "hovertemplate": "<b>%{hovertext}</b><br><br>ProofType=PoW/nPoS<br>TotalCoinsMined=%{x}<br>TotalCoinSupply=%{y}<br>Algorithm=%{customdata[0]}<extra></extra>",
         "hovertext": [
          "NXS"
         ],
         "legendgroup": "PoW/nPoS",
         "marker": {
          "color": "#FF6692",
          "symbol": "circle"
         },
         "mode": "markers",
         "name": "PoW/nPoS",
         "orientation": "h",
         "showlegend": true,
         "type": "scatter",
         "x": [
          63657220
         ],
         "xaxis": "x",
         "y": [
          "78000000"
         ],
         "yaxis": "y"
        },
        {
         "customdata": [
          [
           "X11"
          ],
          [
           "XEVAN"
          ]
         ],
         "hovertemplate": "<b>%{hovertext}</b><br><br>ProofType=PoS/PoW<br>TotalCoinsMined=%{x}<br>TotalCoinSupply=%{y}<br>Algorithm=%{customdata[0]}<extra></extra>",
         "hovertext": [
          "SQL",
          "XBI"
         ],
         "legendgroup": "PoS/PoW",
         "marker": {
          "color": "#B6E880",
          "symbol": "circle"
         },
         "mode": "markers",
         "name": "PoS/PoW",
         "orientation": "h",
         "showlegend": true,
         "type": "scatter",
         "x": [
          329200.01639,
          10904963.0923455
         ],
         "xaxis": "x",
         "y": [
          "0",
          "21000000"
         ],
         "yaxis": "y"
        },
        {
         "customdata": [
          [
           "Equihash"
          ]
         ],
         "hovertemplate": "<b>%{hovertext}</b><br><br>ProofType=dPoW/PoW<br>TotalCoinsMined=%{x}<br>TotalCoinSupply=%{y}<br>Algorithm=%{customdata[0]}<extra></extra>",
         "hovertext": [
          "KMD"
         ],
         "legendgroup": "dPoW/PoW",
         "marker": {
          "color": "#FF97FF",
          "symbol": "circle"
         },
         "mode": "markers",
         "name": "dPoW/PoW",
         "orientation": "h",
         "showlegend": true,
         "type": "scatter",
         "x": [
          115898131
         ],
         "xaxis": "x",
         "y": [
          "200000000"
         ],
         "yaxis": "y"
        },
        {
         "customdata": [
          [
           "Scrypt"
          ]
         ],
         "hovertemplate": "<b>%{hovertext}</b><br><br>ProofType=PoW/PoW<br>TotalCoinsMined=%{x}<br>TotalCoinSupply=%{y}<br>Algorithm=%{customdata[0]}<extra></extra>",
         "hovertext": [
          "SCN"
         ],
         "legendgroup": "PoW/PoW",
         "marker": {
          "color": "#FECB52",
          "symbol": "circle"
         },
         "mode": "markers",
         "name": "PoW/PoW",
         "orientation": "h",
         "showlegend": true,
         "type": "scatter",
         "x": [
          665200057
         ],
         "xaxis": "x",
         "y": [
          "3100000000"
         ],
         "yaxis": "y"
        },
        {
         "customdata": [
          [
           "DPoS"
          ],
          [
           "DPoS"
          ],
          [
           "Semux BFT consensus"
          ],
          [
           "DPoS"
          ],
          [
           "DPoS"
          ],
          [
           "DPoS"
          ],
          [
           "DPoS"
          ],
          [
           "TRC10"
          ],
          [
           "SHA-256"
          ]
         ],
         "hovertemplate": "<b>%{hovertext}</b><br><br>ProofType=DPoS<br>TotalCoinsMined=%{x}<br>TotalCoinSupply=%{y}<br>Algorithm=%{customdata[0]}<extra></extra>",
         "hovertext": [
          "ARK",
          "TAU",
          "SEM",
          "ALX",
          "LSK",
          "EOS",
          "OXY",
          "BTT",
          "ZEPH"
         ],
         "legendgroup": "DPoS",
         "marker": {
          "color": "#636efa",
          "symbol": "circle"
         },
         "mode": "markers",
         "name": "DPoS",
         "orientation": "h",
         "showlegend": true,
         "type": "scatter",
         "x": [
          108202084,
          288090567.493887,
          1231147,
          1000000000,
          120012140,
          1020544523.0722,
          1122382283.37,
          989988713439.649,
          1999999995.3056
         ],
         "xaxis": "x",
         "y": [
          "125000000",
          "500000000",
          "100000000",
          "1000000000",
          "159918400",
          "0",
          "0",
          "990000000000",
          "2000000000"
         ],
         "yaxis": "y"
        },
        {
         "customdata": [
          [
           "X11"
          ]
         ],
         "hovertemplate": "<b>%{hovertext}</b><br><br>ProofType=TPoS<br>TotalCoinsMined=%{x}<br>TotalCoinSupply=%{y}<br>Algorithm=%{customdata[0]}<extra></extra>",
         "hovertext": [
          "XSN"
         ],
         "legendgroup": "TPoS",
         "marker": {
          "color": "#EF553B",
          "symbol": "circle"
         },
         "mode": "markers",
         "name": "TPoS",
         "orientation": "h",
         "showlegend": true,
         "type": "scatter",
         "x": [
          75590369
         ],
         "xaxis": "x",
         "y": [
          "76500000"
         ],
         "yaxis": "y"
        },
        {
         "customdata": [
          [
           "Scrypt"
          ]
         ],
         "hovertemplate": "<b>%{hovertext}</b><br><br>ProofType=PoW/PoS <br>TotalCoinsMined=%{x}<br>TotalCoinSupply=%{y}<br>Algorithm=%{customdata[0]}<extra></extra>",
         "hovertext": [
          "FRST"
         ],
         "legendgroup": "PoW/PoS ",
         "marker": {
          "color": "#00cc96",
          "symbol": "circle"
         },
         "mode": "markers",
         "name": "PoW/PoS ",
         "orientation": "h",
         "showlegend": true,
         "type": "scatter",
         "x": [
          110000000
         ],
         "xaxis": "x",
         "y": [
          "110000000"
         ],
         "yaxis": "y"
        },
        {
         "customdata": [
          [
           "VeChainThor Authority"
          ]
         ],
         "hovertemplate": "<b>%{hovertext}</b><br><br>ProofType=Proof of Authority<br>TotalCoinsMined=%{x}<br>TotalCoinSupply=%{y}<br>Algorithm=%{customdata[0]}<extra></extra>",
         "hovertext": [
          "VET"
         ],
         "legendgroup": "Proof of Authority",
         "marker": {
          "color": "#ab63fa",
          "symbol": "circle"
         },
         "mode": "markers",
         "name": "Proof of Authority",
         "orientation": "h",
         "showlegend": true,
         "type": "scatter",
         "x": [
          55454734800
         ],
         "xaxis": "x",
         "y": [
          "86712634466"
         ],
         "yaxis": "y"
        },
        {
         "customdata": [
          [
           "Scrypt"
          ]
         ],
         "hovertemplate": "<b>%{hovertext}</b><br><br>ProofType=PoW and PoS<br>TotalCoinsMined=%{x}<br>TotalCoinSupply=%{y}<br>Algorithm=%{customdata[0]}<extra></extra>",
         "hovertext": [
          "MBC"
         ],
         "legendgroup": "PoW and PoS",
         "marker": {
          "color": "#FFA15A",
          "symbol": "circle"
         },
         "mode": "markers",
         "name": "PoW and PoS",
         "orientation": "h",
         "showlegend": true,
         "type": "scatter",
         "x": [
          9399342.52839847
         ],
         "xaxis": "x",
         "y": [
          "30000000"
         ],
         "yaxis": "y"
        },
        {
         "customdata": [
          [
           "Proof-of-BibleHash"
          ]
         ],
         "hovertemplate": "<b>%{hovertext}</b><br><br>ProofType=POBh<br>TotalCoinsMined=%{x}<br>TotalCoinSupply=%{y}<br>Algorithm=%{customdata[0]}<extra></extra>",
         "hovertext": [
          "BBP"
         ],
         "legendgroup": "POBh",
         "marker": {
          "color": "#19d3f3",
          "symbol": "circle"
         },
         "mode": "markers",
         "name": "POBh",
         "orientation": "h",
         "showlegend": true,
         "type": "scatter",
         "x": [
          1772091549.88818
         ],
         "xaxis": "x",
         "y": [
          "5200000000"
         ],
         "yaxis": "y"
        },
        {
         "customdata": [
          [
           "SHA-256 + Hive"
          ]
         ],
         "hovertemplate": "<b>%{hovertext}</b><br><br>ProofType=PoW + Hive<br>TotalCoinsMined=%{x}<br>TotalCoinSupply=%{y}<br>Algorithm=%{customdata[0]}<extra></extra>",
         "hovertext": [
          "LCC"
         ],
         "legendgroup": "PoW + Hive",
         "marker": {
          "color": "#FF6692",
          "symbol": "circle"
         },
         "mode": "markers",
         "name": "PoW + Hive",
         "orientation": "h",
         "showlegend": true,
         "type": "scatter",
         "x": [
          638382332.208514
         ],
         "xaxis": "x",
         "y": [
          "840000000"
         ],
         "yaxis": "y"
        },
        {
         "customdata": [
          [
           "Proof-of-Authority"
          ]
         ],
         "hovertemplate": "<b>%{hovertext}</b><br><br>ProofType=PoA<br>TotalCoinsMined=%{x}<br>TotalCoinSupply=%{y}<br>Algorithm=%{customdata[0]}<extra></extra>",
         "hovertext": [
          "POA"
         ],
         "legendgroup": "PoA",
         "marker": {
          "color": "#B6E880",
          "symbol": "circle"
         },
         "mode": "markers",
         "name": "PoA",
         "orientation": "h",
         "showlegend": true,
         "type": "scatter",
         "x": [
          204479039
         ],
         "xaxis": "x",
         "y": [
          "252460800"
         ],
         "yaxis": "y"
        },
        {
         "customdata": [
          [
           "Scrypt"
          ]
         ],
         "hovertemplate": "<b>%{hovertext}</b><br><br>ProofType=HPoW<br>TotalCoinsMined=%{x}<br>TotalCoinSupply=%{y}<br>Algorithm=%{customdata[0]}<extra></extra>",
         "hovertext": [
          "LYNX"
         ],
         "legendgroup": "HPoW",
         "marker": {
          "color": "#FF97FF",
          "symbol": "circle"
         },
         "mode": "markers",
         "name": "HPoW",
         "orientation": "h",
         "showlegend": true,
         "type": "scatter",
         "x": [
          77872059787.8998
         ],
         "xaxis": "x",
         "y": [
          "92000000000"
         ],
         "yaxis": "y"
        },
        {
         "customdata": [
          [
           "SHA-512"
          ]
         ],
         "hovertemplate": "<b>%{hovertext}</b><br><br>ProofType=Zero-Knowledge Proof<br>TotalCoinsMined=%{x}<br>TotalCoinSupply=%{y}<br>Algorithm=%{customdata[0]}<extra></extra>",
         "hovertext": [
          "KCASH"
         ],
         "legendgroup": "Zero-Knowledge Proof",
         "marker": {
          "color": "#FECB52",
          "symbol": "circle"
         },
         "mode": "markers",
         "name": "Zero-Knowledge Proof",
         "orientation": "h",
         "showlegend": true,
         "type": "scatter",
         "x": [
          1000000000
         ],
         "xaxis": "x",
         "y": [
          "1000000000"
         ],
         "yaxis": "y"
        },
        {
         "customdata": [
          [
           "ECC 256K1"
          ]
         ],
         "hovertemplate": "<b>%{hovertext}</b><br><br>ProofType=DPOS<br>TotalCoinsMined=%{x}<br>TotalCoinSupply=%{y}<br>Algorithm=%{customdata[0]}<extra></extra>",
         "hovertext": [
          "AAC"
         ],
         "legendgroup": "DPOS",
         "marker": {
          "color": "#636efa",
          "symbol": "circle"
         },
         "mode": "markers",
         "name": "DPOS",
         "orientation": "h",
         "showlegend": true,
         "type": "scatter",
         "x": [
          1000000000
         ],
         "xaxis": "x",
         "y": [
          "1000000000"
         ],
         "yaxis": "y"
        },
        {
         "customdata": [
          [
           "XEVAN"
          ]
         ],
         "hovertemplate": "<b>%{hovertext}</b><br><br>ProofType=Pos<br>TotalCoinsMined=%{x}<br>TotalCoinSupply=%{y}<br>Algorithm=%{customdata[0]}<extra></extra>",
         "hovertext": [
          "BITM"
         ],
         "legendgroup": "Pos",
         "marker": {
          "color": "#EF553B",
          "symbol": "circle"
         },
         "mode": "markers",
         "name": "Pos",
         "orientation": "h",
         "showlegend": true,
         "type": "scatter",
         "x": [
          208515864.367343
         ],
         "xaxis": "x",
         "y": [
          "70000000000"
         ],
         "yaxis": "y"
        },
        {
         "customdata": [
          [
           "X11"
          ]
         ],
         "hovertemplate": "<b>%{hovertext}</b><br><br>ProofType=Proof of Trust<br>TotalCoinsMined=%{x}<br>TotalCoinSupply=%{y}<br>Algorithm=%{customdata[0]}<extra></extra>",
         "hovertext": [
          "CRB"
         ],
         "legendgroup": "Proof of Trust",
         "marker": {
          "color": "#00cc96",
          "symbol": "circle"
         },
         "mode": "markers",
         "name": "Proof of Trust",
         "orientation": "h",
         "showlegend": true,
         "type": "scatter",
         "x": [
          16901016.6609755
         ],
         "xaxis": "x",
         "y": [
          "16504333"
         ],
         "yaxis": "y"
        },
        {
         "customdata": [
          [
           "SHA3-256"
          ]
         ],
         "hovertemplate": "<b>%{hovertext}</b><br><br>ProofType=DPoC<br>TotalCoinsMined=%{x}<br>TotalCoinSupply=%{y}<br>Algorithm=%{customdata[0]}<extra></extra>",
         "hovertext": [
          "FIII"
         ],
         "legendgroup": "DPoC",
         "marker": {
          "color": "#ab63fa",
          "symbol": "circle"
         },
         "mode": "markers",
         "name": "DPoC",
         "orientation": "h",
         "showlegend": true,
         "type": "scatter",
         "x": [
          -5917977547.96773
         ],
         "xaxis": "x",
         "y": [
          "5000000000"
         ],
         "yaxis": "y"
        },
        {
         "customdata": [
          [
           "Leased POS"
          ]
         ],
         "hovertemplate": "<b>%{hovertext}</b><br><br>ProofType=LPoS<br>TotalCoinsMined=%{x}<br>TotalCoinSupply=%{y}<br>Algorithm=%{customdata[0]}<extra></extra>",
         "hovertext": [
          "WAVES"
         ],
         "legendgroup": "LPoS",
         "marker": {
          "color": "#FFA15A",
          "symbol": "circle"
         },
         "mode": "markers",
         "name": "LPoS",
         "orientation": "h",
         "showlegend": true,
         "type": "scatter",
         "x": [
          100000000
         ],
         "xaxis": "x",
         "y": [
          "100000000"
         ],
         "yaxis": "y"
        },
        {
         "customdata": [
          [
           "PoS"
          ]
         ],
         "hovertemplate": "<b>%{hovertext}</b><br><br>ProofType=PoS/LPoS<br>TotalCoinsMined=%{x}<br>TotalCoinSupply=%{y}<br>Algorithm=%{customdata[0]}<extra></extra>",
         "hovertext": [
          "NXT"
         ],
         "legendgroup": "PoS/LPoS",
         "marker": {
          "color": "#19d3f3",
          "symbol": "circle"
         },
         "mode": "markers",
         "name": "PoS/LPoS",
         "orientation": "h",
         "showlegend": true,
         "type": "scatter",
         "x": [
          1000000000
         ],
         "xaxis": "x",
         "y": [
          "1000000000"
         ],
         "yaxis": "y"
        }
       ],
       "layout": {
        "legend": {
         "title": {
          "text": "ProofType"
         },
         "tracegroupgap": 0
        },
        "margin": {
         "t": 60
        },
        "template": {
         "data": {
          "bar": [
           {
            "error_x": {
             "color": "#2a3f5f"
            },
            "error_y": {
             "color": "#2a3f5f"
            },
            "marker": {
             "line": {
              "color": "#E5ECF6",
              "width": 0.5
             },
             "pattern": {
              "fillmode": "overlay",
              "size": 10,
              "solidity": 0.2
             }
            },
            "type": "bar"
           }
          ],
          "barpolar": [
           {
            "marker": {
             "line": {
              "color": "#E5ECF6",
              "width": 0.5
             },
             "pattern": {
              "fillmode": "overlay",
              "size": 10,
              "solidity": 0.2
             }
            },
            "type": "barpolar"
           }
          ],
          "carpet": [
           {
            "aaxis": {
             "endlinecolor": "#2a3f5f",
             "gridcolor": "white",
             "linecolor": "white",
             "minorgridcolor": "white",
             "startlinecolor": "#2a3f5f"
            },
            "baxis": {
             "endlinecolor": "#2a3f5f",
             "gridcolor": "white",
             "linecolor": "white",
             "minorgridcolor": "white",
             "startlinecolor": "#2a3f5f"
            },
            "type": "carpet"
           }
          ],
          "choropleth": [
           {
            "colorbar": {
             "outlinewidth": 0,
             "ticks": ""
            },
            "type": "choropleth"
           }
          ],
          "contour": [
           {
            "colorbar": {
             "outlinewidth": 0,
             "ticks": ""
            },
            "colorscale": [
             [
              0,
              "#0d0887"
             ],
             [
              0.1111111111111111,
              "#46039f"
             ],
             [
              0.2222222222222222,
              "#7201a8"
             ],
             [
              0.3333333333333333,
              "#9c179e"
             ],
             [
              0.4444444444444444,
              "#bd3786"
             ],
             [
              0.5555555555555556,
              "#d8576b"
             ],
             [
              0.6666666666666666,
              "#ed7953"
             ],
             [
              0.7777777777777778,
              "#fb9f3a"
             ],
             [
              0.8888888888888888,
              "#fdca26"
             ],
             [
              1,
              "#f0f921"
             ]
            ],
            "type": "contour"
           }
          ],
          "contourcarpet": [
           {
            "colorbar": {
             "outlinewidth": 0,
             "ticks": ""
            },
            "type": "contourcarpet"
           }
          ],
          "heatmap": [
           {
            "colorbar": {
             "outlinewidth": 0,
             "ticks": ""
            },
            "colorscale": [
             [
              0,
              "#0d0887"
             ],
             [
              0.1111111111111111,
              "#46039f"
             ],
             [
              0.2222222222222222,
              "#7201a8"
             ],
             [
              0.3333333333333333,
              "#9c179e"
             ],
             [
              0.4444444444444444,
              "#bd3786"
             ],
             [
              0.5555555555555556,
              "#d8576b"
             ],
             [
              0.6666666666666666,
              "#ed7953"
             ],
             [
              0.7777777777777778,
              "#fb9f3a"
             ],
             [
              0.8888888888888888,
              "#fdca26"
             ],
             [
              1,
              "#f0f921"
             ]
            ],
            "type": "heatmap"
           }
          ],
          "heatmapgl": [
           {
            "colorbar": {
             "outlinewidth": 0,
             "ticks": ""
            },
            "colorscale": [
             [
              0,
              "#0d0887"
             ],
             [
              0.1111111111111111,
              "#46039f"
             ],
             [
              0.2222222222222222,
              "#7201a8"
             ],
             [
              0.3333333333333333,
              "#9c179e"
             ],
             [
              0.4444444444444444,
              "#bd3786"
             ],
             [
              0.5555555555555556,
              "#d8576b"
             ],
             [
              0.6666666666666666,
              "#ed7953"
             ],
             [
              0.7777777777777778,
              "#fb9f3a"
             ],
             [
              0.8888888888888888,
              "#fdca26"
             ],
             [
              1,
              "#f0f921"
             ]
            ],
            "type": "heatmapgl"
           }
          ],
          "histogram": [
           {
            "marker": {
             "pattern": {
              "fillmode": "overlay",
              "size": 10,
              "solidity": 0.2
             }
            },
            "type": "histogram"
           }
          ],
          "histogram2d": [
           {
            "colorbar": {
             "outlinewidth": 0,
             "ticks": ""
            },
            "colorscale": [
             [
              0,
              "#0d0887"
             ],
             [
              0.1111111111111111,
              "#46039f"
             ],
             [
              0.2222222222222222,
              "#7201a8"
             ],
             [
              0.3333333333333333,
              "#9c179e"
             ],
             [
              0.4444444444444444,
              "#bd3786"
             ],
             [
              0.5555555555555556,
              "#d8576b"
             ],
             [
              0.6666666666666666,
              "#ed7953"
             ],
             [
              0.7777777777777778,
              "#fb9f3a"
             ],
             [
              0.8888888888888888,
              "#fdca26"
             ],
             [
              1,
              "#f0f921"
             ]
            ],
            "type": "histogram2d"
           }
          ],
          "histogram2dcontour": [
           {
            "colorbar": {
             "outlinewidth": 0,
             "ticks": ""
            },
            "colorscale": [
             [
              0,
              "#0d0887"
             ],
             [
              0.1111111111111111,
              "#46039f"
             ],
             [
              0.2222222222222222,
              "#7201a8"
             ],
             [
              0.3333333333333333,
              "#9c179e"
             ],
             [
              0.4444444444444444,
              "#bd3786"
             ],
             [
              0.5555555555555556,
              "#d8576b"
             ],
             [
              0.6666666666666666,
              "#ed7953"
             ],
             [
              0.7777777777777778,
              "#fb9f3a"
             ],
             [
              0.8888888888888888,
              "#fdca26"
             ],
             [
              1,
              "#f0f921"
             ]
            ],
            "type": "histogram2dcontour"
           }
          ],
          "mesh3d": [
           {
            "colorbar": {
             "outlinewidth": 0,
             "ticks": ""
            },
            "type": "mesh3d"
           }
          ],
          "parcoords": [
           {
            "line": {
             "colorbar": {
              "outlinewidth": 0,
              "ticks": ""
             }
            },
            "type": "parcoords"
           }
          ],
          "pie": [
           {
            "automargin": true,
            "type": "pie"
           }
          ],
          "scatter": [
           {
            "marker": {
             "colorbar": {
              "outlinewidth": 0,
              "ticks": ""
             }
            },
            "type": "scatter"
           }
          ],
          "scatter3d": [
           {
            "line": {
             "colorbar": {
              "outlinewidth": 0,
              "ticks": ""
             }
            },
            "marker": {
             "colorbar": {
              "outlinewidth": 0,
              "ticks": ""
             }
            },
            "type": "scatter3d"
           }
          ],
          "scattercarpet": [
           {
            "marker": {
             "colorbar": {
              "outlinewidth": 0,
              "ticks": ""
             }
            },
            "type": "scattercarpet"
           }
          ],
          "scattergeo": [
           {
            "marker": {
             "colorbar": {
              "outlinewidth": 0,
              "ticks": ""
             }
            },
            "type": "scattergeo"
           }
          ],
          "scattergl": [
           {
            "marker": {
             "colorbar": {
              "outlinewidth": 0,
              "ticks": ""
             }
            },
            "type": "scattergl"
           }
          ],
          "scattermapbox": [
           {
            "marker": {
             "colorbar": {
              "outlinewidth": 0,
              "ticks": ""
             }
            },
            "type": "scattermapbox"
           }
          ],
          "scatterpolar": [
           {
            "marker": {
             "colorbar": {
              "outlinewidth": 0,
              "ticks": ""
             }
            },
            "type": "scatterpolar"
           }
          ],
          "scatterpolargl": [
           {
            "marker": {
             "colorbar": {
              "outlinewidth": 0,
              "ticks": ""
             }
            },
            "type": "scatterpolargl"
           }
          ],
          "scatterternary": [
           {
            "marker": {
             "colorbar": {
              "outlinewidth": 0,
              "ticks": ""
             }
            },
            "type": "scatterternary"
           }
          ],
          "surface": [
           {
            "colorbar": {
             "outlinewidth": 0,
             "ticks": ""
            },
            "colorscale": [
             [
              0,
              "#0d0887"
             ],
             [
              0.1111111111111111,
              "#46039f"
             ],
             [
              0.2222222222222222,
              "#7201a8"
             ],
             [
              0.3333333333333333,
              "#9c179e"
             ],
             [
              0.4444444444444444,
              "#bd3786"
             ],
             [
              0.5555555555555556,
              "#d8576b"
             ],
             [
              0.6666666666666666,
              "#ed7953"
             ],
             [
              0.7777777777777778,
              "#fb9f3a"
             ],
             [
              0.8888888888888888,
              "#fdca26"
             ],
             [
              1,
              "#f0f921"
             ]
            ],
            "type": "surface"
           }
          ],
          "table": [
           {
            "cells": {
             "fill": {
              "color": "#EBF0F8"
             },
             "line": {
              "color": "white"
             }
            },
            "header": {
             "fill": {
              "color": "#C8D4E3"
             },
             "line": {
              "color": "white"
             }
            },
            "type": "table"
           }
          ]
         },
         "layout": {
          "annotationdefaults": {
           "arrowcolor": "#2a3f5f",
           "arrowhead": 0,
           "arrowwidth": 1
          },
          "autotypenumbers": "strict",
          "coloraxis": {
           "colorbar": {
            "outlinewidth": 0,
            "ticks": ""
           }
          },
          "colorscale": {
           "diverging": [
            [
             0,
             "#8e0152"
            ],
            [
             0.1,
             "#c51b7d"
            ],
            [
             0.2,
             "#de77ae"
            ],
            [
             0.3,
             "#f1b6da"
            ],
            [
             0.4,
             "#fde0ef"
            ],
            [
             0.5,
             "#f7f7f7"
            ],
            [
             0.6,
             "#e6f5d0"
            ],
            [
             0.7,
             "#b8e186"
            ],
            [
             0.8,
             "#7fbc41"
            ],
            [
             0.9,
             "#4d9221"
            ],
            [
             1,
             "#276419"
            ]
           ],
           "sequential": [
            [
             0,
             "#0d0887"
            ],
            [
             0.1111111111111111,
             "#46039f"
            ],
            [
             0.2222222222222222,
             "#7201a8"
            ],
            [
             0.3333333333333333,
             "#9c179e"
            ],
            [
             0.4444444444444444,
             "#bd3786"
            ],
            [
             0.5555555555555556,
             "#d8576b"
            ],
            [
             0.6666666666666666,
             "#ed7953"
            ],
            [
             0.7777777777777778,
             "#fb9f3a"
            ],
            [
             0.8888888888888888,
             "#fdca26"
            ],
            [
             1,
             "#f0f921"
            ]
           ],
           "sequentialminus": [
            [
             0,
             "#0d0887"
            ],
            [
             0.1111111111111111,
             "#46039f"
            ],
            [
             0.2222222222222222,
             "#7201a8"
            ],
            [
             0.3333333333333333,
             "#9c179e"
            ],
            [
             0.4444444444444444,
             "#bd3786"
            ],
            [
             0.5555555555555556,
             "#d8576b"
            ],
            [
             0.6666666666666666,
             "#ed7953"
            ],
            [
             0.7777777777777778,
             "#fb9f3a"
            ],
            [
             0.8888888888888888,
             "#fdca26"
            ],
            [
             1,
             "#f0f921"
            ]
           ]
          },
          "colorway": [
           "#636efa",
           "#EF553B",
           "#00cc96",
           "#ab63fa",
           "#FFA15A",
           "#19d3f3",
           "#FF6692",
           "#B6E880",
           "#FF97FF",
           "#FECB52"
          ],
          "font": {
           "color": "#2a3f5f"
          },
          "geo": {
           "bgcolor": "white",
           "lakecolor": "white",
           "landcolor": "#E5ECF6",
           "showlakes": true,
           "showland": true,
           "subunitcolor": "white"
          },
          "hoverlabel": {
           "align": "left"
          },
          "hovermode": "closest",
          "mapbox": {
           "style": "light"
          },
          "paper_bgcolor": "white",
          "plot_bgcolor": "#E5ECF6",
          "polar": {
           "angularaxis": {
            "gridcolor": "white",
            "linecolor": "white",
            "ticks": ""
           },
           "bgcolor": "#E5ECF6",
           "radialaxis": {
            "gridcolor": "white",
            "linecolor": "white",
            "ticks": ""
           }
          },
          "scene": {
           "xaxis": {
            "backgroundcolor": "#E5ECF6",
            "gridcolor": "white",
            "gridwidth": 2,
            "linecolor": "white",
            "showbackground": true,
            "ticks": "",
            "zerolinecolor": "white"
           },
           "yaxis": {
            "backgroundcolor": "#E5ECF6",
            "gridcolor": "white",
            "gridwidth": 2,
            "linecolor": "white",
            "showbackground": true,
            "ticks": "",
            "zerolinecolor": "white"
           },
           "zaxis": {
            "backgroundcolor": "#E5ECF6",
            "gridcolor": "white",
            "gridwidth": 2,
            "linecolor": "white",
            "showbackground": true,
            "ticks": "",
            "zerolinecolor": "white"
           }
          },
          "shapedefaults": {
           "line": {
            "color": "#2a3f5f"
           }
          },
          "ternary": {
           "aaxis": {
            "gridcolor": "white",
            "linecolor": "white",
            "ticks": ""
           },
           "baxis": {
            "gridcolor": "white",
            "linecolor": "white",
            "ticks": ""
           },
           "bgcolor": "#E5ECF6",
           "caxis": {
            "gridcolor": "white",
            "linecolor": "white",
            "ticks": ""
           }
          },
          "title": {
           "x": 0.05
          },
          "xaxis": {
           "automargin": true,
           "gridcolor": "white",
           "linecolor": "white",
           "ticks": "",
           "title": {
            "standoff": 15
           },
           "zerolinecolor": "white",
           "zerolinewidth": 2
          },
          "yaxis": {
           "automargin": true,
           "gridcolor": "white",
           "linecolor": "white",
           "ticks": "",
           "title": {
            "standoff": 15
           },
           "zerolinecolor": "white",
           "zerolinewidth": 2
          }
         }
        },
        "xaxis": {
         "anchor": "y",
         "domain": [
          0,
          1
         ],
         "title": {
          "text": "TotalCoinsMined"
         }
        },
        "yaxis": {
         "anchor": "x",
         "domain": [
          0,
          1
         ],
         "title": {
          "text": "TotalCoinSupply"
         }
        }
       }
      }
     },
     "metadata": {},
     "output_type": "display_data"
    }
   ],
   "source": [
    "# Scale data to create the scatter plot\n",
    "# Plot the scatter with x=\"TotalCoinsMined\" and y=\"TotalCoinSupply\"\n",
    "fig = px.scatter(clustered_df, x='TotalCoinsMined', y='TotalCoinSupply',color=\"ProofType\",hover_name=\"CoinName\",hover_data=[\"Algorithm\"])\n",
    "fig.show()\n"
   ]
  },
  {
   "cell_type": "code",
   "execution_count": null,
   "metadata": {},
   "outputs": [],
   "source": [
    "\n"
   ]
  }
 ],
 "metadata": {
  "file_extension": ".py",
  "kernelspec": {
   "display_name": "Python 3",
   "language": "python",
   "name": "python3"
  },
  "language_info": {
   "codemirror_mode": {
    "name": "ipython",
    "version": 3
   },
   "file_extension": ".py",
   "mimetype": "text/x-python",
   "name": "python",
   "nbconvert_exporter": "python",
   "pygments_lexer": "ipython3",
   "version": "3.9.7"
  },
  "mimetype": "text/x-python",
  "name": "python",
  "npconvert_exporter": "python",
  "pygments_lexer": "ipython3",
  "version": 3
 },
 "nbformat": 4,
 "nbformat_minor": 4
}
